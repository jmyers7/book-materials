{
 "cells": [
  {
   "cell_type": "markdown",
   "metadata": {
    "id": "T1Szdc3bqHjo"
   },
   "source": [
    "# Chapter 6: A first look at probabilistic models\n",
    "\n",
    "In [Chapter 6](https://mml.johnmyersmath.com/stats-book/chapters/theory-to-practice.html#) of the book, we worked with a dataset consisting of listing prices of a collection of Airbnbs in Austin, Texas, and we explored the possibilities of modeling this dataset probabilistically. But it turns out that that dataset contains more variables than just price. In fact, it is also contains the _number of reviews_ for each listing over the observation period of 12 months (discrete count data!). In this programming assignment, we will construct two candidate probabilistic models for this new variable, and we will use the _model checking_ and _goodness of fit_ plots and visualization techniques from [Chapter 6](https://mml.johnmyersmath.com/stats-book/chapters/theory-to-practice.html#) to decide which of the two models provides the best fit to the data.\n",
    "\n",
    "While we used the powerful Seaborn and Statsmodels libraries in the book to produce these plots, I will have you generate these plots _from scratch_ for the first probabilistic model. This will give you the opportunity to do a deeper dive into the theory and to make sure that you truly understand what's going on. However, for the second model, you'll be allowed to use Seaborn and Statsmodels.\n",
    "\n",
    "This might be the most important programming assignment during this first semester since it ties together so much of the material and also shows you how the theory is applied in practice. If you like model building, just wait until [Chapter 11](https://mml.johnmyersmath.com/stats-book/chapters/models.html), when things get really fun!"
   ]
  },
  {
   "cell_type": "markdown",
   "metadata": {
    "id": "8idFpo6iqSQz"
   },
   "source": [
    "## Directions\n",
    "\n",
    "1. The programming assignment is organized into sequences of short problems. You can see the structure of the programming assignment by opening the \"Table of Contents\" along the left side of the notebook (if you are using Google Colab or Jupyter Lab).\n",
    "\n",
    "3. Each problem contains a blank cell containing the following comment: `# ENTER YOUR CODE IN THIS CELL`. Enter your code in these cells below the comment, being sure to not erase the comment. There are usually directions on the precise syntax that you will use to enter your solution properly. Please pay very careful attention to these directions.\n",
    "\n",
    "4. Below most of the solution cells are \"autograder\" cells. Do not alter the autograder cells in any way.\n",
    "\n",
    "5. Do not add any cells of your own to the notebook, or delete any existing cells (either code or markdown)."
   ]
  },
  {
   "cell_type": "markdown",
   "metadata": {
    "id": "GozHFp1TqWms"
   },
   "source": [
    "## Submission instructions\n",
    "\n",
    "1. Once you have finished entering all your solutions, you will want to rerun all cells from scratch to ensure that everything works OK. To do this in Google Colab, click \"Runtime -> Restart and run all\" along the top of the notebook.\n",
    "\n",
    "2. Now scroll back through your notebook and make sure that all code cells ran properly.\n",
    "\n",
    "3. If everything looks OK, save your assignment and upload the `.ipynb` file at the provided link on the course <a href=\"https://github.com/jmyers7/stats-book-materials\">GitHub repo</a>. Late submissions are not accepted.\n",
    "\n",
    "4. You may submit multiple times, but I will only grade your last submission."
   ]
  },
  {
   "cell_type": "markdown",
   "metadata": {
    "id": "52-vxbOZqTI2"
   },
   "source": [
    "## Importing the data and initial analysis\n",
    "\n",
    "We begin, as usual, by importing all the standard libraries for this assignment."
   ]
  },
  {
   "cell_type": "code",
   "execution_count": null,
   "metadata": {
    "id": "Zvo3reGXqM2v"
   },
   "outputs": [],
   "source": [
    "import pandas as pd\n",
    "import numpy as np\n",
    "import seaborn as sns\n",
    "import scipy as sp\n",
    "from statsmodels.graphics.gofplots import qqplot\n",
    "import matplotlib.pyplot as plt\n",
    "import matplotlib_inline.backend_inline\n",
    "# set matplotlib to output pretty .svg's, rather than ugly .png's\n",
    "matplotlib_inline.backend_inline.set_matplotlib_formats('svg')"
   ]
  },
  {
   "cell_type": "markdown",
   "metadata": {
    "id": "btnzCLk3vraU"
   },
   "source": [
    "Now, we read in the data from our course's [Github repository](https://github.com/jmyers7/stats-book-materials/tree/main):"
   ]
  },
  {
   "cell_type": "code",
   "execution_count": null,
   "metadata": {
    "id": "9GOCWXq7qh8b"
   },
   "outputs": [],
   "source": [
    "url = 'https://raw.githubusercontent.com/jmyers7/stats-book-materials/main/data/data-4-1.csv'\n",
    "srs = pd.read_csv(url).drop(columns=['Unnamed: 0']).squeeze()\n",
    "srs"
   ]
  },
  {
   "cell_type": "markdown",
   "metadata": {
    "id": "I-NgK5Govzd8"
   },
   "source": [
    "Since we are only dealing with one variable in this assignment---the number of reviews for each Airbnb listing---we have saved the data into a Pandas Series, rather than a DataFrame. For this reason, we saved the data into the variable `srs` instead of our usual `df`.\n",
    "\n",
    "Notice that there are $14{,}694$ data points in our series. The first listing (at index $0$) has $648$ reviews, while the last one (at index $14{,}693$) has no reviews at all.\n",
    "\n",
    "Let's print out the summary statistics of our variable:"
   ]
  },
  {
   "cell_type": "code",
   "execution_count": null,
   "metadata": {
    "id": "t5eEpVfSw5TS"
   },
   "outputs": [],
   "source": [
    "srs.describe()"
   ]
  },
  {
   "cell_type": "markdown",
   "metadata": {
    "id": "yy0lFe1vw-d0"
   },
   "source": [
    "In particular, we see the mean is about $37$ while the median is $9$, and that the maximum number of reviews is a _huge_ $1{,}124$. This tells us that the data is _extremely_ right-skewed (i.e., it has a long tail stretching out toward the right).\n",
    "\n",
    "We also see that the $0.25$-quantile (or the _first quartile_) is $1$, while the $0.75$-quantile (or the _third quartile_) is $36$. Thus, the interquartile range (IQR) is $36 - 1 = 35$, and the upper threshold for outliers is\n",
    "\n",
    "$$\n",
    "(\\text{third quartile}) + 1.5 \\times (\\text{IQR}) = 36 + 1.5 \\times 35 = 88.5.\n",
    "$$\n",
    "\n",
    "Because this value will be useful later, let's save it into the variable `threshold`:"
   ]
  },
  {
   "cell_type": "code",
   "execution_count": null,
   "metadata": {
    "id": "1LUa_VF9yIUs"
   },
   "outputs": [],
   "source": [
    "threshold = 88.5"
   ]
  },
  {
   "cell_type": "markdown",
   "metadata": {
    "id": "THSYvPdqrgYh"
   },
   "source": [
    "### Problem 1 --- First glimpse of the data distribution\n",
    "\n",
    "The summary statistics that we just found suggest that our data is right-skewed. Let's confirm this visually by producing a box plot using the Seaborn library. In this problem, your goal is to produce this:\n",
    "\n",
    "<center>\n",
    "<img src=\"https://github.com/jmyers7/stats-book-materials/blob/8b144c56622a67e553c027b7cee394d76579edbf/img/boxplot-with-outliers.svg?raw=true\" width=\"900\" align=\"center\">\n",
    "</center>\n",
    "\n",
    "Hints/directions:\n",
    "\n",
    "* I suggest taking a look at the code in the [section](https://mml.johnmyersmath.com/stats-book/chapters/theory-to-practice.html#box-plots-and-violin-plots) of the book where we discussed box plots.\n",
    "\n",
    "* Set the size of the plot to be $10$ inches wide and $2$ inches high.\n",
    "\n",
    "* Be sure to notice the label along the horizontal axis and the title of the plot.\n",
    "\n",
    "* Make sure to call `plt.tight_layout()` at the end of your code block.\n"
   ]
  },
  {
   "cell_type": "code",
   "execution_count": null,
   "metadata": {
    "deletable": false,
    "id": "2T7EO6ARt43z",
    "nbgrader": {
     "cell_type": "code",
     "checksum": "41b70992f1d76cd6376c2af69adff4b0",
     "grade": true,
     "grade_id": "cell-61a97710f97643c7",
     "locked": false,
     "points": 1,
     "schema_version": 3,
     "solution": true,
     "task": false
    },
    "tags": []
   },
   "outputs": [],
   "source": [
    "# ENTER YOUR CODE IN THIS CELL\n",
    "\n"
   ]
  },
  {
   "cell_type": "markdown",
   "metadata": {
    "id": "od7VCnpBz3gb"
   },
   "source": [
    "This box plot confirms that we have a very large number of outliers in our dataset."
   ]
  },
  {
   "cell_type": "markdown",
   "metadata": {
    "id": "y8sKUGivz8X4"
   },
   "source": [
    "### Problem 2 --- Removing outliers\n",
    "\n",
    "So, what are we to do with all these outliers? We're going to remove them!\n",
    "\n",
    "Remember that we saved the upper threshold for outliers into the variable `threshold`. In the next code block, create a boolean mask to **keep** all values in `srs` that are **less then or equal** to `threshold`. Thus, your mask should contain `True` for those values that we want to **keep**. Make sure you understand this!\n",
    "\n",
    "Save your mask into the variable `mask`. You might also print it out to make sure it looks right."
   ]
  },
  {
   "cell_type": "code",
   "execution_count": null,
   "metadata": {
    "deletable": false,
    "id": "JjfmEKSG0g3Z",
    "nbgrader": {
     "cell_type": "code",
     "checksum": "0e788fc3a12d63178acac09634078b50",
     "grade": false,
     "grade_id": "cell-5b1cf61df46c448c",
     "locked": false,
     "schema_version": 3,
     "solution": true,
     "task": false
    },
    "tags": []
   },
   "outputs": [],
   "source": [
    "# ENTER YOUR CODE IN THIS CELL\n",
    "\n"
   ]
  },
  {
   "cell_type": "code",
   "execution_count": null,
   "metadata": {
    "deletable": false,
    "editable": false,
    "id": "G5pkIsE70nXO",
    "nbgrader": {
     "cell_type": "code",
     "checksum": "90428e9ec55b8fa722ec792500382f38",
     "grade": true,
     "grade_id": "cell-e52d8bf6b7dcc780",
     "locked": true,
     "points": 1,
     "schema_version": 3,
     "solution": false,
     "task": false
    },
    "tags": []
   },
   "outputs": [],
   "source": [
    "# Autograder cell. Do NOT alter or delete this cell.\n"
   ]
  },
  {
   "cell_type": "markdown",
   "metadata": {
    "id": "mgPlU4jk1Od6"
   },
   "source": [
    "Now, in the next code block, index into `srs` using `mask` to produces a Pandas Series that contains all non-outliers. Save your answer into the variable `srs`, saving over the old `srs`."
   ]
  },
  {
   "cell_type": "code",
   "execution_count": null,
   "metadata": {
    "deletable": false,
    "id": "j28aP_AR1aXr",
    "nbgrader": {
     "cell_type": "code",
     "checksum": "e60192b19ac1776fd45979ab667c4c10",
     "grade": false,
     "grade_id": "cell-ecb065b0f7bdf2c1",
     "locked": false,
     "schema_version": 3,
     "solution": true,
     "task": false
    },
    "tags": []
   },
   "outputs": [],
   "source": [
    "# ENTER YOUR CODE IN THIS CELL\n",
    "\n"
   ]
  },
  {
   "cell_type": "code",
   "execution_count": null,
   "metadata": {
    "deletable": false,
    "editable": false,
    "id": "T7LcBS891fEr",
    "nbgrader": {
     "cell_type": "code",
     "checksum": "1752e05fdd9e0f7b37ea5e561f780897",
     "grade": true,
     "grade_id": "cell-211ba5603b43e8ae",
     "locked": true,
     "points": 1,
     "schema_version": 3,
     "solution": false,
     "task": false
    },
    "tags": []
   },
   "outputs": [],
   "source": [
    "# Autograder cell. Do NOT alter or delete this cell.\n"
   ]
  },
  {
   "cell_type": "markdown",
   "metadata": {
    "id": "ZpW_7w5IeIfu"
   },
   "source": [
    "If you did everything right, you should see that the `srs` now contains $13{,}023$ data points. Thus, by removing outliers, we removed almost $1{,}700$ listings."
   ]
  },
  {
   "cell_type": "markdown",
   "metadata": {
    "id": "65tFkIiK1x2j"
   },
   "source": [
    "### Problem 3 --- Looking at the data again\n",
    "\n",
    "Having removed the outliers, let's produce another box plot to get a look at the data distribution. Your goal is to produce this:\n",
    "\n",
    "<center>\n",
    "<img src=\"https://github.com/jmyers7/stats-book-materials/blob/9279e12deda58577897c9113fa4fea05669b93ee/img/boxplot-wo-outliers.svg?raw=true\" width=\"900\" align=\"center\">\n",
    "</center>\n",
    "\n",
    "Again, set the dimensions of the plot to 10 inches wide and 2 inches high, and be sure to  call `plt.tight_layout()` at the end of your code."
   ]
  },
  {
   "cell_type": "code",
   "execution_count": null,
   "metadata": {
    "deletable": false,
    "id": "gjMSYHjF13_j",
    "nbgrader": {
     "cell_type": "code",
     "checksum": "ac6c7ee85a96d02d39b0fd1a3657cd53",
     "grade": true,
     "grade_id": "cell-5262312edccaaea2",
     "locked": false,
     "points": 0,
     "schema_version": 3,
     "solution": true,
     "task": false
    },
    "tags": []
   },
   "outputs": [],
   "source": [
    "# ENTER YOUR CODE IN THIS CELL\n",
    "\n"
   ]
  },
  {
   "cell_type": "markdown",
   "metadata": {
    "id": "NTWkvVdaesqu"
   },
   "source": [
    "After removing the initial batch of outliers, the upper threshold for outliers changed (decreased). Thus, there are _new_ outliers in our new (smaller) dataset, as shown by the last box plot. But there are a much more managable number of them---not nearly as many as $1{,}700$."
   ]
  },
  {
   "cell_type": "markdown",
   "metadata": {
    "id": "lCczgcUj4V_N"
   },
   "source": [
    "## The empirical mass function"
   ]
  },
  {
   "cell_type": "markdown",
   "metadata": {
    "id": "P_j5Lj_Y4aPV"
   },
   "source": [
    "### Problem 4 --- Probability histograms\n",
    "\n",
    "Let's now generate the mass function of the empirical distribution of the number of reviews. Do this in the next code block, saving your answer into the variable `epmf`. Be sure to sort the levels in the support of the mass function by calling `.sort_index()`, just as you did back in the [third programming assignment](https://github.com/jmyers7/stats-book-materials/blob/main/programming-assignments/assignment_03.ipynb).\n"
   ]
  },
  {
   "cell_type": "code",
   "execution_count": null,
   "metadata": {
    "deletable": false,
    "id": "ieXyPfaT56_D",
    "nbgrader": {
     "cell_type": "code",
     "checksum": "1a3b092df08d746c51bf857d386ff33e",
     "grade": false,
     "grade_id": "cell-28af36e468066c23",
     "locked": false,
     "schema_version": 3,
     "solution": true,
     "task": false
    },
    "tags": []
   },
   "outputs": [],
   "source": [
    "# ENTER YOUR CODE IN THIS CELL\n",
    "\n"
   ]
  },
  {
   "cell_type": "code",
   "execution_count": null,
   "metadata": {
    "deletable": false,
    "editable": false,
    "id": "hT8alebk6CIH",
    "nbgrader": {
     "cell_type": "code",
     "checksum": "472673e5ed6b045a8856205e8dbaa4ea",
     "grade": true,
     "grade_id": "cell-3dedf67ef6de08ae",
     "locked": true,
     "points": 1,
     "schema_version": 3,
     "solution": false,
     "task": false
    },
    "tags": []
   },
   "outputs": [],
   "source": [
    "# Autograder cell. Do NOT alter or delete this cell.\n"
   ]
  },
  {
   "cell_type": "markdown",
   "metadata": {
    "id": "lf1WxQ7Vfwbx"
   },
   "source": [
    "Now, let's generate a probability histogram of the mass function. Your goal is to produce this:\n",
    "\n",
    "<center>\n",
    "<img src=\"https://github.com/jmyers7/stats-book-materials/blob/699a543ffcf7db1152ee55f9cc532983501fce07/img/epmf-reviews.svg?raw=true\" width=\"900\" align=\"center\">\n",
    "</center>\n",
    "\n",
    "Hints/directions:\n",
    "\n",
    "* Set the size of the figure to 10 inches wide, 4 inches high.\n",
    "\n",
    "* Set the ticks along the $x$-axis by calling `plt.xticks(range(0, 45, 5))`. This produces ticks from $0$ to $40$ in steps of $5$. (The `range` function always _excludes_ the end point, so we call `range(0, 45, 5)` rather than `range(0, 40, 5)`.)\n",
    "\n",
    "* Set the limits on the $x$-axis by calling `plt.xlim(-1, 40.5)`.\n",
    "\n",
    "* Be sure to notice the labels on the axes, as well as the title of the plot!\n",
    "\n",
    "* Call `plt.tight_layout()` at the end of your code."
   ]
  },
  {
   "cell_type": "code",
   "execution_count": null,
   "metadata": {
    "deletable": false,
    "id": "PcG-k7hQ4ga-",
    "nbgrader": {
     "cell_type": "code",
     "checksum": "b8a936fc790c6430fa19ad823527025b",
     "grade": true,
     "grade_id": "cell-b2ad8cbf346aae6d",
     "locked": false,
     "points": 1,
     "schema_version": 3,
     "solution": true,
     "task": false
    },
    "tags": []
   },
   "outputs": [],
   "source": [
    "# ENTER YOUR CODE IN THIS CELL\n",
    "\n"
   ]
  },
  {
   "cell_type": "markdown",
   "metadata": {
    "id": "wlFiqDki3SNW"
   },
   "source": [
    "## The Poisson model\n",
    "\n",
    "Having completed some initial exploratory data analysis, our goal now is to cook up a probabilistic model for the data:\n",
    "\n",
    "<center>\n",
    "<img src=\"https://github.com/jmyers7/stats-book-materials/blob/8740bf8b382c69d5d69800972d0fabc543918420/img/whichone.svg?raw=true\" width=\"400\" align=\"center\">\n",
    "</center>\n",
    "\n",
    "As a first step in this direction, we first remind ourselves that our data is _count_ data. Indeed, each data point _counts_ the number of reviews of an Airbnb listing in Austin. Remember that I mentioned numerous times in [Chapter 5](https://mml.johnmyersmath.com/stats-book/chapters/examples-of-rvs.html#) that Poisson random variables are often used to model _count_ data. So, perhaps this means that a Poisson model might work well...? Our goal in this section of the programming assignment is to assess the fit of a Poisson model using the goodness-of-fit plots that we learned in [Chapter 6](https://mml.johnmyersmath.com/stats-book/chapters/theory-to-practice.html#).\n",
    "\n",
    "Since Poisson random variables are parametrized just by a single parameter $\\mu$, we would _visualize_ a Poisson model graphically as follows:\n",
    "\n",
    "<center>\n",
    "<img src=\"https://github.com/jmyers7/stats-book-materials/blob/c080c681323f5ccc50fa2b43ad000d78305dfa10/img/poisson-model.svg?raw=true\" width=\"400\" align=\"center\">\n",
    "</center>\n",
    "\n",
    "Here, $m$ is the size of the dataset, $m=13{,}023$. Since our model is so simple, there's not really any insight gained by depicting the model graphically, but I think it will be helpful to get into the habit of drawing out our models in anticipation of the more complicated and complex models in [Chapter 11](https://mml.johnmyersmath.com/stats-book/chapters/models.html) of the book.\n",
    "\n",
    "\n",
    "Before moving on to the next problem, it will be helpful to have the size of the dataset available later, so let's save it into the variable `m`:"
   ]
  },
  {
   "cell_type": "code",
   "execution_count": null,
   "metadata": {
    "id": "WVUP735FliAM"
   },
   "outputs": [],
   "source": [
    "m = len(srs)\n",
    "m"
   ]
  },
  {
   "cell_type": "markdown",
   "metadata": {
    "id": "BfrXRVSo8gQA"
   },
   "source": [
    "### Problem 5 --- Comparison of PMFs\n",
    "\n",
    "As a first test for goodness of fit, we will compare the empirical mass function of the dataset to the mass function of the Poisson model. But how should we choose the parameter $\\mu$ for the model $Pois(\\mu)$?\n",
    "\n",
    "Well, remember that we chose the Greek letter $\\mu$ for the parameter because it actually _is_ the mean of the model. This suggests that a good choice for $\\mu$ should be the empirical mean $\\bar{x}$ of the dataset. In the next code block, define the variable `mu` as the empirical mean of the dataset. Then, in the same code block, create a Poisson random variable in SciPy using this value of `mu`. Call the random variable `X`."
   ]
  },
  {
   "cell_type": "code",
   "execution_count": null,
   "metadata": {
    "deletable": false,
    "id": "io9G5HF19W1A",
    "nbgrader": {
     "cell_type": "code",
     "checksum": "ec5f4cb9aeb1b125b4eda0f6e66fde3b",
     "grade": false,
     "grade_id": "cell-7aaf908372923873",
     "locked": false,
     "schema_version": 3,
     "solution": true,
     "task": false
    },
    "tags": []
   },
   "outputs": [],
   "source": [
    "# ENTER YOUR CODE IN THIS CELL\n",
    "\n"
   ]
  },
  {
   "cell_type": "code",
   "execution_count": null,
   "metadata": {
    "deletable": false,
    "editable": false,
    "id": "i0XCoWHQnRYW",
    "nbgrader": {
     "cell_type": "code",
     "checksum": "1baa1ebf8a45a49e0a31342a4fd43ee4",
     "grade": true,
     "grade_id": "cell-2504d0f254b32775",
     "locked": true,
     "points": 1,
     "schema_version": 3,
     "solution": false,
     "task": false
    },
    "tags": []
   },
   "outputs": [],
   "source": [
    "# Autograder cell. Do NOT alter or delete this cell.\n"
   ]
  },
  {
   "cell_type": "markdown",
   "metadata": {
    "id": "lM_OQDROmYHe"
   },
   "source": [
    "We now want to generate the mass function of the Poisson random variable `X`. To do this, we will pass the support of the empirical mass function into `X.pmf()`. The support of the empirical mass function is contained in the indices of the Pandas Series `epmf` that you defined above. You learned how to extract the indices of a Pandas Series back in the [third programming assignment](https://github.com/jmyers7/stats-book-materials/blob/main/programming-assignments/assignment_03.ipynb). Using this knowledge, in the next code block create the mass function of `X` and save it into the variable `poisson_pmf`. As always, you might print it out to check that it looks correct."
   ]
  },
  {
   "cell_type": "code",
   "execution_count": null,
   "metadata": {
    "deletable": false,
    "id": "zR0hGswynOMu",
    "nbgrader": {
     "cell_type": "code",
     "checksum": "aefd663efd5a44f3a07c2254548dea12",
     "grade": false,
     "grade_id": "cell-81f22248795b9172",
     "locked": false,
     "schema_version": 3,
     "solution": true,
     "task": false
    },
    "tags": []
   },
   "outputs": [],
   "source": [
    "# ENTER YOUR CODE IN THIS CELL\n",
    "\n"
   ]
  },
  {
   "cell_type": "code",
   "execution_count": null,
   "metadata": {
    "deletable": false,
    "editable": false,
    "id": "lFK5LJh89ecR",
    "nbgrader": {
     "cell_type": "code",
     "checksum": "572747a6bbc5bcc54f3ede2766a2a56a",
     "grade": true,
     "grade_id": "cell-04bd8d7d9d97820c",
     "locked": true,
     "points": 1,
     "schema_version": 3,
     "solution": false,
     "task": false
    },
    "tags": []
   },
   "outputs": [],
   "source": [
    "# Autograder cell. Do NOT alter or delete this cell.\n"
   ]
  },
  {
   "cell_type": "markdown",
   "metadata": {
    "id": "EaBjsIZGn5BY"
   },
   "source": [
    "Now, to help facilitate comparison between the empirical and model PMF's, let's load them both into the columns of a Pandas DataFrame. I will do this for you. Run the next code block:"
   ]
  },
  {
   "cell_type": "code",
   "execution_count": null,
   "metadata": {
    "id": "TD9Tm7Xv9ZD-"
   },
   "outputs": [],
   "source": [
    "df = pd.DataFrame({'empirical': epmf, 'poisson': poisson_pmf})\n",
    "df"
   ]
  },
  {
   "cell_type": "markdown",
   "metadata": {
    "id": "y35gtrXFoCB6"
   },
   "source": [
    "Notice that I defined the dataframe by passing the dictionary\n",
    "\n",
    "``` python\n",
    "{'empirical': epmf, 'poisson': poisson_pmf}\n",
    "```\n",
    "\n",
    "into the dataframe constructor. The _keys_ in the dictionary (i.e., the strings `'empirical'` and `'poisson'`) become the names of the columns, while the _values_ in the dictionary (i.e., the series `epmf` and `poisson_pmf`) become the columns.\n",
    "\n",
    "With the dataframe `df` in hand, your goal now is to produce the following plot:\n",
    "\n",
    "<center>\n",
    "<img src=\"https://github.com/jmyers7/stats-book-materials/blob/9c4d69177360d3e71883ac4d731b9f299438a477/img/poisson-compare.svg?raw=true\" width=\"900\" align=\"center\">\n",
    "</center>\n",
    "\n",
    "Use the same specifications for this plot that I gave you for the probability histogram in Problem 4. And, as always, be sure to call `plt.tight_layout()` at the end of your code."
   ]
  },
  {
   "cell_type": "code",
   "execution_count": null,
   "metadata": {
    "deletable": false,
    "id": "t9yuyj3j3hNX",
    "nbgrader": {
     "cell_type": "code",
     "checksum": "90123d97c453375fbc5582dc04332c59",
     "grade": true,
     "grade_id": "cell-a4959407b514adea",
     "locked": false,
     "points": 1,
     "schema_version": 3,
     "solution": true,
     "task": false
    },
    "tags": []
   },
   "outputs": [],
   "source": [
    "# ENTER YOUR CODE IN THIS CELL\n",
    "\n"
   ]
  },
  {
   "cell_type": "markdown",
   "metadata": {
    "id": "a-nx0gMUqLRW"
   },
   "source": [
    "This comparison of PMFs suggests (strongly) that the Poisson model fits the data poorly. You probably knew this all along, if you remembered the shapes of the mass functions of Poisson random variables that we saw back in [Chapter 5](https://mml.johnmyersmath.com/stats-book/chapters/examples-of-rvs.html#poisson-distributions)."
   ]
  },
  {
   "cell_type": "markdown",
   "metadata": {
    "id": "J1Ti53UL8sZG"
   },
   "source": [
    "### Problem 6 --- Comparison of CDFs\n",
    "\n",
    "From the single plot above, we know that the Poisson model is a bad one. However, just for practice, over the next two problems we will generate more comparison plots for model checking and goodness of fit.\n",
    "\n",
    "In this problem, we will compare the ECDF of the data to the CDF of the Poisson model. And, rather than use the convenient `ecdfplot` method in the Seaborn library, I will have you build and plot the ECDF from _scratch_.\n",
    "\n",
    "To generate the ECDF, first look [here](https://pandas.pydata.org/docs/reference/api/pandas.Series.cumsum.html) at the documentation for the \"cumulative sum\" method in Pandas. Use this method in the next code block to generate the ECDF from the series `epmf` that you defined above. Save the ECDF into the variable `ecdf`."
   ]
  },
  {
   "cell_type": "code",
   "execution_count": null,
   "metadata": {
    "deletable": false,
    "id": "UO9fdyPQ8wqJ",
    "nbgrader": {
     "cell_type": "code",
     "checksum": "f0879ca378d44d715fc3f5013aa39d34",
     "grade": false,
     "grade_id": "cell-00603c520118809b",
     "locked": false,
     "schema_version": 3,
     "solution": true,
     "task": false
    },
    "tags": []
   },
   "outputs": [],
   "source": [
    "# ENTER YOUR CODE IN THIS CELL\n",
    "\n"
   ]
  },
  {
   "cell_type": "code",
   "execution_count": null,
   "metadata": {
    "deletable": false,
    "editable": false,
    "id": "T3VC5A6B-GbK",
    "nbgrader": {
     "cell_type": "code",
     "checksum": "05fbb7127989ad069374d8207291fb71",
     "grade": true,
     "grade_id": "cell-f4f3a0b124be4bd0",
     "locked": true,
     "points": 1,
     "schema_version": 3,
     "solution": false,
     "task": false
    },
    "tags": []
   },
   "outputs": [],
   "source": [
    "# Autograder cell. Do NOT alter or delete this cell.\n"
   ]
  },
  {
   "cell_type": "markdown",
   "metadata": {
    "id": "uyBNhVl9sNUh"
   },
   "source": [
    "Now that you have the ECDF, we want to plot it against the CDF of the Poisson model for comparison. Your goal is to produce the following plot:\n",
    "\n",
    "<center>\n",
    "<img src=\"https://github.com/jmyers7/stats-book-materials/blob/4ba2a0b35325af1aa86a85234d3619f99aa48eff/img/poisson-cdf.svg?raw=true\" width=\"600\" align=\"center\">\n",
    "</center>\n",
    "\n",
    "Hints/directions:\n",
    "\n",
    "* To plot the ECDF, see the documentation [here](https://matplotlib.org/stable/api/_as_gen/matplotlib.pyplot.step.html) for the `step` method in Matplotlib.\n",
    "\n",
    "* To produce the CDF of the Poisson variable, you will use the `step` method one more time. Pass the indices of the empirical distribution, `epmf.index`, into `X.cdf()`.\n",
    "\n",
    "* Take care to notice the axis labels, plot title, and legend.\n",
    "\n",
    "* Call `plt.tight_layout()` at the end of your code."
   ]
  },
  {
   "cell_type": "code",
   "execution_count": null,
   "metadata": {
    "deletable": false,
    "id": "0u7r6jWP_4s2",
    "nbgrader": {
     "cell_type": "code",
     "checksum": "7c4aea05b8662cb4276268920f7710ae",
     "grade": true,
     "grade_id": "cell-f756cd774fcb0b1a",
     "locked": false,
     "points": 1,
     "schema_version": 3,
     "solution": true,
     "task": false
    },
    "tags": []
   },
   "outputs": [],
   "source": [
    "# ENTER YOUR CODE IN THIS CELL\n",
    "\n"
   ]
  },
  {
   "cell_type": "markdown",
   "metadata": {
    "id": "6ApXNXB7WD9G"
   },
   "source": [
    "This plot confirms what we already knew: the Poisson model is a bad fit. But at least we got practice creating ECDFs from scratch!"
   ]
  },
  {
   "cell_type": "markdown",
   "metadata": {
    "id": "UFQ3Ycx581gs"
   },
   "source": [
    "### Problem 7 --- QQ-plots\n",
    "\n",
    "We now turn toward creating a QQ-plot to compare the empirical distribution to the Poisson model distribution. Even though these plots may be created easily using the `qqplot` method in the Statsmodels library, in this problem we will create the QQ-plot from scratch.\n",
    "\n",
    "To do this problem, it is cruical that you understand the theory behind QQ-plots. I suggest that you either review your notes from class, or re-read the [section](https://mml.johnmyersmath.com/stats-book/chapters/theory-to-practice.html#qq-plots) in the book where I discuss QQ-plots.\n",
    "\n",
    "To begin, we first need to generate a list of $q$-values according to the formula\n",
    "\n",
    "$$\n",
    "q_i = \\frac{i-1/2}{m},\n",
    "$$\n",
    "\n",
    "for $i=1,2,\\ldots,m$. Remember, $m$ is the size of the dataset (which was saved into the variable `m` above). Again, if you don't understand the relevance of this formula, you _need_ to review the theory of QQ-plots.\n",
    "\n",
    "In the next code block, create a list of these $q$-values. To do this, you will use a technique called _list comprehension_; see the link [here]() for a description. Once you see what list comprehension is, hopefully you'll recall that I did something very similar back in the [third programming assignment](https://github.com/jmyers7/stats-book-materials/blob/main/programming-assignments/assignment_03.ipynb); look there for more hints. Save your list into the variable `q`. (And do not write garbage code! Make sure your spacing looks all nice and pretty.)"
   ]
  },
  {
   "cell_type": "code",
   "execution_count": null,
   "metadata": {
    "deletable": false,
    "id": "6wdpW3POX65G",
    "nbgrader": {
     "cell_type": "code",
     "checksum": "282cb29b8a6b3c6dacc65807ae726017",
     "grade": false,
     "grade_id": "cell-923d600dce3a3300",
     "locked": false,
     "schema_version": 3,
     "solution": true,
     "task": false
    },
    "tags": []
   },
   "outputs": [],
   "source": [
    "# ENTER YOUR CODE IN THIS CELL\n",
    "\n"
   ]
  },
  {
   "cell_type": "code",
   "execution_count": null,
   "metadata": {
    "deletable": false,
    "editable": false,
    "id": "CeXErSvCYH4H",
    "nbgrader": {
     "cell_type": "code",
     "checksum": "a41763e40360c5803e2d1ad9b717fbe8",
     "grade": true,
     "grade_id": "cell-de60449161437237",
     "locked": true,
     "points": 1,
     "schema_version": 3,
     "solution": false,
     "task": false
    },
    "tags": []
   },
   "outputs": [],
   "source": [
    "# Autograder cell. Do NOT alter or delete this cell.\n"
   ]
  },
  {
   "cell_type": "markdown",
   "metadata": {
    "id": "xhgME0tmYj_1"
   },
   "source": [
    "Now that we have our list of $q$-values, we need to pass these into the quantile function of the Poisson variable `X`. Do this in the next code block, saving the NumPy array into the variable `poisson_quantiles`."
   ]
  },
  {
   "cell_type": "code",
   "execution_count": null,
   "metadata": {
    "deletable": false,
    "id": "Gu4vTPfwY_uy",
    "nbgrader": {
     "cell_type": "code",
     "checksum": "b9c75582a7b3b9b53c90c2eb0b415d78",
     "grade": false,
     "grade_id": "cell-bcce2ee07fb48586",
     "locked": false,
     "schema_version": 3,
     "solution": true,
     "task": false
    },
    "tags": []
   },
   "outputs": [],
   "source": [
    "# ENTER YOUR CODE IN THIS CELL\n",
    "\n"
   ]
  },
  {
   "cell_type": "code",
   "execution_count": null,
   "metadata": {
    "deletable": false,
    "editable": false,
    "id": "TzugYvqfZF9c",
    "nbgrader": {
     "cell_type": "code",
     "checksum": "93b32e1c6954f14c4f5e93bc01aaaa5c",
     "grade": true,
     "grade_id": "cell-1e6822e5737ecb62",
     "locked": true,
     "points": 1,
     "schema_version": 3,
     "solution": false,
     "task": false
    },
    "tags": []
   },
   "outputs": [],
   "source": [
    "# Autograder cell. Do NOT alter or delete this cell.\n"
   ]
  },
  {
   "cell_type": "markdown",
   "metadata": {
    "id": "7xKeLtDZZVD5"
   },
   "source": [
    "To produce the QQ-plot, we will first take our array of Poisson quantiles and the (sorted) dataset and load them into the columns of a dataframe. Again, I will do this for you:"
   ]
  },
  {
   "cell_type": "code",
   "execution_count": null,
   "metadata": {
    "id": "fUiCgljpZkI_"
   },
   "outputs": [],
   "source": [
    "df = pd.DataFrame({'empirical': srs.sort_values(), 'poisson': poisson_quantiles})\n",
    "df"
   ]
  },
  {
   "cell_type": "markdown",
   "metadata": {
    "id": "1e8YT_IyZmnB"
   },
   "source": [
    "We now have everything we need to produce the following QQ-plot:\n",
    "\n",
    "<center>\n",
    "<img src=\"https://github.com/jmyers7/stats-book-materials/blob/a2e743d4730f0c0683ecac4b37377f90429e1129/img/poisson-qq.svg?raw=true\" width=\"600\" align=\"center\">\n",
    "</center>\n",
    "\n",
    "Hints/directions:\n",
    "\n",
    "* Call the `plt` method on the dataframe `df` to produce the scatter plot. Pass in the parameter `alpha=0.1` to set the opacity.\n",
    "\n",
    "* Call `plt.plot([0, threshold], [0, threshold], color='red')` to produce the red diagonal line.\n",
    "\n",
    "* To ensure that the aspect ratio of the plot is fixed at `1`, call `plt.gca().set_aspect('equal')` in your code.\n",
    "\n",
    "* As always, take care to notice the axis labels and the plot title.\n",
    "\n",
    "* Call `plt.tight_layout()` at the end of your code."
   ]
  },
  {
   "cell_type": "code",
   "execution_count": null,
   "metadata": {
    "deletable": false,
    "id": "q5fbUrPp83xw",
    "nbgrader": {
     "cell_type": "code",
     "checksum": "9e1fa24464599e629507510a31d31958",
     "grade": true,
     "grade_id": "cell-e65f1dc343fb510f",
     "locked": false,
     "points": 1,
     "schema_version": 3,
     "solution": true,
     "task": false
    },
    "tags": []
   },
   "outputs": [],
   "source": [
    "# ENTER YOUR CODE IN THIS CELL\n",
    "\n"
   ]
  },
  {
   "cell_type": "markdown",
   "metadata": {
    "id": "JpEE2WZFbO3t"
   },
   "source": [
    "As if we needed _even more_ evidence that the Poisson model is a bad fit, the QQ-plot provides further confirmation."
   ]
  },
  {
   "cell_type": "markdown",
   "metadata": {
    "id": "tUnaFCxlbiBf"
   },
   "source": [
    "## The geometric model\n",
    "\n",
    "So, the Poisson model is not a good choice for a probabilistic model of the data. What might we choose next?\n",
    "\n",
    "How about a _geometric_ random variable, $Y \\sim Geo(\\theta)$? Though we didn't discuss these in class, if you [jump over](https://mml.johnmyersmath.com/stats-book/chapters/examples-of-rvs.html#geometric-distributions) to the relevant section in the book and take a peek at the histograms of the mass functions, you'll notice that they resemble our empirical PMF in many respects. This suggests that a _geometric model_ for the data might be a good fit.\n",
    "\n",
    "Such a model would be visualized graphically as:\n",
    "\n",
    "<center>\n",
    "<img src=\"https://github.com/jmyers7/stats-book-materials/blob/d5c2334460264a878009abf9eace1c3477c0bfae/img/geom-model.svg?raw=true\" width=\"400\" align=\"center\">\n",
    "</center>\n",
    "\n",
    "Again, there's not much insight to be gained from this graphical representation of the model; drawing these figures is merely in anticipation of [Chapter 11](https://mml.johnmyersmath.com/stats-book/chapters/models.html).\n",
    "\n"
   ]
  },
  {
   "cell_type": "markdown",
   "metadata": {
    "id": "wboXFWiOzFjG"
   },
   "source": [
    "### Problem 8 --- Comparison of PMFs\n",
    "\n",
    "Like a Poisson variable, notice that a geometric variable $Y$ is parametrized by a single parameter $\\theta$, which must be in the interval $[0,1]$ since it represents a probability. How might we pick this parameter?\n",
    "\n",
    "If you look deeper into the section of the book on geometric variables, you'll notice that the mean value of $Y \\sim Geo(\\theta)$ is equal to the reciprocal of the parameter, $1/\\theta$. So, this suggests that we should choose $\\theta$ to be the recriprocal of the empirical mean, $1/\\bar{y}$. In the next code block, save this parameter value into the variable `theta`; then, using this parameter, look at the [SciPy docs](https://docs.scipy.org/doc/scipy/reference/generated/scipy.stats.geom.html) for geometric random variables and (in the same code cell) create a geometric random variable called `Y`."
   ]
  },
  {
   "cell_type": "code",
   "execution_count": null,
   "metadata": {
    "deletable": false,
    "id": "VOUTC-CDdbCh",
    "nbgrader": {
     "cell_type": "code",
     "checksum": "24db4ea9444ebe3fd0412f2785891e94",
     "grade": false,
     "grade_id": "cell-ca6eedcffbd756a3",
     "locked": false,
     "schema_version": 3,
     "solution": true,
     "task": false
    },
    "tags": []
   },
   "outputs": [],
   "source": [
    "# ENTER YOUR CODE IN THIS CELL\n",
    "\n"
   ]
  },
  {
   "cell_type": "code",
   "execution_count": null,
   "metadata": {
    "deletable": false,
    "editable": false,
    "id": "71cjFT0bzRj2",
    "nbgrader": {
     "cell_type": "code",
     "checksum": "aa5b8682ea53086d9b59019cfaed0aab",
     "grade": true,
     "grade_id": "cell-7c9c30b2050809d1",
     "locked": true,
     "points": 1,
     "schema_version": 3,
     "solution": false,
     "task": false
    },
    "tags": []
   },
   "outputs": [],
   "source": [
    "# Autograder cell. Do NOT alter or delete this cell.\n"
   ]
  },
  {
   "cell_type": "markdown",
   "metadata": {
    "id": "b2Z9Hvssz1g7"
   },
   "source": [
    "Now that we have the geometric variable `Y`, we need to get its PMF. Do this in the next code block exactly as you did for the Poisson variable `X` in Problem 5. Save your answer into the variable `geom_pmf`."
   ]
  },
  {
   "cell_type": "code",
   "execution_count": null,
   "metadata": {
    "deletable": false,
    "id": "YURhpK_bzl2k",
    "nbgrader": {
     "cell_type": "code",
     "checksum": "ef915c1e0ba849384f0d0d8a00b93634",
     "grade": false,
     "grade_id": "cell-59a343f5ca3520c9",
     "locked": false,
     "schema_version": 3,
     "solution": true,
     "task": false
    },
    "tags": []
   },
   "outputs": [],
   "source": [
    "# ENTER YOUR CODE IN THIS CELL\n",
    "\n"
   ]
  },
  {
   "cell_type": "code",
   "execution_count": null,
   "metadata": {
    "deletable": false,
    "editable": false,
    "id": "jcb3mFYKzmVi",
    "nbgrader": {
     "cell_type": "code",
     "checksum": "40b06a8ff176fe7713ca46c6747e9509",
     "grade": true,
     "grade_id": "cell-48e9feeda1c2770b",
     "locked": true,
     "points": 1,
     "schema_version": 3,
     "solution": false,
     "task": false
    },
    "tags": []
   },
   "outputs": [],
   "source": [
    "# Autograder cell. Do NOT alter or delete this cell.\n"
   ]
  },
  {
   "cell_type": "markdown",
   "metadata": {
    "id": "Mbei5IEJ0KA5"
   },
   "source": [
    "Again, to help facilitate comparison, let's take the empirical PMF of the data and the PMF of the geometric variable and load them into the columns of a dataframe. This time, I'll have you create the dataframe on your own. Call it `df`, and use the strings `'empirical'` and `'geometric'` for the keys in your dictionary."
   ]
  },
  {
   "cell_type": "code",
   "execution_count": null,
   "metadata": {
    "deletable": false,
    "id": "ooBH1tQZ0XfI",
    "nbgrader": {
     "cell_type": "code",
     "checksum": "c39b6690e825330367b79b17a258884d",
     "grade": false,
     "grade_id": "cell-1d9470b9f1f7c8e3",
     "locked": false,
     "schema_version": 3,
     "solution": true,
     "task": false
    },
    "tags": []
   },
   "outputs": [],
   "source": [
    "# ENTER YOUR CODE IN THIS CELL\n",
    "\n"
   ]
  },
  {
   "cell_type": "code",
   "execution_count": null,
   "metadata": {
    "deletable": false,
    "editable": false,
    "id": "_qSZZRP32Spq",
    "nbgrader": {
     "cell_type": "code",
     "checksum": "9abe7630b0faa1ed5e0d138e10f3ec04",
     "grade": true,
     "grade_id": "cell-46ba45e5172b1591",
     "locked": true,
     "points": 1,
     "schema_version": 3,
     "solution": false,
     "task": false
    },
    "tags": []
   },
   "outputs": [],
   "source": [
    "# Autograder cell. Do NOT alter or delete this cell.\n"
   ]
  },
  {
   "cell_type": "markdown",
   "metadata": {
    "id": "CrMFzOo11IrT"
   },
   "source": [
    "Your goal now is to compare the PMFs by producing this plot:\n",
    "\n",
    "<center>\n",
    "<img src=\"https://github.com/jmyers7/stats-book-materials/blob/fa9142291e7e8dc8b239f40d62f178a2ad9ad202/img/geom-compare-pmf.svg?raw=true\" width=\"900\" align=\"center\">\n",
    "</center>\n",
    "\n",
    "Use the same specifications that I gave you for the plot in Problem 4. Remember to call `plt.tight_layout()` at the end of your code."
   ]
  },
  {
   "cell_type": "code",
   "execution_count": null,
   "metadata": {
    "deletable": false,
    "id": "19-f3lMy0g6O",
    "nbgrader": {
     "cell_type": "code",
     "checksum": "b6109e82fdcb73c0100e7fa4d6458842",
     "grade": true,
     "grade_id": "cell-ba478727924c1c3e",
     "locked": false,
     "points": 1,
     "schema_version": 3,
     "solution": true,
     "task": false
    },
    "tags": []
   },
   "outputs": [],
   "source": [
    "# ENTER YOUR CODE IN THIS CELL\n",
    "\n"
   ]
  },
  {
   "cell_type": "markdown",
   "metadata": {
    "id": "HtJI289w2249"
   },
   "source": [
    "Ok, so what does this plot tell us about the fit of the geometric model? It's not _amazing_, but at least it's better than the Poisson model. One big difference between the two distributions is that the support of the geometric model consists of all positive integers $y\\geq 1$; however, the dataset contains lots of observations at $y=0$.\n",
    "\n",
    "What we need, then, is a so-called _[zero-inflated](https://en.wikipedia.org/wiki/Zero-inflated_model)_ model. While there are lots of these things out there, we're going to create a naive version that simply shifts the geometric distribution to the _left_ by one unit. This won't provide a perfect fit at $y=0$, but it's better than the current model.\n",
    "\n",
    "So, in the next code block, your goal is to do three things:\n",
    "\n",
    "1. Redefine the geometric random variable `Y` so that is is shifted to the left by one unit. You'll use the same `theta` parameter that you used above, but you'll need to search [the docs](https://docs.scipy.org/doc/scipy/reference/generated/scipy.stats.geom.html) on your own to learn how to shift the distribution.\n",
    "\n",
    "2. Redefine `geometric_pmf` using the new `Y`.\n",
    "\n",
    "3. Redefine the dataframe `df` using the new `geometric_pmf`. Use the keys `'empirical'` and `'(shifted) geometric'`, the latter in place of the original key `'geometric'`.\n",
    "\n",
    "Do all of these things in the following block:"
   ]
  },
  {
   "cell_type": "code",
   "execution_count": null,
   "metadata": {
    "deletable": false,
    "id": "6j0fwJvP3vmL",
    "nbgrader": {
     "cell_type": "code",
     "checksum": "8bfff8a62ac1ea58fd09cb779d9e0268",
     "grade": false,
     "grade_id": "cell-e959081436c5c3e2",
     "locked": false,
     "schema_version": 3,
     "solution": true,
     "task": false
    },
    "tags": []
   },
   "outputs": [],
   "source": [
    "# ENTER YOUR CODE IN THIS CELL\n",
    "\n"
   ]
  },
  {
   "cell_type": "code",
   "execution_count": null,
   "metadata": {
    "deletable": false,
    "editable": false,
    "id": "Sf-0VLfcf6FQ",
    "nbgrader": {
     "cell_type": "code",
     "checksum": "7126a6ee86b6b409bea54b916cdf8b9a",
     "grade": true,
     "grade_id": "cell-d7c318801e4c45a6",
     "locked": true,
     "points": 1,
     "schema_version": 3,
     "solution": false,
     "task": false
    },
    "tags": []
   },
   "outputs": [],
   "source": [
    "# Autograder cell. Do NOT alter or delete this cell.\n"
   ]
  },
  {
   "cell_type": "markdown",
   "metadata": {
    "id": "iErNmcypgFNh"
   },
   "source": [
    "Now, your goal is to produce the following (new) plot of the mass functions:\n",
    "\n",
    "<center>\n",
    "<img src=\"https://github.com/jmyers7/stats-book-materials/blob/0ccefb68bd0ad3414a69a1a9c50e12ee98691cf4/img/geom-shifted-compare-pmf.svg?raw=true\" width=\"900\" align=\"center\">\n",
    "</center>\n",
    "\n",
    "As long as you produced the previous version of this plot correctly, you should be able to just copy and past your code:"
   ]
  },
  {
   "cell_type": "code",
   "execution_count": null,
   "metadata": {
    "deletable": false,
    "id": "ifUttQytdpLF",
    "nbgrader": {
     "cell_type": "code",
     "checksum": "3bbbfcb8e5d3592e844f1e3e9a7beade",
     "grade": true,
     "grade_id": "cell-9daf75c7d03d3a54",
     "locked": false,
     "points": 1,
     "schema_version": 3,
     "solution": true,
     "task": false
    },
    "tags": []
   },
   "outputs": [],
   "source": [
    "# ENTER YOUR CODE IN THIS CELL\n",
    "\n"
   ]
  },
  {
   "cell_type": "markdown",
   "metadata": {
    "id": "Lr06At2CguVR"
   },
   "source": [
    "Again, the fit at $y=0$ and $y=1$ is not great, but it's better than the unshifted geometric model, and certainly _much_ better than the Poisson model."
   ]
  },
  {
   "cell_type": "markdown",
   "metadata": {
    "id": "YwBhKcKcg20C"
   },
   "source": [
    "### Problem 9 --- Comparison of CDFs\n",
    "\n",
    "In the next two problems, we will visually compare the CDFs of the dataset and the (shifted) geometric model, as well as draw a QQ-plot. However, having paid our dues previously by generating these plots from _scratch_, we have earned the right to use the Seaborn and Statsmodels libraries. Yay!\n",
    "\n",
    "To compare the CDFs, your goal is to produce this plot:\n",
    "\n",
    "<center>\n",
    "<img src=\"https://github.com/jmyers7/stats-book-materials/blob/4ba2a0b35325af1aa86a85234d3619f99aa48eff/img/geometric-cdf.svg?raw=true\" width=\"600\" align=\"center\">\n",
    "</center>\n",
    "\n",
    "Hints/directions:\n",
    "\n",
    "* First, I would suggest looking at the [section](https://mml.johnmyersmath.com/stats-book/chapters/theory-to-practice.html#probabilistic-models-and-empirical-distributions) in the book where I produced ECDF plots using Seaborn for inspiration. You will not need _all_ of that code, however, so don't just thoughtlessly and sloppily copy and paste. Make sure your brain is turned on for this one, ok?\n",
    "\n",
    "* To produce the CDF of the geometric variable `Y`, use the `step` method of `plt` as you did in Problem 6.\n",
    "\n",
    "* Make sure to notice the axis labels, the legend, and the plot title.\n",
    "\n",
    "* Call `plt.tight_layout()` at the end of your code."
   ]
  },
  {
   "cell_type": "code",
   "execution_count": null,
   "metadata": {
    "deletable": false,
    "id": "-_UMbpJDjHBF",
    "nbgrader": {
     "cell_type": "code",
     "checksum": "2a5351736e270564becce376399a5ae1",
     "grade": true,
     "grade_id": "cell-d0da7db34ed44dbe",
     "locked": false,
     "points": 1,
     "schema_version": 3,
     "solution": true,
     "task": false
    },
    "tags": []
   },
   "outputs": [],
   "source": [
    "# ENTER YOUR CODE IN THIS CELL\n",
    "\n"
   ]
  },
  {
   "cell_type": "markdown",
   "metadata": {
    "id": "sF6F98Yoon9q"
   },
   "source": [
    "This plot shows what we already knew: the geometric model is an _ok_ fit, but not great."
   ]
  },
  {
   "cell_type": "markdown",
   "metadata": {
    "id": "5aaVMF9lnmC6"
   },
   "source": [
    "### Problem 10 --- QQ-plots\n",
    "\n",
    "Finally, let's produce a QQ-plot comparing empirical to model quantiles. You will produce this:\n",
    "\n",
    "<center>\n",
    "<img src=\"https://github.com/jmyers7/stats-book-materials/blob/3be69abe4584319842b750fdfc27a47dcdb569b6/img/geometric-qq.svg?raw=true\" width=\"600\" align=\"center\">\n",
    "</center>\n",
    "\n",
    "Hints/directions:\n",
    "\n",
    "* Once again, I recommend looking at the [section](https://mml.johnmyersmath.com/stats-book/chapters/theory-to-practice.html#qq-plots) in the book where I produced QQ-plots using the `qqplot` method from the Statsmodels library.\n",
    "\n",
    "* You do _not_ need to import `qqplot` since we already did this at the beginning of the assignment. Pay attention!\n",
    "\n",
    "* Pass in `alpha=0.1` to set the opacity.\n",
    "\n",
    "* Notice the axis labels and the plot title.\n",
    "\n",
    "* Call `plt.tight_layout()` at the end of your code."
   ]
  },
  {
   "cell_type": "code",
   "execution_count": null,
   "metadata": {
    "deletable": false,
    "id": "eMrpygbtnt7Y",
    "nbgrader": {
     "cell_type": "code",
     "checksum": "1d103341fb8a4a9a595e330f4d33fd19",
     "grade": true,
     "grade_id": "cell-42491c40ebeda1cf",
     "locked": false,
     "points": 1,
     "schema_version": 3,
     "solution": true,
     "task": false
    },
    "tags": []
   },
   "outputs": [],
   "source": [
    "# ENTER YOUR CODE IN THIS CELL\n",
    "\n"
   ]
  }
 ],
 "metadata": {
  "colab": {
   "provenance": [],
   "toc_visible": true
  },
  "kernelspec": {
   "display_name": "Python 3 (ipykernel)",
   "language": "python",
   "name": "python3"
  },
  "language_info": {
   "codemirror_mode": {
    "name": "ipython",
    "version": 3
   },
   "file_extension": ".py",
   "mimetype": "text/x-python",
   "name": "python",
   "nbconvert_exporter": "python",
   "pygments_lexer": "ipython3",
   "version": "3.11.4"
  }
 },
 "nbformat": 4,
 "nbformat_minor": 4
}
