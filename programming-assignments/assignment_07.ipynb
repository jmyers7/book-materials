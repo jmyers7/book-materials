{
  "cells": [
    {
      "cell_type": "markdown",
      "metadata": {
        "id": "Bq_UWHbNqMCv"
      },
      "source": [
        "# Chapter 7: Probabilistic loose ends\n",
        "\n",
        "As we delve into this programming assignment, we find ourselves at the midpoint of our year-long class. Your progression through the intricacies and complexities of Python has been commendable, and now, it's the opportune moment to entrust you with greater coding responsibilities as we gradually remove the guardrails! Moreover, as we navigate the second half of our class, the true power of Python will unfold, and you will catch a glimpse of some of the tools and techniques used in state-of-the-art applications.\n",
        "\n",
        "However, let's not leap too far ahead just yet. Our focus is on the current assignment, centered around [Chapter 8](https://mml.johnmyersmath.com/stats-book/chapters/08-more-prob.html) in the book. This chapter covers the final collection of (loosely related) topics in probability theory, essential groundwork that we must address before delving into advanced applications in inferential statistics and machine learning."
      ]
    },
    {
      "cell_type": "markdown",
      "metadata": {
        "id": "3iH6_lnBtk4a"
      },
      "source": [
        "## Directions\n",
        "\n",
        "1. The programming assignment is organized into sequences of short problems. You can see the structure of the programming assignment by opening the \"Table of Contents\" along the left side of the notebook (if you are using Google Colab or Jupyter Lab).\n",
        "\n",
        "2. Do not add any cells of your own to the notebook, or delete any existing cells (either code or markdown)."
      ]
    },
    {
      "cell_type": "markdown",
      "metadata": {
        "id": "s-THtqTXubzf"
      },
      "source": [
        "## Submission instructions\n",
        "\n",
        "1. Once you have finished entering all your solutions, you will want to rerun all cells from scratch to ensure that everything works OK. To do this in Google Colab, click \"Runtime -> Restart and run all\" along the top of the notebook.\n",
        "\n",
        "2. Now scroll back through your notebook and make sure that all code cells ran properly.\n",
        "\n",
        "3. If everything looks OK, save your assignment and upload the `.ipynb` file at the provided link on the course <a href=\"https://github.com/jmyers7/stats-book-materials\">GitHub repo</a>. Late submissions are not accepted.\n",
        "\n",
        "4. You may submit multiple times, but I will only grade your last submission."
      ]
    },
    {
      "cell_type": "markdown",
      "metadata": {},
      "source": [
        "## Conditional expectations\n",
        "\n",
        "The goal in the first part of this assignment is to demystify conditional expectations $E(Y \\mid X=x)$ in the case of real-world datasets. These are actually very easy to understand!\n",
        "\n",
        "First, let's begin by supposing that we have an observed bivariate dataset\n",
        "\n",
        "$$\n",
        "(x_1,y_1),(x_2,y_2),\\ldots,(x_m,y_m) \\in \\mathbb{R}^2.\n",
        "$$\n",
        "\n",
        "Associated with this dataset is the _bivariate empirical distribution_ that we saw back in a [previous section](https://mml.johnmyersmath.com/stats-book/chapters/07-random-vectors.html#bivariate-empirical-distributions) of the book. It is a discrete distribution, with mass function given by\n",
        "\n",
        "$$\n",
        "p(x,y) = \\frac{\\text{frequency of $(x,y)$ in the dataset}}{m}.\n",
        "$$\n",
        "\n",
        "Now, suppose that we let $(X,Y)$ be a two-dimensional discrete random vector with the empirical mass function $p(x,y)$ as its mass function. Can we work out a formula for the conditional expectation $E(Y\\mid X=x)$? Indeed, we can!\n",
        "\n",
        "First, we need to recall the definition [from class](https://mml.johnmyersmath.com/stats-book/chapters/08-more-prob.html#expectations-and-conditional-distributions):\n",
        "\n",
        "$$\n",
        "E(Y\\mid X =x) = \\sum_{y\\in \\mathbb{R}} y p(y|x).\n",
        "$$\n",
        "\n",
        "In order to make sense of this, we need the conditional mass function. We compute:\n",
        "\n",
        "$$\n",
        "p(y|x) = \\frac{p(x,y)}{p(x)} = \\frac{p(x,y)}{\\sum_{y^\\star \\in \\mathbb{R}} p(x,y^\\ast)} = \\frac{\\text{frequency of $(x,y)$ in the dataset}}{\\text{frequency of $x$ in the dataset}}.\n",
        "$$\n",
        "\n",
        "But then\n",
        "\n",
        "$$\n",
        "E(Y\\mid X =x) = \\frac{\\sum_{y\\in \\mathbb{R}} y \\times (\\text{frequency of $(x,y)$ in the data set})}{\\text{frequency of $x$ in the dataset}}.\n",
        "$$\n",
        "\n",
        "If you roll that formula around in your head for a bit, it should occur to you that the conditional expectation $E(Y \\mid X =x)$ is simply the average value of all those $y_i$'s in the dataset for which $x_i =x$.\n",
        "\n",
        "To make this even more concrete, let's bring back an old and familiar friend from last semester---the _Ames housing dataset_. Let's invite it to the party by running the following code cell:"
      ]
    },
    {
      "cell_type": "code",
      "execution_count": null,
      "metadata": {
        "colab": {
          "base_uri": "https://localhost:8080/",
          "height": 424
        },
        "id": "GPPsNcVgu5P8",
        "outputId": "268e312a-bacd-482f-8370-1bef378e06e1"
      },
      "outputs": [],
      "source": [
        "import pandas as pd\n",
        "url = 'https://raw.githubusercontent.com/jmyers7/stats-book-materials/main/data/data-3-1.csv'\n",
        "df = pd.read_csv(url)\n",
        "df"
      ]
    },
    {
      "cell_type": "markdown",
      "metadata": {
        "id": "3JRcM8MswSbc"
      },
      "source": [
        "Let's suppose that the random vector $Y$ from above corresponds to the data in the `price` column (measured in thousands of US dollars), while $X$ corresponds to the data in the `fireplaces` column."
      ]
    },
    {
      "cell_type": "markdown",
      "metadata": {
        "id": "GkBU-LqXFkJb"
      },
      "source": [
        "### Problem 1 --- Computing conditional expectations\n",
        "\n",
        "In the next code cell, use what you learned above to compute $E(Y \\mid X=2)$. Note that this is simply the average price of all those homes that have two fireplaces. Make sure to print your answer so that it is visible for grading purposes."
      ]
    },
    {
      "cell_type": "code",
      "execution_count": null,
      "metadata": {
        "colab": {
          "base_uri": "https://localhost:8080/"
        },
        "id": "PLgeS6aru8yn",
        "outputId": "5545b037-2092-48fe-8e29-1e79ad586d0a"
      },
      "outputs": [],
      "source": [
        "# ENTER YOUR CODE IN THIS CELL\n",
        "\n"
      ]
    },
    {
      "cell_type": "markdown",
      "metadata": {
        "id": "LXZJbstL2u4p"
      },
      "source": [
        "### A crash course in `for` loops\n",
        "\n",
        "For the next problem, you'll need to use a type of control structure called a `for` loop. (Miraculously, we made it through the entire first half of this course without using these.) As many of you likely already know, `for` loops are designed to help us complete repetitive tasks by iterating through a range of objects. For example, suppose we wanted to print out the integers from $2$ to $4$---then we would write this:"
      ]
    },
    {
      "cell_type": "code",
      "execution_count": null,
      "metadata": {
        "colab": {
          "base_uri": "https://localhost:8080/"
        },
        "id": "5ceNLGD63XqA",
        "outputId": "1271fd23-83d4-4608-e611-ec05bd1bfd4c"
      },
      "outputs": [],
      "source": [
        "for k in range(2, 5):\n",
        "  print(k)"
      ]
    },
    {
      "cell_type": "markdown",
      "metadata": {
        "id": "IgVyvVYb30rQ"
      },
      "source": [
        "Notice the colon `:` at the end of the first line, the indentation on the second line, and the fact that the `range` function _includes_ the $2$ but _excludes_ the $5$. Here's another example, where we first define a list of strings to iterate through:"
      ]
    },
    {
      "cell_type": "code",
      "execution_count": null,
      "metadata": {
        "colab": {
          "base_uri": "https://localhost:8080/"
        },
        "id": "391KPWE63aCu",
        "outputId": "77e41502-e5a9-4f90-9773-623e7fbca607"
      },
      "outputs": [],
      "source": [
        "fruits = ['apples', 'berries', 'pears']\n",
        "\n",
        "for fruit in fruits:\n",
        "  print(fruit)"
      ]
    },
    {
      "cell_type": "markdown",
      "metadata": {
        "id": "iBTZvBjd4abK"
      },
      "source": [
        "And another example, a bit more advanced, where we `zip` together two \"iterables,\" perform some arithmetic, and also print out some `f`-strings:"
      ]
    },
    {
      "cell_type": "code",
      "execution_count": null,
      "metadata": {
        "colab": {
          "base_uri": "https://localhost:8080/"
        },
        "id": "LbCOhapD4mth",
        "outputId": "e1d2fc06-9616-4e4d-dae2-fd7a9377564a"
      },
      "outputs": [],
      "source": [
        "for number, fruit in zip(range(2, 5), fruits):\n",
        "  k = number + 12\n",
        "  print(f'I have {k} {fruit}.')\n",
        "\n",
        "print('How many items of fruit do you have?')"
      ]
    },
    {
      "cell_type": "markdown",
      "metadata": {
        "id": "JH4pMn-F43fo"
      },
      "source": [
        "Please take your time to step through this last code cell, to make sure you understand everything. Again, notice the colon `:` and the indentation denoting the body of the loop. The last `print` statement is _not_ indented, so it is not in the loop.\n",
        "\n",
        "One of the most convenient features of the Python language is something called _list comprehension_, where you embed a `for` loop inside a list constructor to produce a list:"
      ]
    },
    {
      "cell_type": "code",
      "execution_count": null,
      "metadata": {
        "colab": {
          "base_uri": "https://localhost:8080/"
        },
        "id": "rx4xYJ1H538K",
        "outputId": "b5f19b06-1e56-4626-ac0d-132dc3128821"
      },
      "outputs": [],
      "source": [
        "# produce a list of the squares of the first ten nonnegative integers\n",
        "[k ** 2 for k in range(10)]"
      ]
    },
    {
      "cell_type": "markdown",
      "metadata": {
        "id": "ewad7Fu359TZ"
      },
      "source": [
        "Notice that when you call `range` with only one number, Python automatically assumes that the lower bound is $0$.\n",
        "\n",
        "We can wrap a call to `sum` around a list comprehension to implement mathematical sums like\n",
        "\n",
        "$$\n",
        "\\sum_{k=1}^3 k^2.\n",
        "$$\n",
        "\n",
        "Indeed, I would compute this sum using list comprehension like this:"
      ]
    },
    {
      "cell_type": "code",
      "execution_count": null,
      "metadata": {
        "colab": {
          "base_uri": "https://localhost:8080/"
        },
        "id": "E9cakSHg6T2E",
        "outputId": "908e055f-391b-4064-a847-5a41bcb21422"
      },
      "outputs": [],
      "source": [
        "sum([k ** 2 for k in range(1, 4)])"
      ]
    },
    {
      "cell_type": "markdown",
      "metadata": {
        "id": "46pezUub5Vg-"
      },
      "source": [
        "### Problem 2 --- The Law of Total Expectation\n",
        "\n",
        "Now, in the next code cell, extract a series from the dataframe `df` containing the values of the empirical mass function of the `fireplaces` random variable $X$. (_Hint_: Remember the `value_counts` method from previous assignments?) Save it into the variable `pmf` and print it out on the last line."
      ]
    },
    {
      "cell_type": "code",
      "execution_count": null,
      "metadata": {
        "colab": {
          "base_uri": "https://localhost:8080/"
        },
        "id": "mD_A425M64zM",
        "outputId": "1e842fad-5d3d-4a04-87e7-8235b1c35450"
      },
      "outputs": [],
      "source": [
        "# ENTER YOUR CODE IN THIS CELL\n",
        "\n"
      ]
    },
    {
      "cell_type": "markdown",
      "metadata": {
        "id": "3PS4vjs87eAM"
      },
      "source": [
        "In the next code cell, use `pmf` and what you learned about `for` loops to compute the iterated expectation $E\\left( E(Y\\mid X) \\right)$ using the LotUS, where $Y$ is the `price` random variable. (_Hint_: You can iterate through `pmf` in a `for` loop. You can do this in one line of code if you use `sum` and list comprehension intelligently.) No matter how you decide to do it, make sure to print your answer so I can see it."
      ]
    },
    {
      "cell_type": "code",
      "execution_count": null,
      "metadata": {
        "colab": {
          "base_uri": "https://localhost:8080/"
        },
        "id": "AxMmEX3H7v8r",
        "outputId": "786274c8-aefb-44cb-c2c6-2c1557ed383d"
      },
      "outputs": [],
      "source": [
        "# ENTER YOUR CODE IN THIS CELL\n",
        "\n"
      ]
    },
    {
      "cell_type": "markdown",
      "metadata": {
        "id": "nM2BCRii9Ez4"
      },
      "source": [
        "In the next code cell compute and print the expectation $E(Y)$. Your answer should be equal to the iterated expectation $E\\left(E(Y \\mid X)\\right)$, or ever so slightly different due to rounding (or something)."
      ]
    },
    {
      "cell_type": "code",
      "execution_count": null,
      "metadata": {
        "colab": {
          "base_uri": "https://localhost:8080/"
        },
        "id": "JHx2NAF19WTK",
        "outputId": "6ec6fb79-e906-46e0-b4d9-66c65228126d"
      },
      "outputs": [],
      "source": [
        "# ENTER YOUR CODE IN THIS CELL\n",
        "\n"
      ]
    },
    {
      "cell_type": "markdown",
      "metadata": {
        "id": "UorxVet5UmmW"
      },
      "source": [
        "## Multivariate normal distributions\n",
        "\n",
        "We now bring multivariate normal distributions into the mix.\n",
        "\n"
      ]
    },
    {
      "cell_type": "markdown",
      "metadata": {
        "id": "0335PvRtaSX1"
      },
      "source": [
        "### Problem 3 --- Sampling\n",
        "\n",
        "We discussed in [the book](https://mml.johnmyersmath.com/stats-book/chapters/08-more-prob.html#multivariate-normal-distributions) (and during class) how one can set up a covariance matrix to sample from a multivariate normal distribution to obtain a scatter plot of a certain shape. In the next code cell, draw $1{,}000$ random samples from a multivariate normal distribution whose components are negatively correlated (you get to pick your own correlation). I would store your sample in a variable named `sample`, because you're going to need it later.\n",
        "\n",
        "Then, in the same code cell, produce a scatter plot to show your sampled data. Remember to implement all the best practices for plotting that you learned last semester: Choose axis labels and nice colors, and alter the opacity of the points if needed to make the graph more readable. (_Hint_: I would look through the code used in [the book](https://mml.johnmyersmath.com/stats-book/chapters/08-more-prob.html#multivariate-normal-distributions) for hints. As you might have guessed, you're going to use [SciPy](https://docs.scipy.org/doc/scipy/reference/generated/scipy.stats.multivariate_normal.html).)"
      ]
    },
    {
      "cell_type": "code",
      "execution_count": null,
      "metadata": {
        "colab": {
          "base_uri": "https://localhost:8080/",
          "height": 430
        },
        "id": "26RrB8-6biQd",
        "outputId": "710e93a7-d97c-4f61-bddf-69abf54863c5"
      },
      "outputs": [],
      "source": [
        "# ENTER YOUR CODE IN THIS CELL\n",
        "\n"
      ]
    },
    {
      "cell_type": "markdown",
      "metadata": {
        "id": "vaaIJRegdU3Q"
      },
      "source": [
        "From your sampled data, in the next code cell, produce a histogram of the marginal distribution along the $x$-axis. I recommend using the `histplot` method from Seaborn rather than `hist` from Matplotlib. (You already _know_ from the theory in class what the shape of this marginal distribution should be!)"
      ]
    },
    {
      "cell_type": "code",
      "execution_count": null,
      "metadata": {
        "colab": {
          "base_uri": "https://localhost:8080/",
          "height": 430
        },
        "id": "Cjg4mVHvcC0O",
        "outputId": "0df26d45-bcf1-4a55-a60d-d80c9c6d5452"
      },
      "outputs": [],
      "source": [
        "# ENTER YOUR CODE IN THIS CELL\n",
        "\n"
      ]
    },
    {
      "cell_type": "markdown",
      "metadata": {
        "id": "de2xzKpFeJN1"
      },
      "source": [
        "### Empirical covariances and correlations\n",
        "\n",
        "The covariances and correlations that we studied in class are theoretical objects---how do they relate to real-world datasets and empirical distributions?\n",
        "\n",
        "Let's start with the simple case of an observed bivariate dataset\n",
        "\n",
        "$$\n",
        "(x_1,y_1),(x_2,y_2),\\ldots,(x_m,y_m) \\in \\mathbb{R}^2.\n",
        "$$\n",
        "\n",
        "To define the _empirical covariance_ and _correlation_, we begin by [remembering](https://mml.johnmyersmath.com/stats-book/chapters/06-theory-to-practice.html#empirical-statistics) that we already have definitions of the _empirical mean_, _empirical variance_, and _empirical standard deviation_. For the $x$'s, these are defined, respectively, by\n",
        "\n",
        "$$\n",
        "\\bar{x} \\stackrel{\\text{def}}{=} \\frac{1}{m} \\sum_{i=1}^m x_i, \\quad s_x^2 \\stackrel{\\text{def}}{=} \\frac{1}{m-1} \\sum_{i=1}^m (x_i - \\bar{x}), \\quad \\text{and} \\quad s_x \\stackrel{\\text{def}}{=} \\sqrt{s_x^2},\n",
        "$$\n",
        "\n",
        "and similarly for the $y$'s. Then, the _empirical covariance_, denoted $s_{xy}$, is defined to be the sum\n",
        "\n",
        "$$\n",
        "s_{xy} \\stackrel{\\text{def}}{=} \\frac{1}{m-1} \\sum_{i=1}^m (x - \\bar{x})(y-\\bar{y}),\n",
        "$$\n",
        "\n",
        "while the _empirical correlation_, denoted $r_{xy}$, is defined to be the ratio\n",
        "\n",
        "$$\n",
        "r_{xy} \\stackrel{\\text{def}}{=} \\frac{s_{xy}}{s_xs_y}.\n",
        "$$\n",
        "\n",
        "On expanding the numerator and denominator of the right-hand side, note that\n",
        "\n",
        "$$\n",
        "r_{xy} = \\frac{\\sum_{i=1}^m (x_i - \\bar{x})(y_i - \\bar{y})}{\\sqrt{\\sum_{i=1}^m (x_i - \\bar{x})^2 \\sum_{i=1}^m (y_i - \\bar{y})^2}},\n",
        "$$\n",
        "\n",
        "which is a formula some of you may have seen before.\n",
        "\n",
        "Now, let's upgrade to an observed multivariate dataset\n",
        "\n",
        "$$\n",
        "(x_{11},\\ldots,x_{1n}),(x_{21},\\ldots,x_{2n}),\\ldots,(x_{m1},\\ldots,x_{mn})\\in \\mathbb{R}^n\n",
        "$$\n",
        "\n",
        "where $m$ is the number of data points and $n$ is the dimension of the data. Our goal now is to define the _empirical covariance matrix_ and _empirical correlation matrix_. For this, it is convenient to load these data into the rows of an $m\\times n$ matrix called the _design matrix_:\n",
        "\n",
        "$$\n",
        "\\mathbf{X} = \\begin{bmatrix}\n",
        "x_{11} & \\cdots & x_{1n} \\\\\n",
        "\\vdots & \\ddots & \\vdots \\\\\n",
        "x_{m1} & \\cdots & x_{mn}\n",
        "\\end{bmatrix}.\n",
        "$$\n",
        "\n",
        "(Notice that the capital bold $\\mathbf{X}$ represents a matrix, not a random vector.) Each column of the design matrix contains observations of a single feature; for example, you might view our dataframe from the Ames housing dataset as a design matrix!\n",
        "\n",
        "For each column of the design matrix, we have the empirical mean\n",
        "\n",
        "$$\n",
        "\\bar{x}_j \\stackrel{\\text{def}}{=} \\frac{1}{m} \\sum_{i=1}^m x_{ij}, \\quad j=1,\\ldots,n,\n",
        "$$\n",
        "\n",
        "and between the $i$-th and $j$-th columns we have the empirical covariance\n",
        "\n",
        "$$\n",
        "s_{ij} \\stackrel{\\text{def}}{=} \\frac{1}{m-1} \\sum_{k=1}^m(x_{ki} - \\bar{x}_i)(x_{kj}-\\bar{x}_j),\n",
        "$$\n",
        "\n",
        "and empirical correlation\n",
        "\n",
        "$$\n",
        "r_{ij} \\stackrel{\\text{def}}{=} \\frac{s_{ij}}{\\sqrt{s_{ii}}\\sqrt{s_{jj}}},\n",
        "$$\n",
        "\n",
        "for $i,j=1,\\ldots,n$. Now, if we stick all $n^2$ of the empirical covariances into an $n\\times n$ matrix, we get the _empirical covariance matrix_\n",
        "\n",
        "$$\n",
        "\\mathbf{S} \\stackrel{\\text{def}}{=} [s_{ij}]_{ij} = \\begin{bmatrix}\n",
        "s_{11} & \\cdots & s_{1n} \\\\ \\vdots & \\ddots & \\vdots \\\\ s_{n1} & \\cdots & s_{nn} \\end{bmatrix},\n",
        "$$\n",
        "\n",
        "while if we stick the empirical correlations into a matrix we get the _empirical correlation matrix_:\n",
        "\n",
        "$$\n",
        "\\mathbf{R} \\stackrel{\\text{def}}{=} [r_{ij}]_{ij} = \\begin{bmatrix}\n",
        "r_{11} & \\cdots & r_{1n} \\\\ \\vdots & \\ddots & \\vdots \\\\ r_{n1} & \\cdots & r_{nn} \\end{bmatrix}.\n",
        "$$"
      ]
    },
    {
      "cell_type": "markdown",
      "metadata": {
        "id": "hOKRcbHMqpOh"
      },
      "source": [
        "### Problem 4 --- Covariances and correlations of the Ames data\n",
        "\n",
        "Holy smokes, those were some pretty intense formulas! But don't worry, because the Pandas library contains methods that make computing empirical covariances and correlations super easy!\n",
        "\n",
        "First, in the next code cell, produce a scatter plot of the `price` column of the Ames data versus the `area` column. (This means `price` goes along the vertical axis, while `area` goes along the horizontal. Lots of people get the order of the \"versus\" terminology backwards. It's a pet peeve of mine.)"
      ]
    },
    {
      "cell_type": "code",
      "execution_count": null,
      "metadata": {
        "colab": {
          "base_uri": "https://localhost:8080/",
          "height": 449
        },
        "id": "JuLwgRvirQcG",
        "outputId": "eda28788-78e4-43ed-f43a-22f016bc8896"
      },
      "outputs": [],
      "source": [
        "# ENTER YOUR CODE IN THIS CELL\n",
        "\n"
      ]
    },
    {
      "cell_type": "markdown",
      "metadata": {
        "id": "FVxpsbrWrfL6"
      },
      "source": [
        "Given this scatter plot, what range of values might you expect for the empirical correlation between `price` and `area`? In the next code cell, use a convenient method from the Pandas library to compute the empirical correlation matrix between these two variables. (You'll have to search on your own to find this method, but it's literally the first thing that you get when you Google.) Make sure to print your answer."
      ]
    },
    {
      "cell_type": "code",
      "execution_count": null,
      "metadata": {
        "colab": {
          "base_uri": "https://localhost:8080/",
          "height": 112
        },
        "id": "S2ZTbPY3sGq_",
        "outputId": "9732abdb-d694-4bd1-afe7-d2bdc190644d"
      },
      "outputs": [],
      "source": [
        "# ENTER YOUR CODE IN THIS CELL\n",
        "\n"
      ]
    },
    {
      "cell_type": "markdown",
      "metadata": {
        "id": "jnrMGP70sKn7"
      },
      "source": [
        "Is the value of the empirical correlation between `area` and `price` around what you were expecting?\n",
        "\n",
        "Now, use another convenient method from the Pandas library to compute the empirical covariance matrix between `area` and `price`. Save your answer into a variable like `S`, because you're going to need this matrix later. Make sure to print your answer."
      ]
    },
    {
      "cell_type": "code",
      "execution_count": null,
      "metadata": {
        "colab": {
          "base_uri": "https://localhost:8080/",
          "height": 125
        },
        "id": "QRrfIhhetyJs",
        "outputId": "cdbd3788-b117-46ac-cfa2-91a46970de27"
      },
      "outputs": [],
      "source": [
        "# ENTER YOUR CODE IN THIS CELL\n",
        "\n"
      ]
    },
    {
      "cell_type": "markdown",
      "metadata": {
        "id": "Hr3HCJt4tbgN"
      },
      "source": [
        "### Problem 5 --- Fitting a multivariate normal model to the Ames data\n",
        "\n",
        "Scroll back up to your scatter plot of `price` versus `area`---does that data look (bivariate) normal? Not so much, but we're going to attempt to model it using a bivariate normal model anyways, just for practice.\n",
        "\n",
        "First, in the next code cell, implement a bivariate normal random vector called `norm` using SciPy and your empirical covariance matrix from above. For the mean vector, you'll need to compute the empirical means of the `area` and `price` column. You do not need to print anything in this cell."
      ]
    },
    {
      "cell_type": "code",
      "execution_count": null,
      "metadata": {
        "id": "W-JKRNQlucx1"
      },
      "outputs": [],
      "source": [
        "# ENTER YOUR CODE IN THIS CELL\n",
        "\n"
      ]
    },
    {
      "cell_type": "markdown",
      "metadata": {
        "id": "oEq-IJS6zMGC"
      },
      "source": [
        "In the next code cell, produce a scatter plot of `area` versus `price` on top of the isoprobability contours of your bivariate normal random vector. (_Hint_: I did something very similar in [the book](https://mml.johnmyersmath.com/stats-book/chapters/08-more-prob.html#multivariate-normal-distributions). Look there for inspiration for your code.) Make sure to adjust the range on the horizontal and vertical axes of your plot so that you can see the _whole_ dataset. Make it look pretty!"
      ]
    },
    {
      "cell_type": "code",
      "execution_count": null,
      "metadata": {
        "colab": {
          "base_uri": "https://localhost:8080/",
          "height": 455
        },
        "id": "YGML4Yznujy9",
        "outputId": "458b32cc-2ac6-48b5-b149-6efcdd5aafde"
      },
      "outputs": [],
      "source": [
        "# ENTER YOUR CODE IN THIS CELL\n",
        "\n"
      ]
    },
    {
      "cell_type": "markdown",
      "metadata": {
        "id": "6Dalpmc2z494"
      },
      "source": [
        "Does it look like the bivariate normal fits the data well? Nope. But still, this was really good practice with coding and model checking."
      ]
    }
  ],
  "metadata": {
    "colab": {
      "provenance": [],
      "toc_visible": true
    },
    "kernelspec": {
      "display_name": "Python 3",
      "name": "python3"
    },
    "language_info": {
      "codemirror_mode": {
        "name": "ipython",
        "version": 3
      },
      "file_extension": ".py",
      "mimetype": "text/x-python",
      "name": "python",
      "nbconvert_exporter": "python",
      "pygments_lexer": "ipython3",
      "version": "3.10.12"
    }
  },
  "nbformat": 4,
  "nbformat_minor": 0
}
