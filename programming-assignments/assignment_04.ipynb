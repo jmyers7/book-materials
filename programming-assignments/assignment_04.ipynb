{
 "cells": [
  {
   "cell_type": "markdown",
   "metadata": {
    "id": "fFNMqUApmL37"
   },
   "source": [
    "# Chapter 4: Random variables in SciPy\n",
    "\n",
    "This programming assignment focuses on [SciPy](https://docs.scipy.org/doc/scipy/index.html), which is one of the main scientific computing libraries for Python. Beyond probability and statistics, it also provides functionality for many other areas of computational mathematics.\n",
    "\n",
    "SciPy implements a [huge number](https://docs.scipy.org/doc/scipy/reference/stats.html#probability-distributions) of probability distributions, including all the ones that we will study in our class. It includes the mass and density functions of random variables, their cumulative distribution functions, and also their statistics like expectations, variances, and quantiles. We will explore all of these in this assignment. At the end, we will also see how to simulate datasets via sampling in SciPy, and we will make the connection with the empirical distributions studied in the [previous programming assignment](https://github.com/jmyers7/stats-book-materials/blob/main/programming-assignments/assignment_03.ipynb)."
   ]
  },
  {
   "cell_type": "markdown",
   "metadata": {
    "id": "zHdGAAEG0zPp"
   },
   "source": [
    "## Directions\n",
    "\n",
    "1. The programming assignment is organized into sequences of short problems. You can see the structure of the programming assignment by opening the \"Table of Contents\" along the left side of the notebook (if you are using Google Colab or Jupyter Lab).\n",
    "\n",
    "3. Each problem contains a blank cell containing the following comment: `# ENTER YOUR CODE IN THIS CELL`. Enter your code in these cells below the comment, being sure to not erase the comment. There are usually directions on the precise syntax that you will use to enter your solution properly. Please pay very careful attention to these directions.\n",
    "\n",
    "4. Below most of the solution cells are \"autograder\" cells. Do not alter the autograder cells in any way.\n",
    "\n",
    "5. Do not add any cells of your own to the notebook, or delete any existing cells (either code or markdown)."
   ]
  },
  {
   "cell_type": "markdown",
   "metadata": {
    "id": "9hFhwtNK024M"
   },
   "source": [
    "## Submission instructions\n",
    "\n",
    "1. Once you have finished entering all your solutions, you will want to rerun all cells from scratch to ensure that everything works OK. To do this in Google Colab, click \"Runtime -> Restart and run all\" along the top of the notebook.\n",
    "\n",
    "2. Now scroll back through your notebook and make sure that all code cells ran properly.\n",
    "\n",
    "3. If everything looks OK, save your assignment and upload the `.ipynb` file at the provided link on the course <a href=\"https://github.com/jmyers7/stats-book-materials\">GitHub repo</a>. Late submissions are not accepted.\n",
    "\n",
    "4. You may submit multiple times, but I will only grade your last submission."
   ]
  },
  {
   "cell_type": "markdown",
   "metadata": {
    "id": "1el8Pn9SZ748"
   },
   "source": [
    "## Mass and density functions from scratch"
   ]
  },
  {
   "cell_type": "markdown",
   "metadata": {
    "id": "4LWQ2kXrZ_xU"
   },
   "source": [
    "## Description\n",
    "\n",
    "Though the goal of this assignment is to learn how random variables are implemented in SciPy, let's start off by learning how to code mass and density functions from scratch. These skills will be very valuable later, when we code custom probabilistic models in Python in a [future chapter](https://mml.johnmyersmath.com/stats-book/chapters/models.html) of the book.\n",
    "\n",
    "We first import SciPy under the alias `sp`, as well as the other standard and (by now) familiar libraries:"
   ]
  },
  {
   "cell_type": "code",
   "execution_count": null,
   "metadata": {
    "id": "R9sg9dHfbD52"
   },
   "outputs": [],
   "source": [
    "import scipy as sp\n",
    "import numpy as np\n",
    "import pandas as pd\n",
    "import matplotlib.pyplot as plt"
   ]
  },
  {
   "cell_type": "markdown",
   "metadata": {
    "id": "d0a0g8HzbEUr"
   },
   "source": [
    "Then, let's begin with binomial random variables. We recall that their mass functions look like\n",
    "\n",
    "$$\n",
    "p(x;n,\\theta) = \\binom{n}{x} \\theta^x ( 1-\\theta)^{n-x},\n",
    "$$\n",
    "\n",
    "for $x=0,1,\\ldots,n$. This may be implemented as follows:"
   ]
  },
  {
   "cell_type": "code",
   "execution_count": null,
   "metadata": {
    "id": "J7hbk0R3bIV_"
   },
   "outputs": [],
   "source": [
    "def p(x, n, theta):\n",
    "  return sp.special.binom(n, x) * (theta ** x) * ((1 - theta) ** (n - x))"
   ]
  },
  {
   "cell_type": "markdown",
   "metadata": {
    "id": "ovI0o19Bbx5I"
   },
   "source": [
    "Note that I used the `binom` method from the `special` submodule in SciPy (see the [docs](https://docs.scipy.org/doc/scipy/reference/generated/scipy.special.binom.html#scipy.special.binom)) for the binomial coefficient. Notice also the proper usage of spacing and parentheses to increase readability and reduce ambiguity. Compare my code to this garbage code:\n",
    "\n",
    "``` python\n",
    "def p(x,n,theta):\n",
    "  return sp.special(n,x)*theta**x*(1-theta)**(n-x)\n",
    "```\n",
    "\n",
    "Gross! As you progress in your journey and mature as a programmer, you want to pay attention to stylistic issues like these. So start practicing now! (Also, take a look at [this](https://peps.python.org/pep-0008/).)\n",
    "\n",
    "Now, let's see if our mass function is correct. In the [section of the book](https://mml.johnmyersmath.com/stats-book/chapters/examples-of-rvs.html#binomial-distributions) on binomial random variables, there is a probability histogram of a random variable $X\\sim Bin(8,0.75)$. Let's see if we can recreate it.\n",
    "\n",
    "First, we define a NumPy array containing the support of the mass function and pass this into the PMF to obtain the corresponding probabilities:"
   ]
  },
  {
   "cell_type": "code",
   "execution_count": null,
   "metadata": {
    "colab": {
     "base_uri": "https://localhost:8080/"
    },
    "id": "i8il-ORaenJ4",
    "outputId": "4f76b839-d05c-4c6d-d286-f0b8c9b7a925"
   },
   "outputs": [],
   "source": [
    "support = np.arange(0, 9)\n",
    "probs = p(x=support, n=8, theta=0.75)\n",
    "probs"
   ]
  },
  {
   "cell_type": "markdown",
   "metadata": {
    "id": "fufs3xiZfEMR"
   },
   "source": [
    "Notice that `probs` is actually a NumPy array. But, if we want to use the same techniques that we used in the [previous programming assignment](https://github.com/jmyers7/stats-book-materials/blob/main/programming-assignments/assignment_03.ipynb) to produce a plot of the PMF, we need to create a Pandas Series:"
   ]
  },
  {
   "cell_type": "code",
   "execution_count": null,
   "metadata": {
    "colab": {
     "base_uri": "https://localhost:8080/"
    },
    "id": "ZnsmlGgJfJey",
    "outputId": "957f439f-c12a-4b83-c171-c4c87dac6e36"
   },
   "outputs": [],
   "source": [
    "pmf = pd.Series(data=probs, index=support)\n",
    "pmf"
   ]
  },
  {
   "cell_type": "markdown",
   "metadata": {
    "id": "pdAfLPjmfOZr"
   },
   "source": [
    "Notice that `pmf` is a Pandas Series whose data column contains the values of the mass function and whose indices contain the support.\n",
    "\n",
    "Now, we use the same code from the [previous programming assignment](https://github.com/jmyers7/stats-book-materials/blob/main/programming-assignments/assignment_03.ipynb) to produce the histogram:"
   ]
  },
  {
   "cell_type": "code",
   "execution_count": null,
   "metadata": {
    "colab": {
     "base_uri": "https://localhost:8080/",
     "height": 474
    },
    "id": "YuXAzpAtfUQN",
    "outputId": "fe9994ff-5c50-47b2-83d2-0e1232ba7620"
   },
   "outputs": [],
   "source": [
    "pmf.plot(kind='bar', rot=0)\n",
    "plt.xlabel('$x$')\n",
    "plt.ylabel('probability')\n",
    "plt.title('PMF of $X \\sim Bin(8, 0.75)$')\n",
    "plt.show()"
   ]
  },
  {
   "cell_type": "markdown",
   "metadata": {
    "id": "CqPqYgodfeoQ"
   },
   "source": [
    "That looks about right!"
   ]
  },
  {
   "cell_type": "markdown",
   "metadata": {
    "id": "ejuwp3Rdfz-C"
   },
   "source": [
    "### Problem 1 --- PDFs of exponential variables from scratch\n",
    "\n",
    "In the next code block, implement the density function for an [exponential random variable](https://mml.johnmyersmath.com/stats-book/chapters/examples-of-rvs.html#exponential-distributions) with call signature `f(x, l)` where `l` stands for $\\lambda$. You might be tempted to use `lambda` instead of `l`, but you can't, because `lambda` is a reserved keyword in the Python language. Use `np.exp` for the exponential function.\n"
   ]
  },
  {
   "cell_type": "code",
   "execution_count": null,
   "metadata": {
    "deletable": false,
    "id": "8M2RsQXagYYA",
    "nbgrader": {
     "cell_type": "code",
     "checksum": "bc85a0fa5ccab4c6b426455993736ab6",
     "grade": false,
     "grade_id": "cell-47bfd85bc3a2293b",
     "locked": false,
     "schema_version": 3,
     "solution": true,
     "task": false
    },
    "tags": []
   },
   "outputs": [],
   "source": [
    "# ENTER YOUR CODE IN THIS CELL\n",
    "\n"
   ]
  },
  {
   "cell_type": "code",
   "execution_count": null,
   "metadata": {
    "deletable": false,
    "editable": false,
    "id": "aeYMwzbvgo5E",
    "nbgrader": {
     "cell_type": "code",
     "checksum": "32bdf367f42778e5fadff283cb2fac5b",
     "grade": true,
     "grade_id": "cell-1abb284df222cddb",
     "locked": true,
     "points": 1,
     "schema_version": 3,
     "solution": false,
     "task": false
    },
    "tags": []
   },
   "outputs": [],
   "source": [
    "# Autograder cell. Do NOT alter or delete this cell.\n"
   ]
  },
  {
   "cell_type": "markdown",
   "metadata": {
    "id": "rWzOx79Fg6iu"
   },
   "source": [
    "Now, to make sure that your implementation is correct, produce the following plot using your density function `f`:\n",
    "\n",
    "<center>\n",
    "<img src=\"https://github.com/jmyers7/stats-book-materials/blob/482838c8622e479424b1b0d03b6a119c307f5817/img/exp-pdf.png?raw=true\" width=\"600\" align=\"center\">\n",
    "</center>\n",
    "\n",
    "As always, I am looking for an _exact_ recreation, so take care to notice the axis labels and the title of the plot. If you don't know how to write \"$X\\sim Exp(3)$\" in LaTeX, look at the plot in the previous section for hints. We produced plots like this in the [first programming assignment](https://github.com/jmyers7/stats-book-materials/blob/main/programming-assignments/assignment_01.ipynb). Look there for more hints."
   ]
  },
  {
   "cell_type": "code",
   "execution_count": null,
   "metadata": {
    "colab": {
     "base_uri": "https://localhost:8080/",
     "height": 474
    },
    "deletable": false,
    "id": "KSmD59-DhA01",
    "nbgrader": {
     "cell_type": "code",
     "checksum": "7a28415bb11126a7d2ef041418e0c238",
     "grade": true,
     "grade_id": "cell-ea8276750ad96974",
     "locked": false,
     "points": 1,
     "schema_version": 3,
     "solution": true,
     "task": false
    },
    "outputId": "96d09291-80c6-4a79-8075-42ae1c0440fc",
    "tags": []
   },
   "outputs": [],
   "source": [
    "# ENTER YOUR CODE IN THIS CELL\n",
    "\n"
   ]
  },
  {
   "cell_type": "markdown",
   "metadata": {
    "id": "Nh6bjo_9cp59"
   },
   "source": [
    "## Mass and density functions in SciPy"
   ]
  },
  {
   "cell_type": "markdown",
   "metadata": {
    "id": "C-ygsoU3cvFv"
   },
   "source": [
    "### Description\n",
    "\n",
    "Having coded mass and density functions from scratch, we now begin learning how SciPy implements mass and density functions.\n",
    "\n",
    "First up is the binomial random variable $X \\sim Bin(8, 0.75)$ from the previous section. According to the the [docs](https://docs.scipy.org/doc/scipy/reference/generated/scipy.stats.binom.html), its mass function is implemented in SciPy as follows:"
   ]
  },
  {
   "cell_type": "code",
   "execution_count": null,
   "metadata": {
    "id": "dQaD_DZt_7KR"
   },
   "outputs": [],
   "source": [
    "X = sp.stats.binom(n=8, p=0.75)"
   ]
  },
  {
   "cell_type": "markdown",
   "metadata": {
    "id": "abB41hvC_8xq"
   },
   "source": [
    "Notice that SciPy uses $p$ instead of $\\theta$ for the second parameter. Also, if you look in the [docs](https://docs.scipy.org/doc/scipy/reference/generated/scipy.stats.binom.html), you'll see that SciPy implements the mass function in slightly different notation compared to what we use in class:\n",
    "\n",
    "$$\n",
    "f(k) = \\binom{n}{k} p^k (1-p)^{1-k}.\n",
    "$$\n",
    "\n",
    "In addition to using $p$ in place of $\\theta$, notice that SciPy uses $f(k)$ rather than $p(x)$.\n",
    "\n",
    "Let's evaluate $p(4)$ (in our notation) for our random variable $X$:"
   ]
  },
  {
   "cell_type": "code",
   "execution_count": null,
   "metadata": {
    "colab": {
     "base_uri": "https://localhost:8080/"
    },
    "id": "co2M233IAv6s",
    "outputId": "b9af84fb-a15b-447f-b3c5-21dd0f58ba41"
   },
   "outputs": [],
   "source": [
    "X.pmf(4)"
   ]
  },
  {
   "cell_type": "markdown",
   "metadata": {
    "id": "WJcEHD_rAyQ7"
   },
   "source": [
    "If you compare my function call to `pmf` to the call signature in the docs, you'll notice that I _only_ passed in `k=4` (as an unlabeled parameter) and left off the `n` and `p` parameters. I got away with this because I \"froze\" the `n` and `p` into `X` when I defined it above.\n",
    "\n",
    "Let's recreate the probability histogram for $X$ from the previous section:"
   ]
  },
  {
   "cell_type": "code",
   "execution_count": null,
   "metadata": {
    "colab": {
     "base_uri": "https://localhost:8080/",
     "height": 474
    },
    "id": "llxbxqnKDueo",
    "outputId": "8ce9d899-ab2d-4916-a656-66c5a833a297"
   },
   "outputs": [],
   "source": [
    "support = np.arange(0, 9)\n",
    "probs = X.pmf(support)\n",
    "pmf = pd.Series(data=probs, index=support)\n",
    "pmf.plot(kind='bar', rot=0)\n",
    "plt.xlabel('$x$')\n",
    "plt.ylabel('probability')\n",
    "plt.title('PMF of $X \\sim Bin(8, 0.75)$')\n",
    "plt.show()"
   ]
  },
  {
   "cell_type": "markdown",
   "metadata": {
    "id": "r-V6nnWJHpIx"
   },
   "source": [
    "Looks the same, right?\n",
    "\n",
    "Having looked at a discrete random variable, how about a continuous one? According to the [docs](https://docs.scipy.org/doc/scipy/reference/generated/scipy.stats.gamma.html), we would implement a random variable $Y\\sim Gam(4, 3)$ as follows:"
   ]
  },
  {
   "cell_type": "code",
   "execution_count": null,
   "metadata": {
    "id": "1u78RgZBHxUC"
   },
   "outputs": [],
   "source": [
    "Y = sp.stats.gamma(a=4, scale=1 / 3)"
   ]
  },
  {
   "cell_type": "markdown",
   "metadata": {
    "id": "Va9DessKH3FR"
   },
   "source": [
    "As you may read for yourself, the SciPy implementation of a random variable $Gam(\\alpha,\\beta)$ takes `a` as the $\\alpha$ parameter and `scale` as the parameter $1/\\beta$.\n",
    "\n",
    "Let's plot the density function of $Y$ over the interval $[0,10]$. Hopefully by now you are starting to recognize familiar bits of code:"
   ]
  },
  {
   "cell_type": "code",
   "execution_count": null,
   "metadata": {
    "colab": {
     "base_uri": "https://localhost:8080/",
     "height": 475
    },
    "id": "9ifgT9-cHn_q",
    "outputId": "12e64098-b46e-420f-8770-9bf24a0a121a"
   },
   "outputs": [],
   "source": [
    "grid = np.linspace(0, 10)\n",
    "plt.plot(grid, Y.pdf(grid))\n",
    "plt.xlabel('$y$')\n",
    "plt.ylabel('probability density')\n",
    "plt.title('PDF of $Y \\sim Gam(4, 3)$')\n",
    "plt.show()"
   ]
  },
  {
   "cell_type": "markdown",
   "metadata": {
    "id": "rogCjOdV5bO0"
   },
   "source": [
    "### Problem 2 --- PMFs and PDFs of Poisson and normal variables\n",
    "\n",
    "Now it's your turn. By using the code blocks above for hints and reading the [docs](https://docs.scipy.org/doc/scipy/reference/generated/scipy.stats.poisson.html), your goal is to first produce the following pair of histograms for Poisson random variables:\n",
    "\n",
    "<center>\n",
    "<img src=\"https://github.com/jmyers7/stats-book-materials/blob/6dd6d785d4fcc343ef8aa4d1f93b7414771ea2fb/img/poisson-pmf.png?raw=true\" width=\"900\" align=\"center\">\n",
    "</center>\n",
    "\n",
    "To produce the side-by-side plots, you'll need to use the `subplots` method of `plt` as you learned back in the [first programming assignment](https://github.com/jmyers7/stats-book-materials/blob/main/programming-assignments/assignment_01.ipynb). Also:\n",
    "\n",
    "* Pass in the parameters `figsize=(10,5)`, `sharey=True`, and `sharex=True` to `plt.subplots`.\n",
    "\n",
    "* You will use the `plot` method of Pandas Series to produce the histograms, just like above. However, to place these histograms into the subplots, you'll need to pass the appropriate `axes` object produced by `subplots` into the `ax` parameter of `plot`; see [here](https://pandas.pydata.org/docs/reference/api/pandas.Series.plot.html).\n",
    "\n",
    "* I am looking for an _exact_ recreation of the plots, so be sure to notice the range of values along the horizontal axes, the axis labels, and the plot titles."
   ]
  },
  {
   "cell_type": "code",
   "execution_count": null,
   "metadata": {
    "deletable": false,
    "id": "Gqa-djGI5uWo",
    "nbgrader": {
     "cell_type": "code",
     "checksum": "0850fa7098703f831d541999e1e7c9ad",
     "grade": true,
     "grade_id": "cell-32ee760f3c6169c5",
     "locked": false,
     "points": 1,
     "schema_version": 3,
     "solution": true,
     "task": false
    },
    "tags": []
   },
   "outputs": [],
   "source": [
    "# ENTER YOUR CODE IN THIS CELL\n",
    "\n"
   ]
  },
  {
   "cell_type": "markdown",
   "metadata": {
    "id": "uTNPMe1UJXcm"
   },
   "source": [
    "Now, for the second part of the problem, your goal is to produce the following pair of plots for normal random variables: (See the [docs](https://docs.scipy.org/doc/scipy/reference/generated/scipy.stats.norm.html)!)\n",
    "\n",
    "<center>\n",
    "<img src=\"https://github.com/jmyers7/stats-book-materials/blob/f07fda52a1bbbfd41389fa956116afe809955880/img/norm-pdf.png?raw=true\" width=\"900\" align=\"center\">\n",
    "</center>\n",
    "\n",
    "* Again, pass in the parameters `figsize=(10,5)`, `sharey=True`, and `sharex=True` to `plt.subplots`.\n",
    "\n",
    "* As always, I am looking for an _exact_ recreation of the plots. Pay attention to the details!"
   ]
  },
  {
   "cell_type": "code",
   "execution_count": null,
   "metadata": {
    "deletable": false,
    "id": "qd8Hz15ZVR13",
    "nbgrader": {
     "cell_type": "code",
     "checksum": "680b67756247af9b805247fe15ceeeb5",
     "grade": true,
     "grade_id": "cell-b4ee1087fd65f2f0",
     "locked": false,
     "points": 1,
     "schema_version": 3,
     "solution": true,
     "task": false
    },
    "tags": []
   },
   "outputs": [],
   "source": [
    "# ENTER YOUR CODE IN THIS CELL\n",
    "\n"
   ]
  },
  {
   "cell_type": "markdown",
   "metadata": {
    "id": "-z4Ijju6dA_R"
   },
   "source": [
    "## Cumulative distribution functions and quantiles"
   ]
  },
  {
   "cell_type": "markdown",
   "metadata": {
    "id": "8dM5Wn3-dQv5"
   },
   "source": [
    "### Description\n",
    "\n",
    "SciPy also implements the `cdf` and `ppf` methods, which give the cumulative distribution functions and quantile functions for random variables (`ppf` stands for _percent point function_, which is what SciPy calls the quantile function).\n",
    "\n",
    "They work exactly how you would expect. For example:"
   ]
  },
  {
   "cell_type": "code",
   "execution_count": null,
   "metadata": {
    "id": "vTe8mMP_psB-"
   },
   "outputs": [],
   "source": [
    "Z = sp.stats.norm(loc=0, scale=1)\n",
    "Z.cdf(3)"
   ]
  },
  {
   "cell_type": "markdown",
   "metadata": {
    "id": "IOzVVC0Qp5EI"
   },
   "source": [
    "This code block returns $\\Phi(3)$, where we recall $\\Phi(z)$ stands for the CDF of a standard normal variable $Z$. For quantiles:"
   ]
  },
  {
   "cell_type": "code",
   "execution_count": null,
   "metadata": {
    "id": "mBLL6neQqD5l"
   },
   "outputs": [],
   "source": [
    "Z.ppf(0.5)"
   ]
  },
  {
   "cell_type": "markdown",
   "metadata": {
    "id": "6KuEuCSjqI0M"
   },
   "source": [
    "This code block returns $Q(0.5)$, or the median of $Z$. But we already know that the median of a standard normal variable $Z$ is 0, so this answer isn't surprising. How about the $0.25$-quatile?"
   ]
  },
  {
   "cell_type": "code",
   "execution_count": null,
   "metadata": {
    "id": "93LtkasrqUrD"
   },
   "outputs": [],
   "source": [
    "Z.ppf(0.25)"
   ]
  },
  {
   "cell_type": "markdown",
   "metadata": {
    "id": "Rh6su94MqZs_"
   },
   "source": [
    "Remember, the quantile function and CDF are supposed to be inverses, so if I put this answer back into the CDF, I should get back to where I started:"
   ]
  },
  {
   "cell_type": "code",
   "execution_count": null,
   "metadata": {
    "id": "5w4AuGWYqiyM"
   },
   "outputs": [],
   "source": [
    "Z.cdf(Z.ppf(0.25))"
   ]
  },
  {
   "cell_type": "markdown",
   "metadata": {
    "id": "wol6hk0rAZx6"
   },
   "source": [
    "### Problem 3 --- CDFs and quantiles of normal variables\n",
    "\n",
    "Your first goal in this problem is to produce this plot of the CDF and PDF of a random variable $X \\sim N(1, 2^2)$:\n",
    "\n",
    "<center>\n",
    "<img src=\"https://github.com/jmyers7/stats-book-materials/blob/ec9cd6ffad8c1614e73230fcc511ed1dcbe82bd9/img/norm-pdf-cdf.png?raw=true\" width=\"600\" align=\"center\">\n",
    "</center>"
   ]
  },
  {
   "cell_type": "code",
   "execution_count": null,
   "metadata": {
    "deletable": false,
    "id": "LZP0KszysFBw",
    "nbgrader": {
     "cell_type": "code",
     "checksum": "7b15b152bdf4e4152ad111b8dcbeb9aa",
     "grade": true,
     "grade_id": "cell-52cfeb05617d7970",
     "locked": false,
     "points": 1,
     "schema_version": 3,
     "solution": true,
     "task": false
    },
    "tags": []
   },
   "outputs": [],
   "source": [
    "# ENTER YOUR CODE IN THIS CELL\n",
    "\n"
   ]
  },
  {
   "cell_type": "markdown",
   "metadata": {
    "id": "qbgqHxm2rrCK"
   },
   "source": [
    "Now, compute the $0.75$-quantile of the normal variable $X \\sim N(1, 2^2)$ in the previous code block. Save your answer into the variable `quantile`:"
   ]
  },
  {
   "cell_type": "code",
   "execution_count": null,
   "metadata": {
    "deletable": false,
    "id": "EbxMVrjCX3kb",
    "nbgrader": {
     "cell_type": "code",
     "checksum": "b595be0914525b51519ae5112d879aea",
     "grade": false,
     "grade_id": "cell-f6de17e4062b4e0c",
     "locked": false,
     "schema_version": 3,
     "solution": true,
     "task": false
    },
    "tags": []
   },
   "outputs": [],
   "source": [
    "# ENTER YOUR CODE IN THIS CELL\n",
    "\n"
   ]
  },
  {
   "cell_type": "code",
   "execution_count": null,
   "metadata": {
    "deletable": false,
    "editable": false,
    "id": "h5sCWfXjX73Y",
    "nbgrader": {
     "cell_type": "code",
     "checksum": "2975d6e070247205581df88450a17e74",
     "grade": true,
     "grade_id": "cell-d2a492051c0a3de7",
     "locked": true,
     "points": 1,
     "schema_version": 3,
     "solution": false,
     "task": false
    },
    "tags": []
   },
   "outputs": [],
   "source": [
    "# Autograder cell. Do NOT alter or delete this cell.\n"
   ]
  },
  {
   "cell_type": "markdown",
   "metadata": {
    "id": "tmg9dVEFuXfP"
   },
   "source": [
    "Using your $0.75$-quantile, you will produce the following plot:\n",
    "\n",
    "<center>\n",
    "<img src=\"https://github.com/jmyers7/stats-book-materials/blob/27731f92ad6f13d6ed9ec0fa3fb10ab0ad456aec/img/norm-quantile.png?raw=true\" width=\"600\" align=\"center\">\n",
    "</center>\n",
    "\n",
    "The $0.75$-quantile that you computed is at the right edge of the shaded region, and thus the shaded region has area exactly $0.75$. To produce the shaded region use the `fill_between` method of `plt` (see the [docs](https://matplotlib.org/stable/api/_as_gen/matplotlib.pyplot.fill_between.html)!), and be sure to pass in the parameter `alpha=0.2` to change the opacity."
   ]
  },
  {
   "cell_type": "code",
   "execution_count": null,
   "metadata": {
    "deletable": false,
    "id": "afn0AF8u80I3",
    "nbgrader": {
     "cell_type": "code",
     "checksum": "c8e9d5af0e6a0eb2e5b3d703472e95c5",
     "grade": true,
     "grade_id": "cell-65c364abbce08bab",
     "locked": false,
     "points": 1,
     "schema_version": 3,
     "solution": true,
     "task": false
    },
    "tags": []
   },
   "outputs": [],
   "source": [
    "# ENTER YOUR CODE IN THIS CELL\n",
    "\n"
   ]
  },
  {
   "cell_type": "markdown",
   "metadata": {
    "id": "rAOwWRUhdUoD"
   },
   "source": [
    "## Expectations, variances, and standard deviations"
   ]
  },
  {
   "cell_type": "markdown",
   "metadata": {
    "id": "nbQDlVVsdYHg"
   },
   "source": [
    "### Description\n",
    "\n",
    "SciPy implements methods to compute all the summary statistics of random variables that we have learned in class so far. For example, let's compute the mean, variance, and standard deviation of a random variable $X \\sim Beta(3,7)$:"
   ]
  },
  {
   "cell_type": "code",
   "execution_count": null,
   "metadata": {
    "id": "ZSriN6qvvrDk"
   },
   "outputs": [],
   "source": [
    "X = sp.stats.beta(a=3, b=7)\n",
    "print(X.mean())\n",
    "print(X.var())\n",
    "print(X.std())"
   ]
  },
  {
   "cell_type": "markdown",
   "metadata": {
    "id": "6KXoNz2-v7L2"
   },
   "source": [
    "Notice that SciPy uses `a` and `b` for the parameters $\\alpha$ and $\\beta$ of a beta distribution (see the [docs](https://docs.scipy.org/doc/scipy/reference/generated/scipy.stats.beta.html)!)."
   ]
  },
  {
   "cell_type": "markdown",
   "metadata": {
    "id": "iPalnUYcZjxr"
   },
   "source": [
    "### Problem 4 --- Means of beta variables\n",
    "\n",
    "Your only goal in this problem is to produce the following plot:\n",
    "\n",
    "<center>\n",
    "<img src=\"https://github.com/jmyers7/stats-book-materials/blob/623c07132ab303636b984b4d3a2a1dfbe07aaa38/img/beta-mean.png?raw=true\" width=\"600\" align=\"center\">\n",
    "</center>\n",
    "\n",
    "To produce the vertical line at the mean, use the `axvline` method of `plt` (see the [docs](https://matplotlib.org/stable/api/_as_gen/matplotlib.pyplot.axvline.html)!). Be sure to use the color `orange` for the vertical line. Notice also the legend in the upper right-hand corner!"
   ]
  },
  {
   "cell_type": "code",
   "execution_count": null,
   "metadata": {
    "deletable": false,
    "id": "3aPEWSnXZnTP",
    "nbgrader": {
     "cell_type": "code",
     "checksum": "5f337e66b5540d60f20a6dc93b43b6fe",
     "grade": true,
     "grade_id": "cell-68be309661121daf",
     "locked": false,
     "points": 1,
     "schema_version": 3,
     "solution": true,
     "task": false
    },
    "tags": []
   },
   "outputs": [],
   "source": [
    "# ENTER YOUR CODE IN THIS CELL\n",
    "\n"
   ]
  },
  {
   "cell_type": "markdown",
   "metadata": {
    "id": "xwjoe90MddFN"
   },
   "source": [
    "## Sampling and empirical distributions"
   ]
  },
  {
   "cell_type": "markdown",
   "metadata": {
    "id": "IgBfrtoxdfQz"
   },
   "source": [
    "### Description\n",
    "\n",
    "SciPy implements the `rvs` method to produce samples from a given distribution. For example, suppose that you wanted to produce $200$ random samples drawn from a $Pois(7)$ distribution. Then we would write:"
   ]
  },
  {
   "cell_type": "code",
   "execution_count": null,
   "metadata": {
    "id": "kaPrwm3gyeF-"
   },
   "outputs": [],
   "source": [
    "X = sp.stats.poisson(mu=7)\n",
    "sample = X.rvs(size=200, random_state=42)\n",
    "sample"
   ]
  },
  {
   "cell_type": "markdown",
   "metadata": {
    "id": "T5B5svi7ynbq"
   },
   "source": [
    "As you can see, the `sample` object is a NumPy array containing 200 samples from a random variable $X\\sim Pois(7)$. We passed in the parameter `random_seed=42` to set the seed for the random number generator for reproducible results (this is _very_ important!).\n",
    "\n",
    "Now that we have a dataset on hand consisting of the observations in `sample`, we may use what we learned in the [third programming assignment](https://github.com/jmyers7/stats-book-materials/blob/main/programming-assignments/assignment_03.ipynb) to produce empirical distributions. For example, suppose that we wanted to compute the empirical PMF of the data in `sample`. First, we would write:"
   ]
  },
  {
   "cell_type": "code",
   "execution_count": null,
   "metadata": {
    "id": "4MTjbwUszjRQ"
   },
   "outputs": [],
   "source": [
    "support, counts = np.unique(ar=sample, return_counts=True)\n",
    "support, counts"
   ]
  },
  {
   "cell_type": "markdown",
   "metadata": {
    "id": "tqCcBIrT1iSQ"
   },
   "source": [
    "In this code block, we called the `unique` method in NumPy on the array `sample` to obtain the number of times each $x$-value appears in `sample`. The first array `support` contains the observed $x$-values, while the second array `counts` contains the counts. So, for example, we see that $x=2$ appears four times in `sample`.\n",
    "\n",
    "Now, we need to convert these raw counts into probabilities. According to the _definition_ of an empirical distribution, we may do this by dividing element-wise `counts` by the total size of the dataset. After this, we create a Pandas Series containing the probabilities as the data column and the $x$-values as the indices:"
   ]
  },
  {
   "cell_type": "code",
   "execution_count": null,
   "metadata": {
    "id": "022MhGK02AxQ"
   },
   "outputs": [],
   "source": [
    "empirical_probs = counts / 200\n",
    "empirical_pmf = pd.Series(data=empirical_probs, index=support, name='empirical')\n",
    "empirical_pmf"
   ]
  },
  {
   "cell_type": "markdown",
   "metadata": {
    "id": "nO-gVzTv2vh8"
   },
   "source": [
    "Let's now compare this empirical PMF to the _true_ PMF of our random variable $X\\sim Pois(7)$. First, let's generate the true PMF over the support of the empirical PMF:"
   ]
  },
  {
   "cell_type": "code",
   "execution_count": null,
   "metadata": {
    "id": "E3p4phFs23Rj"
   },
   "outputs": [],
   "source": [
    "true_probs = X.pmf(support)\n",
    "true_pmf = pd.Series(data=true_probs, index=support, name='true')\n",
    "true_pmf"
   ]
  },
  {
   "cell_type": "markdown",
   "metadata": {
    "id": "Nw_wQGcS3I44"
   },
   "source": [
    "To facilitate easy comparison, let's combine our two Pandas Series into a single DataFrame called `df`:"
   ]
  },
  {
   "cell_type": "code",
   "execution_count": null,
   "metadata": {
    "id": "St93-Br33fXq"
   },
   "outputs": [],
   "source": [
    "df = pd.concat(objs=[empirical_pmf, true_pmf], axis=1)\n",
    "df"
   ]
  },
  {
   "cell_type": "markdown",
   "metadata": {
    "id": "NmSdV6oX4js0"
   },
   "source": [
    "The probabilities in the two columns _should_ be relatively close to each other. To visualize them, let's produce a probability histogram combining both PMFs:"
   ]
  },
  {
   "cell_type": "code",
   "execution_count": null,
   "metadata": {
    "id": "vewBUAJa388Z"
   },
   "outputs": [],
   "source": [
    "df.plot(kind='bar', rot=0)\n",
    "plt.xlabel('$x$')\n",
    "plt.ylabel('probability')\n",
    "plt.title('comparison of true and empirical distributions for $X\\sim Pois(7)$')\n",
    "plt.show()"
   ]
  },
  {
   "cell_type": "markdown",
   "metadata": {
    "id": "rALUL0pN4xA6"
   },
   "source": [
    "Not such a bad approximation, right?"
   ]
  },
  {
   "cell_type": "markdown",
   "metadata": {
    "id": "kmAe4g9eZxxR"
   },
   "source": [
    "### Problem 5 -- Random samples from normal variables\n",
    "\n",
    "It's your turn to produce random samples in SciPy and compare empirical and true distributions.\n",
    "\n",
    "First, generate a random sample of size $250$ from a standard normal variable $Z \\sim N(0,1^2)$. Name your random variable `Z` and save the sample into the variable `sample`. Be sure to pass in the parameter `random_state=42` for reproducibility:"
   ]
  },
  {
   "cell_type": "code",
   "execution_count": null,
   "metadata": {
    "deletable": false,
    "id": "w_Fe4eNR6RiB",
    "nbgrader": {
     "cell_type": "code",
     "checksum": "976e14cd2b708972451c07fe4bce122a",
     "grade": false,
     "grade_id": "cell-9496206d23018202",
     "locked": false,
     "schema_version": 3,
     "solution": true,
     "task": false
    },
    "tags": []
   },
   "outputs": [],
   "source": [
    "# ENTER YOUR CODE IN THIS CELL\n",
    "\n"
   ]
  },
  {
   "cell_type": "code",
   "execution_count": null,
   "metadata": {
    "deletable": false,
    "editable": false,
    "id": "q1jCioP96ZFG",
    "nbgrader": {
     "cell_type": "code",
     "checksum": "d10062afe926d90d7b4121f80fc23707",
     "grade": true,
     "grade_id": "cell-8269eb35bea67d5d",
     "locked": true,
     "points": 1,
     "schema_version": 3,
     "solution": false,
     "task": false
    },
    "tags": []
   },
   "outputs": [],
   "source": [
    "# Autograder cell. Do NOT alter or delete this cell.\n"
   ]
  },
  {
   "cell_type": "markdown",
   "metadata": {
    "id": "SzuGpl9O63W2"
   },
   "source": [
    "Now, your goal is to compare the empirical distribution to the true distribution by producing this plot:\n",
    "\n",
    "<center>\n",
    "<img src=\"https://github.com/jmyers7/stats-book-materials/blob/1bf8d2592ec7f62327b16e1f5786a4357a82a768/img/norm-emp.png?raw=true\" width=\"600\" align=\"center\">\n",
    "</center>\n",
    "\n",
    "Here are some hints:\n",
    "\n",
    "* The random sample is drawn from a _continuous_ distribution, so you will produce a \"binned\" histogram for the empirical distribution. You learned about these in the [previous programming assignment](https://github.com/jmyers7/stats-book-materials/blob/main/programming-assignments/assignment_03.ipynb).\n",
    "\n",
    "* Use $20$ bins for your histogram and set the edge color of the rectangles to black by passing in the parameter `ec='black'`. Set the opacity by passing in `alpha=0.2`.\n",
    "\n",
    "* Plot the true density of $Z$ over the interval $[-3,3]$."
   ]
  },
  {
   "cell_type": "code",
   "execution_count": null,
   "metadata": {
    "deletable": false,
    "id": "JWU25ZjWZ3x5",
    "nbgrader": {
     "cell_type": "code",
     "checksum": "ea9f2c061db4336af74e975a1df4c578",
     "grade": true,
     "grade_id": "cell-3d2c8ff9870eefcb",
     "locked": false,
     "points": 1,
     "schema_version": 3,
     "solution": true,
     "task": false
    },
    "tags": []
   },
   "outputs": [],
   "source": [
    "# ENTER YOUR CODE IN THIS CELL\n",
    "\n"
   ]
  },
  {
   "cell_type": "markdown",
   "metadata": {
    "id": "3WQGhzh780n2"
   },
   "source": [
    "We also learned in the [previous programming assignment](https://github.com/jmyers7/stats-book-materials/blob/main/programming-assignments/assignment_03.ipynb) how to compute empirical (or sample) means, variances, and standard deviations. Remember, these are supposed to be approximations to the _true_ means, variances, and standard deviations.\n",
    "\n",
    "Well, we know that the mean of $Z\\sim N(0,1^2)$ is $0$, while its variance and standard deviation are both $1$. In the next code block, compute the empirical mean of `sample`. Save your answer into the variable `mean`, and be sure to print it out to make sure it is close to $0$."
   ]
  },
  {
   "cell_type": "code",
   "execution_count": null,
   "metadata": {
    "deletable": false,
    "id": "8NAvkYJTbb7T",
    "nbgrader": {
     "cell_type": "code",
     "checksum": "d3ecfa4165280e74eb97232ba11d5482",
     "grade": false,
     "grade_id": "cell-5894dcacaaea0fdf",
     "locked": false,
     "schema_version": 3,
     "solution": true,
     "task": false
    },
    "tags": []
   },
   "outputs": [],
   "source": [
    "# ENTER YOUR CODE IN THIS CELL\n",
    "\n"
   ]
  },
  {
   "cell_type": "code",
   "execution_count": null,
   "metadata": {
    "deletable": false,
    "editable": false,
    "id": "2Ii6JM1rbeoN",
    "nbgrader": {
     "cell_type": "code",
     "checksum": "023819bca8294bb1b2c1988c00d67385",
     "grade": true,
     "grade_id": "cell-e6d4c60424f1c88a",
     "locked": true,
     "points": 1,
     "schema_version": 3,
     "solution": false,
     "task": false
    },
    "tags": []
   },
   "outputs": [],
   "source": [
    "# Autograder cell. Do NOT alter or delete this cell.\n"
   ]
  },
  {
   "cell_type": "markdown",
   "metadata": {
    "id": "E6IacEQv9cov"
   },
   "source": [
    "Now, compute the empirical standard deviation of `sample`. Save your answer into the variable `sd`, and make sure to print it out to check that it is close to $1$."
   ]
  },
  {
   "cell_type": "code",
   "execution_count": null,
   "metadata": {
    "deletable": false,
    "id": "ln-wJ8qganjN",
    "nbgrader": {
     "cell_type": "code",
     "checksum": "4fc776e90687fac8d4c4521a2a75ef40",
     "grade": false,
     "grade_id": "cell-a94283bf2d90a164",
     "locked": false,
     "schema_version": 3,
     "solution": true,
     "task": false
    },
    "tags": []
   },
   "outputs": [],
   "source": [
    "# ENTER YOUR CODE IN THIS CELL\n",
    "\n"
   ]
  },
  {
   "cell_type": "code",
   "execution_count": null,
   "metadata": {
    "deletable": false,
    "editable": false,
    "id": "wvUG9znJbMgE",
    "nbgrader": {
     "cell_type": "code",
     "checksum": "58d4a28927b654bc5ea18760778ebe00",
     "grade": true,
     "grade_id": "cell-467d540a55e08f17",
     "locked": true,
     "points": 1,
     "schema_version": 3,
     "solution": false,
     "task": false
    },
    "tags": []
   },
   "outputs": [],
   "source": [
    "# Autograder cell. Do NOT alter or delete this cell.\n"
   ]
  }
 ],
 "metadata": {
  "colab": {
   "provenance": [],
   "toc_visible": true
  },
  "kernelspec": {
   "display_name": "Python 3 (ipykernel)",
   "language": "python",
   "name": "python3"
  },
  "language_info": {
   "codemirror_mode": {
    "name": "ipython",
    "version": 3
   },
   "file_extension": ".py",
   "mimetype": "text/x-python",
   "name": "python",
   "nbconvert_exporter": "python",
   "pygments_lexer": "ipython3",
   "version": "3.11.4"
  }
 },
 "nbformat": 4,
 "nbformat_minor": 4
}
