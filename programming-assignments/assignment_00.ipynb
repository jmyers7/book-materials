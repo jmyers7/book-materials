{
 "cells": [
  {
   "cell_type": "markdown",
   "metadata": {
    "id": "J_nZdW6ml74Q"
   },
   "source": [
    "# Chapter 0: Python Libraries: NumPy, Pandas and Matplotlib\n",
    "\n",
    "Welcome to our first programming assignment! Before we get deep into the statistical libraries in the Python universe, we need some practice with the three general-purpose Python libraries that every aspiring [Pythonist](https://en.wiktionary.org/wiki/Pythonist) should know cold."
   ]
  },
  {
   "cell_type": "markdown",
   "metadata": {},
   "source": [
    "## Directions\n",
    "\n",
    "1. The programming assignments are organized into sequences of short problems. You can see the structure of the programming assignment by opening the \"Table of Contents\" along the left side of the notebook (if you are using Google Colab or Jupyter Lab).\n",
    "\n",
    "2. The problems are preceded by \"Description\" sections that explain relevant background. Before attempting any of the problems, make sure to read these \"Description\" sections and run all code cells.\n",
    "\n",
    "3. After reading the \"Description\" sections, proceed to the problems.\n",
    "\n",
    "4. Each problem contains a blank cell containing the following comment: `# ENTER YOUR CODE IN THIS CELL`. Enter your code in these cells below the comment, being sure to not erase the comment. There are usually directions on the precise syntax that you will use to enter your solution properly. Please pay very careful attention to these directions.\n",
    "\n",
    "5. Below most of the solution cells are \"autograder\" cells. Do not alter the autograder cells in any way.\n",
    "\n",
    "6. Do not add any cells of your own to the notebook, or delete any existing cells (either code or markdown).\n",
    "\n",
    "7. **If you alter the notebook in any fashion so that the autograder fails to execute, your grade will be reduced accordingly.**"
   ]
  },
  {
   "cell_type": "markdown",
   "metadata": {},
   "source": [
    "## Submission instructions\n",
    "\n",
    "1. Once you have finished entering all your solutions, you will want to rerun all cells from scratch to ensure that everything works OK. To do this in Google Colab, click \"Runtime -> Restart and run all\" along the top of the notebook.\n",
    "\n",
    "2. Now scroll back through your notebook and make sure that all code cells ran properly.\n",
    "\n",
    "3. If everything looks OK, save your assignment and upload the `.ipynb` file at the provided link on the course <a href=\"https://github.com/jmyers7/stats-book-materials\">GitHub repo</a>. Late submissions are not accepted.\n",
    "\n",
    "4. You may submit multiple times, but I will only grade your last submission."
   ]
  },
  {
   "cell_type": "markdown",
   "metadata": {
    "id": "7lnfjdgkxTSN"
   },
   "source": [
    "## NumPy"
   ]
  },
  {
   "cell_type": "markdown",
   "metadata": {
    "id": "rn6esmtJiBaw"
   },
   "source": [
    "### Description\n",
    "\n",
    "[NumPy](https://numpy.org/doc/stable/index.html), which stands for **Num**erical **Py**thon, is an extensive library for numerical computions in Python. Not only does it provide a huge number of convenient mathematics functions, but it also provides one of the most fundamental data structures in the Python language, the NumPy _arrays_.\n",
    "\n",
    "The first thing we must do is import the NumPy module by calling `import numpy`. Because five letters is apparently more typing than a person could be expected to do, the Python community has universally agreed that the NumPy library should have the two-letter alias `np`. So, any time that we want to access the NumPy library in our code, we can type `np` instead of `numpy`."
   ]
  },
  {
   "cell_type": "code",
   "execution_count": null,
   "metadata": {
    "executionInfo": {
     "elapsed": 4,
     "status": "ok",
     "timestamp": 1692643463839,
     "user": {
      "displayName": "John Myers",
      "userId": "17542322961312000622"
     },
     "user_tz": 240
    },
    "id": "xPgJK9-8yoXQ"
   },
   "outputs": [],
   "source": [
    "import numpy as np"
   ]
  },
  {
   "cell_type": "markdown",
   "metadata": {
    "id": "H37omb8c6kfK"
   },
   "source": [
    "At the most basic level, one-dimensional NumPy arrays are simply lists of numbers. Here's an example:"
   ]
  },
  {
   "cell_type": "code",
   "execution_count": null,
   "metadata": {
    "colab": {
     "base_uri": "https://localhost:8080/"
    },
    "executionInfo": {
     "elapsed": 15,
     "status": "ok",
     "timestamp": 1692643464036,
     "user": {
      "displayName": "John Myers",
      "userId": "17542322961312000622"
     },
     "user_tz": 240
    },
    "id": "vPDJCCpr6pQD",
    "outputId": "93106029-cd2f-4a93-d7d8-9d95362f5736"
   },
   "outputs": [],
   "source": [
    "v = np.array([1, 2, 3])\n",
    "v"
   ]
  },
  {
   "cell_type": "markdown",
   "metadata": {
    "id": "i1xmSIyO622H"
   },
   "source": [
    "In this code block, I created a $1$-dimensional NumPy array called `v` containing the numbers $(1,2,3)$. To create it, I called `array` from the NumPy module via the function call `np.array`, and I passed the list `[1, 2, 3]` as the parameter. We can check the \"shape\" or size of the array `v` as follows:"
   ]
  },
  {
   "cell_type": "code",
   "execution_count": null,
   "metadata": {
    "colab": {
     "base_uri": "https://localhost:8080/"
    },
    "executionInfo": {
     "elapsed": 10,
     "status": "ok",
     "timestamp": 1692643464036,
     "user": {
      "displayName": "John Myers",
      "userId": "17542322961312000622"
     },
     "user_tz": 240
    },
    "id": "-CiZHB-Z7NLz",
    "outputId": "38bc159e-995d-44cb-fd8e-fc1db58ba2ac"
   },
   "outputs": [],
   "source": [
    "v.shape"
   ]
  },
  {
   "cell_type": "markdown",
   "metadata": {
    "id": "tdiTTvMr7Q3P"
   },
   "source": [
    "While we might have expected that the shape of `v` is $(3,1)$, in fact NumPy prints the shape as $(3,)$. This is one of the funny quirks of how NumPy handles $1$-dimensional arrays. It will come back as a minor annoyance a little later.\n",
    "\n",
    "In the next code block, I will define a $2$-dimensional array `A` that contains the following numbers:\n",
    "\n",
    "$$\n",
    "\\begin{bmatrix}\n",
    "3 & 1 \\\\\n",
    "-1 & 0 \\\\\n",
    "10 & -5\n",
    "\\end{bmatrix}.\n",
    "$$"
   ]
  },
  {
   "cell_type": "code",
   "execution_count": null,
   "metadata": {
    "colab": {
     "base_uri": "https://localhost:8080/"
    },
    "executionInfo": {
     "elapsed": 7,
     "status": "ok",
     "timestamp": 1692643464036,
     "user": {
      "displayName": "John Myers",
      "userId": "17542322961312000622"
     },
     "user_tz": 240
    },
    "id": "MJy4M-wp8EvU",
    "outputId": "d824fec8-5312-4a9c-fe83-5d1010e766dc"
   },
   "outputs": [],
   "source": [
    "A = np.array([[3, 1], [-1, 0], [10, -5]])\n",
    "A"
   ]
  },
  {
   "cell_type": "markdown",
   "metadata": {
    "id": "nkyRcp4t8hhL"
   },
   "source": [
    "Study this code carefully, to make sure you understand how I defined `A`!\n",
    "\n",
    "This time, the shape of `A` is exactly what we expect:"
   ]
  },
  {
   "cell_type": "code",
   "execution_count": null,
   "metadata": {
    "colab": {
     "base_uri": "https://localhost:8080/"
    },
    "executionInfo": {
     "elapsed": 7,
     "status": "ok",
     "timestamp": 1692643464037,
     "user": {
      "displayName": "John Myers",
      "userId": "17542322961312000622"
     },
     "user_tz": 240
    },
    "id": "sENKon5u8kxP",
    "outputId": "de8a14e5-1a92-4d7b-baa8-de9b9391dd91"
   },
   "outputs": [],
   "source": [
    "A.shape"
   ]
  },
  {
   "cell_type": "markdown",
   "metadata": {
    "id": "2gkFh_H78nHQ"
   },
   "source": [
    "The shapes of $2$-dimensional arrays are always in this format:\n",
    "\n",
    "$$\n",
    "(\\text{number of rows}, \\text{number of columns}).\n",
    "$$\n",
    "\n",
    "We can access specific entries of arrays by \"indexing into them\" as follows:"
   ]
  },
  {
   "cell_type": "code",
   "execution_count": null,
   "metadata": {
    "colab": {
     "base_uri": "https://localhost:8080/"
    },
    "executionInfo": {
     "elapsed": 6,
     "status": "ok",
     "timestamp": 1692643464037,
     "user": {
      "displayName": "John Myers",
      "userId": "17542322961312000622"
     },
     "user_tz": 240
    },
    "id": "HBONJhdX_hAZ",
    "outputId": "d0e56ae2-e164-44c0-f93d-d4b5eca770c8"
   },
   "outputs": [],
   "source": [
    "v[2]"
   ]
  },
  {
   "cell_type": "markdown",
   "metadata": {
    "id": "59w1ou0K_kh2"
   },
   "source": [
    "Here, I printed out the third element in the $1$-dimensional array `v` from above. Remember, indexing in Python is \"0-based,\" which means that the indices in `v` run as $0,1,2$ instead of $1,2,3$.\n",
    "\n",
    "Let's now print out the first entry in `v`, along with the entry in `A` in the third row and second column:"
   ]
  },
  {
   "cell_type": "code",
   "execution_count": null,
   "metadata": {
    "colab": {
     "base_uri": "https://localhost:8080/"
    },
    "executionInfo": {
     "elapsed": 4,
     "status": "ok",
     "timestamp": 1692643464037,
     "user": {
      "displayName": "John Myers",
      "userId": "17542322961312000622"
     },
     "user_tz": 240
    },
    "id": "68oekLDt-Tsd",
    "outputId": "e8f57707-a084-47c6-cd13-a05b1ca8919f"
   },
   "outputs": [],
   "source": [
    "print(f'The first entry in v is: {v[0]}')\n",
    "print(f'The entry in A in the third row and second column is: {A[2, 1]}')"
   ]
  },
  {
   "cell_type": "markdown",
   "metadata": {
    "id": "AAXSC-nJ-tWH"
   },
   "source": [
    "Notice that I printed _entire_ sentences by calling `print` with sentences enclosed in single quotes, just like all strings in the Python language. However, these are special types of strings called [f-strings](https://peps.python.org/pep-0498/), which are identified by the single `f` that sits in front of the strings. F-strings allow us to embed and print variables _inside_ the strings enclosed in curly braces `{}`.\n",
    "\n",
    "But we can do more than just access single elements at a time. We can also \"slice\" arrays to obtain multiple elements. For example, suppose that we want to grab the first column of `A` --- we would write:"
   ]
  },
  {
   "cell_type": "code",
   "execution_count": null,
   "metadata": {
    "colab": {
     "base_uri": "https://localhost:8080/"
    },
    "executionInfo": {
     "elapsed": 151,
     "status": "ok",
     "timestamp": 1692643464185,
     "user": {
      "displayName": "John Myers",
      "userId": "17542322961312000622"
     },
     "user_tz": 240
    },
    "id": "RX9uF_GfBjCM",
    "outputId": "c38bad3c-7adb-495c-e4ae-c29de67498da"
   },
   "outputs": [],
   "source": [
    "A[:, 0]"
   ]
  },
  {
   "cell_type": "markdown",
   "metadata": {
    "id": "c4U2iTsjBm1t"
   },
   "source": [
    "You can think of the colon `:` as standing for \"all.\" So, I would interpret the code `A[:, 0]` as the first column of `A` over _all_ rows.\n",
    "\n",
    "Similarly, if we wanted the second row of `A`, we would write:"
   ]
  },
  {
   "cell_type": "code",
   "execution_count": null,
   "metadata": {
    "colab": {
     "base_uri": "https://localhost:8080/"
    },
    "executionInfo": {
     "elapsed": 5,
     "status": "ok",
     "timestamp": 1692643464185,
     "user": {
      "displayName": "John Myers",
      "userId": "17542322961312000622"
     },
     "user_tz": 240
    },
    "id": "ubFXyIetB_gm",
    "outputId": "0cbf7eb5-24ed-48a2-c852-17f2b0df2a22"
   },
   "outputs": [],
   "source": [
    "A[1, :]"
   ]
  },
  {
   "cell_type": "markdown",
   "metadata": {
    "id": "hvowWRpsCEwJ"
   },
   "source": [
    "But the colon `:` has even more functionality. Consider this:"
   ]
  },
  {
   "cell_type": "code",
   "execution_count": null,
   "metadata": {
    "colab": {
     "base_uri": "https://localhost:8080/"
    },
    "executionInfo": {
     "elapsed": 4,
     "status": "ok",
     "timestamp": 1692643464186,
     "user": {
      "displayName": "John Myers",
      "userId": "17542322961312000622"
     },
     "user_tz": 240
    },
    "id": "z4lr2D4aCIU6",
    "outputId": "acc02726-c4a7-4668-d7d5-644affe5402d"
   },
   "outputs": [],
   "source": [
    "A[0:2, 0]"
   ]
  },
  {
   "cell_type": "markdown",
   "metadata": {
    "id": "EMB_rZNMCPei"
   },
   "source": [
    "The `0` in the second position of `[0:2, 0]` means that we are accessing the $0$-th (i.e., first) column of `A`. The `0:2` should be read as a _range_ from `0` up to `2`, excluding `2`. So, all together, `A[0:2,0]` means that we are \"slicing out\" the first two entries of `A` from the first column.\n",
    "\n",
    "How about the second and third elements in `A` from the second column? That would be:"
   ]
  },
  {
   "cell_type": "code",
   "execution_count": null,
   "metadata": {
    "colab": {
     "base_uri": "https://localhost:8080/"
    },
    "executionInfo": {
     "elapsed": 3,
     "status": "ok",
     "timestamp": 1692643464186,
     "user": {
      "displayName": "John Myers",
      "userId": "17542322961312000622"
     },
     "user_tz": 240
    },
    "id": "hvPtk57yC1fJ",
    "outputId": "ba9cbdd5-8632-4ee0-c979-306ddb5a4cdc"
   },
   "outputs": [],
   "source": [
    "A[1:3, 1]"
   ]
  },
  {
   "cell_type": "markdown",
   "metadata": {
    "id": "dQfMLy30DGJC"
   },
   "source": [
    "Not so bad, right?\n",
    "\n",
    "We can add rows and columns to NumPy arrays by calling the convenient [`np.concatenate`](https://numpy.org/doc/stable/reference/generated/numpy.concatenate.html) function. For example, suppose that we wanted to add\n",
    "\n",
    "$$\n",
    "\\begin{bmatrix}\n",
    "2 \\\\ 3 \\\\ 4\n",
    "\\end{bmatrix}\n",
    "$$\n",
    "\n",
    "as a third column in `A`. Then, we would write:"
   ]
  },
  {
   "cell_type": "code",
   "execution_count": null,
   "metadata": {
    "colab": {
     "base_uri": "https://localhost:8080/"
    },
    "executionInfo": {
     "elapsed": 12,
     "status": "ok",
     "timestamp": 1692643464437,
     "user": {
      "displayName": "John Myers",
      "userId": "17542322961312000622"
     },
     "user_tz": 240
    },
    "id": "nTTO32hMDhQu",
    "outputId": "74c3be35-ad14-4c15-b2cb-4c1a086f22f1"
   },
   "outputs": [],
   "source": [
    "new_column = np.array([2, 3, 4]).reshape(3, 1)\n",
    "A = np.concatenate((A, new_column), axis=1)\n",
    "A"
   ]
  },
  {
   "cell_type": "markdown",
   "metadata": {
    "id": "qUzId2jmEONT"
   },
   "source": [
    "Notice that I had to call `.reshape(3, 1)` on the new column to change its shape from the annoying `(3,)` to `(3, 1)`. Then, I passed the existing array `A` along with `new_column` as a tuple to the `np.concatenate` function, along with `axis=1` to specify that I wanted the new column to be added as a column and not a row. I then re-defined `A` to be this new array of shape $(3,3)$.\n",
    "\n",
    "Now, what if we wanted to add a new row to `A`?"
   ]
  },
  {
   "cell_type": "code",
   "execution_count": null,
   "metadata": {
    "colab": {
     "base_uri": "https://localhost:8080/"
    },
    "executionInfo": {
     "elapsed": 8,
     "status": "ok",
     "timestamp": 1692643464438,
     "user": {
      "displayName": "John Myers",
      "userId": "17542322961312000622"
     },
     "user_tz": 240
    },
    "id": "ecOztIS2FJyB",
    "outputId": "d14a55b0-3bb2-469f-f832-b2a3839104fa"
   },
   "outputs": [],
   "source": [
    "new_row = np.array([9, 10, -3]).reshape(1, 3)\n",
    "A = np.concatenate([A, new_row], axis=0)\n",
    "A"
   ]
  },
  {
   "cell_type": "markdown",
   "metadata": {
    "id": "5yra8bGKFf6_"
   },
   "source": [
    "Notice that instead of `axis=1`, which means you're adding a new _column_, I wrote `axis=0` which means we're adding a new row. However, as you can see at the [doc](https://numpy.org/doc/stable/reference/generated/numpy.concatenate.html), technically I didn't need to set `axis=0` because `0` is actually the default parameter for `axis`.\n",
    "\n",
    "Let's talk about _boolean masking_ (or filtering). Let's suppose, for example, that I wanted to pull out all entries in `A` that are greater than or equal to $9$. In order to do this, we first define a so-called \"mask\" based on this criterion:"
   ]
  },
  {
   "cell_type": "code",
   "execution_count": null,
   "metadata": {
    "colab": {
     "base_uri": "https://localhost:8080/"
    },
    "executionInfo": {
     "elapsed": 6,
     "status": "ok",
     "timestamp": 1692643464438,
     "user": {
      "displayName": "John Myers",
      "userId": "17542322961312000622"
     },
     "user_tz": 240
    },
    "id": "N1he4tomGYpP",
    "outputId": "f65c6478-c5d8-45d5-91ba-4fbd7a1977fc"
   },
   "outputs": [],
   "source": [
    "mask = (A >= 9)\n",
    "mask"
   ]
  },
  {
   "cell_type": "markdown",
   "metadata": {
    "id": "QTUO4zsoGvu1"
   },
   "source": [
    "Notice that a mask is nothing but an array that contains `True` and `False` values. Then, to pull out the entries in `A` that are $\\geq 9$, we simply index into `A` using the mask like this:"
   ]
  },
  {
   "cell_type": "code",
   "execution_count": null,
   "metadata": {
    "colab": {
     "base_uri": "https://localhost:8080/"
    },
    "executionInfo": {
     "elapsed": 4,
     "status": "ok",
     "timestamp": 1692643464438,
     "user": {
      "displayName": "John Myers",
      "userId": "17542322961312000622"
     },
     "user_tz": 240
    },
    "id": "rXSrx1inGhg7",
    "outputId": "0be4c39e-972d-4a24-924a-c9edd5b5e6e1"
   },
   "outputs": [],
   "source": [
    "A[mask]"
   ]
  },
  {
   "cell_type": "markdown",
   "metadata": {
    "id": "2oRToOJmG_36"
   },
   "source": [
    "For another example, suppose that we wanted to pull out all entries $x$ in `A` such that $0 \\leq x \\leq 3$. Then, we create another mask and index into `A`:"
   ]
  },
  {
   "cell_type": "code",
   "execution_count": null,
   "metadata": {
    "colab": {
     "base_uri": "https://localhost:8080/"
    },
    "executionInfo": {
     "elapsed": 3,
     "status": "ok",
     "timestamp": 1692643464438,
     "user": {
      "displayName": "John Myers",
      "userId": "17542322961312000622"
     },
     "user_tz": 240
    },
    "id": "rYXwx8EPHNNj",
    "outputId": "de201020-3dec-4792-89bc-d4b69b04b3b8"
   },
   "outputs": [],
   "source": [
    "another_mask = (0<= A) & (A <= 3)\n",
    "A[another_mask]"
   ]
  },
  {
   "cell_type": "markdown",
   "metadata": {
    "id": "CpSYGOYXIYKW"
   },
   "source": [
    "Finally, we will need to know how to create $1$-dimensional arrays of evenly spaced values over a specified range. For this, we use the [`np.linspace`](https://numpy.org/doc/stable/reference/generated/numpy.linspace.html) function. For example, suppose that we wanted to create an array of $100$ evenly spaced $x$-values on the interval $2\\leq x \\leq 7$. Then, we would write:"
   ]
  },
  {
   "cell_type": "code",
   "execution_count": null,
   "metadata": {
    "colab": {
     "base_uri": "https://localhost:8080/"
    },
    "executionInfo": {
     "elapsed": 173,
     "status": "ok",
     "timestamp": 1692643464609,
     "user": {
      "displayName": "John Myers",
      "userId": "17542322961312000622"
     },
     "user_tz": 240
    },
    "id": "E54y9BWmIzSy",
    "outputId": "873366d1-b1b2-491a-9850-e8e301bcf8aa"
   },
   "outputs": [],
   "source": [
    "x_vals = np.linspace(2, 7, num=100)\n",
    "x_vals[0:15]"
   ]
  },
  {
   "cell_type": "markdown",
   "metadata": {
    "id": "bG-E2cnxJDNA"
   },
   "source": [
    "Notice that I sliced out the first 15 entries of the array, rather than print out all 100 entries. Let's check the shape of our new array:"
   ]
  },
  {
   "cell_type": "code",
   "execution_count": null,
   "metadata": {
    "colab": {
     "base_uri": "https://localhost:8080/"
    },
    "executionInfo": {
     "elapsed": 11,
     "status": "ok",
     "timestamp": 1692643464609,
     "user": {
      "displayName": "John Myers",
      "userId": "17542322961312000622"
     },
     "user_tz": 240
    },
    "id": "2GSBNLKLJF5G",
    "outputId": "5a20de46-d6ee-4757-cd66-c6957b41de68"
   },
   "outputs": [],
   "source": [
    "x_vals.shape"
   ]
  },
  {
   "cell_type": "markdown",
   "metadata": {
    "id": "-eS9UmoKJIBl"
   },
   "source": [
    "That's exactly what we expected!"
   ]
  },
  {
   "cell_type": "markdown",
   "metadata": {
    "id": "uLUuNqyvxVqQ"
   },
   "source": [
    "### Problem 1 --- Creating arrays\n",
    "\n",
    "In the next code cell, create a NumPy array called `B` of shape $(2,3)$ that contains the following data:\n",
    "\n",
    "$$\n",
    "\\begin{bmatrix}\n",
    "1 & 2 & 0 \\\\ -3 & 2.5 & 4\n",
    "\\end{bmatrix}.\n",
    "$$"
   ]
  },
  {
   "cell_type": "code",
   "execution_count": null,
   "metadata": {
    "colab": {
     "base_uri": "https://localhost:8080/"
    },
    "deletable": false,
    "executionInfo": {
     "elapsed": 10,
     "status": "ok",
     "timestamp": 1692643464610,
     "user": {
      "displayName": "John Myers",
      "userId": "17542322961312000622"
     },
     "user_tz": 240
    },
    "id": "PSosqWvj3pK4",
    "nbgrader": {
     "cell_type": "code",
     "checksum": "78b46321dd9d005b00bf9429166057d4",
     "grade": false,
     "grade_id": "problem-1",
     "locked": false,
     "schema_version": 3,
     "solution": true,
     "task": false
    },
    "outputId": "1188b8bd-0b75-46fa-bfcb-2797a87f6ec1",
    "tags": []
   },
   "outputs": [],
   "source": [
    "# ENTER YOUR CODE IN THIS CELL\n",
    "\n"
   ]
  },
  {
   "cell_type": "code",
   "execution_count": null,
   "metadata": {
    "deletable": false,
    "editable": false,
    "nbgrader": {
     "cell_type": "code",
     "checksum": "8ce6b886f30520922e8d86dab9d29889",
     "grade": true,
     "grade_id": "problem-1-test",
     "locked": true,
     "points": 1,
     "schema_version": 3,
     "solution": false,
     "task": false
    },
    "tags": []
   },
   "outputs": [],
   "source": [
    "# Autograder cell. Do NOT alter or delete this cell.\n"
   ]
  },
  {
   "cell_type": "markdown",
   "metadata": {
    "id": "gCAtcKBI4P3K"
   },
   "source": [
    "### Problem 2 --- Array indexing and slicing\n",
    "\n",
    "Index into your array `B` and retrieve the entry in the second row and third column. Save your answer into the variable `entry`, by writing `entry = ` and putting your code to the right of `=`."
   ]
  },
  {
   "cell_type": "code",
   "execution_count": null,
   "metadata": {
    "colab": {
     "base_uri": "https://localhost:8080/"
    },
    "deletable": false,
    "executionInfo": {
     "elapsed": 8,
     "status": "ok",
     "timestamp": 1692643464610,
     "user": {
      "displayName": "John Myers",
      "userId": "17542322961312000622"
     },
     "user_tz": 240
    },
    "id": "wClqTRLl4XgO",
    "nbgrader": {
     "cell_type": "code",
     "checksum": "39aa958f6ee9f7ea95f01486e2609e7a",
     "grade": false,
     "grade_id": "problem-2a",
     "locked": false,
     "schema_version": 3,
     "solution": true,
     "task": false
    },
    "outputId": "0e8ae827-e047-4911-87ab-7e53cade1339",
    "tags": []
   },
   "outputs": [],
   "source": [
    "# ENTER YOUR CODE IN THIS CELL\n",
    "\n"
   ]
  },
  {
   "cell_type": "code",
   "execution_count": null,
   "metadata": {
    "deletable": false,
    "editable": false,
    "nbgrader": {
     "cell_type": "code",
     "checksum": "7491021acbe29ddad4504c6ca54e0b25",
     "grade": true,
     "grade_id": "problem-2a-test",
     "locked": true,
     "points": 1,
     "schema_version": 3,
     "solution": false,
     "task": false
    },
    "tags": []
   },
   "outputs": [],
   "source": [
    "# Autograder cell. Do NOT alter or delete this cell.\n"
   ]
  },
  {
   "cell_type": "markdown",
   "metadata": {
    "id": "9TKiIw_fKkjw"
   },
   "source": [
    "Now slice into your array and retrieve the second and third entries in the second row. Save your answer into the variable `slice`."
   ]
  },
  {
   "cell_type": "code",
   "execution_count": null,
   "metadata": {
    "colab": {
     "base_uri": "https://localhost:8080/"
    },
    "deletable": false,
    "executionInfo": {
     "elapsed": 7,
     "status": "ok",
     "timestamp": 1692643464610,
     "user": {
      "displayName": "John Myers",
      "userId": "17542322961312000622"
     },
     "user_tz": 240
    },
    "id": "-844PlakKubA",
    "nbgrader": {
     "cell_type": "code",
     "checksum": "7eddd03143109bac1d53beac48ddd2aa",
     "grade": false,
     "grade_id": "problem-2b",
     "locked": false,
     "schema_version": 3,
     "solution": true,
     "task": false
    },
    "outputId": "9e5db1f7-069b-4b9d-a1cf-2675475c7aea",
    "tags": []
   },
   "outputs": [],
   "source": [
    "# ENTER YOUR CODE IN THIS CELL\n",
    "\n"
   ]
  },
  {
   "cell_type": "code",
   "execution_count": null,
   "metadata": {
    "deletable": false,
    "editable": false,
    "nbgrader": {
     "cell_type": "code",
     "checksum": "20839b2c0fe020d1554f02b8f83d5f4f",
     "grade": true,
     "grade_id": "problem-2b-test",
     "locked": true,
     "points": 1,
     "schema_version": 3,
     "solution": false,
     "task": false
    },
    "tags": []
   },
   "outputs": [],
   "source": [
    "# Autograder cell. Do NOT alter or delete this cell.\n"
   ]
  },
  {
   "cell_type": "markdown",
   "metadata": {
    "id": "oRZC_Y-qK-Nn"
   },
   "source": [
    "### Problem 3 --- Adding rows and columns\n",
    "\n",
    "Add\n",
    "\n",
    "$$\n",
    "\\begin{bmatrix}\n",
    "3 \\\\ 5\n",
    "\\end{bmatrix}\n",
    "$$\n",
    "\n",
    "as a fourth column to your array `B`. Make sure to _update_ your existing array `B` by calling `B = np.concatenate()` with the appropriate parameters."
   ]
  },
  {
   "cell_type": "code",
   "execution_count": null,
   "metadata": {
    "colab": {
     "base_uri": "https://localhost:8080/"
    },
    "deletable": false,
    "executionInfo": {
     "elapsed": 6,
     "status": "ok",
     "timestamp": 1692643464610,
     "user": {
      "displayName": "John Myers",
      "userId": "17542322961312000622"
     },
     "user_tz": 240
    },
    "id": "M1H3YvWSLiaX",
    "nbgrader": {
     "cell_type": "code",
     "checksum": "82db4d01fc776f43690c52ecd17801fa",
     "grade": false,
     "grade_id": "problem-3a",
     "locked": false,
     "schema_version": 3,
     "solution": true,
     "task": false
    },
    "outputId": "0d87d25c-5396-4e03-da01-a8b1ddc159d5",
    "tags": []
   },
   "outputs": [],
   "source": [
    "# ENTER YOUR CODE IN THIS CELL\n",
    "\n"
   ]
  },
  {
   "cell_type": "code",
   "execution_count": null,
   "metadata": {
    "deletable": false,
    "editable": false,
    "nbgrader": {
     "cell_type": "code",
     "checksum": "614683fbf8c255d501200981bc8561f8",
     "grade": true,
     "grade_id": "problem-3a-test",
     "locked": true,
     "points": 1,
     "schema_version": 3,
     "solution": false,
     "task": false
    },
    "tags": []
   },
   "outputs": [],
   "source": [
    "# Autograder cell. Do NOT alter or delete this cell.\n"
   ]
  },
  {
   "cell_type": "markdown",
   "metadata": {
    "id": "C_NM4qzcLw4U"
   },
   "source": [
    "Now add\n",
    "\n",
    "$$\n",
    "\\begin{bmatrix}\n",
    "0 & 6 & 4 & -1\n",
    "\\end{bmatrix}\n",
    "$$\n",
    "\n",
    "as a third row to $B$."
   ]
  },
  {
   "cell_type": "code",
   "execution_count": null,
   "metadata": {
    "colab": {
     "base_uri": "https://localhost:8080/"
    },
    "deletable": false,
    "executionInfo": {
     "elapsed": 5,
     "status": "ok",
     "timestamp": 1692643464610,
     "user": {
      "displayName": "John Myers",
      "userId": "17542322961312000622"
     },
     "user_tz": 240
    },
    "id": "kvac88UuL-Ih",
    "nbgrader": {
     "cell_type": "code",
     "checksum": "fcdb0bf81d550ff0bd0f2e92cfedfd35",
     "grade": false,
     "grade_id": "problem-3b",
     "locked": false,
     "schema_version": 3,
     "solution": true,
     "task": false
    },
    "outputId": "5b3a0e1a-6ee9-4ac0-d58f-47137fc9c64a",
    "tags": []
   },
   "outputs": [],
   "source": [
    "# ENTER YOUR CODE IN THIS CELL\n",
    "\n"
   ]
  },
  {
   "cell_type": "code",
   "execution_count": null,
   "metadata": {
    "deletable": false,
    "editable": false,
    "nbgrader": {
     "cell_type": "code",
     "checksum": "9c12e3695a3a79dc9ff50aa85774bc9c",
     "grade": true,
     "grade_id": "problem-3b-test",
     "locked": true,
     "points": 1,
     "schema_version": 3,
     "solution": false,
     "task": false
    },
    "tags": []
   },
   "outputs": [],
   "source": [
    "# Autograder cell. Do NOT alter or delete this cell.\n"
   ]
  },
  {
   "cell_type": "markdown",
   "metadata": {
    "id": "NY-XRIjwMXbQ"
   },
   "source": [
    "### Problem 4 --- Boolean masking\n",
    "\n",
    "Extract all elements in the array `B` that are greater than or equal to $2$. Save your answer into the variable `elements`."
   ]
  },
  {
   "cell_type": "code",
   "execution_count": null,
   "metadata": {
    "colab": {
     "base_uri": "https://localhost:8080/"
    },
    "deletable": false,
    "executionInfo": {
     "elapsed": 189,
     "status": "ok",
     "timestamp": 1692643464795,
     "user": {
      "displayName": "John Myers",
      "userId": "17542322961312000622"
     },
     "user_tz": 240
    },
    "id": "zaGcFHnpMm1-",
    "nbgrader": {
     "cell_type": "code",
     "checksum": "e175b1ba7b9112197edb30f72148d865",
     "grade": false,
     "grade_id": "problem-4",
     "locked": false,
     "schema_version": 3,
     "solution": true,
     "task": false
    },
    "outputId": "ae689806-5860-4f13-9ac3-a219bf435118",
    "tags": []
   },
   "outputs": [],
   "source": [
    "# ENTER YOUR CODE IN THIS CELL\n",
    "\n"
   ]
  },
  {
   "cell_type": "code",
   "execution_count": null,
   "metadata": {
    "deletable": false,
    "editable": false,
    "nbgrader": {
     "cell_type": "code",
     "checksum": "400540b561f01305ce8b1b81b921ed4b",
     "grade": true,
     "grade_id": "problem-4-test",
     "locked": true,
     "points": 1,
     "schema_version": 3,
     "solution": false,
     "task": false
    },
    "tags": []
   },
   "outputs": [],
   "source": [
    "# Autograder cell. Do NOT alter or delete this cell.\n"
   ]
  },
  {
   "cell_type": "markdown",
   "metadata": {
    "id": "buS4J5TdNCvq"
   },
   "source": [
    "### Problem 5 --- Arrays of evenly spaced values\n",
    "\n",
    "Create an array `x_vals` consisting of $250$ evenly space $x$-values over the range $3 \\leq x \\leq 10$. Slice into the array and save the first ten values into the variable `slice`."
   ]
  },
  {
   "cell_type": "code",
   "execution_count": null,
   "metadata": {
    "colab": {
     "base_uri": "https://localhost:8080/"
    },
    "deletable": false,
    "executionInfo": {
     "elapsed": 3,
     "status": "ok",
     "timestamp": 1692643464795,
     "user": {
      "displayName": "John Myers",
      "userId": "17542322961312000622"
     },
     "user_tz": 240
    },
    "id": "Pd0Xbg1BNVGi",
    "nbgrader": {
     "cell_type": "code",
     "checksum": "b3eadeb8ccdbb2fbb18c8f1c6e30323f",
     "grade": false,
     "grade_id": "problem-5",
     "locked": false,
     "schema_version": 3,
     "solution": true,
     "task": false
    },
    "outputId": "4f568852-ff6d-446d-adc5-ab11a3c6da7a",
    "tags": []
   },
   "outputs": [],
   "source": [
    "# ENTER YOUR CODE IN THIS CELL\n",
    "\n"
   ]
  },
  {
   "cell_type": "code",
   "execution_count": null,
   "metadata": {
    "deletable": false,
    "editable": false,
    "nbgrader": {
     "cell_type": "code",
     "checksum": "78a3fab5a58ebccb1a05b67609928d72",
     "grade": true,
     "grade_id": "problem-5-test",
     "locked": true,
     "points": 1,
     "schema_version": 3,
     "solution": false,
     "task": false
    },
    "tags": []
   },
   "outputs": [],
   "source": [
    "# Autograder cell. Do NOT alter or delete this cell.\n"
   ]
  },
  {
   "cell_type": "markdown",
   "metadata": {
    "id": "9UzLPItBxgqL"
   },
   "source": [
    "## Pandas"
   ]
  },
  {
   "cell_type": "markdown",
   "metadata": {
    "id": "0OIBmD2siJRk"
   },
   "source": [
    "### Description\n",
    "\n",
    "NumPy arrays are basic **numerical** arrays. But when we deal with real-world data, we need much more flexible data structures. Such data structures are provided by the _data frames_ in the [Pandas](https://pandas.pydata.org/) library.\n",
    "\n",
    "First, we import the Pandas module under its conventional alias `pd`:"
   ]
  },
  {
   "cell_type": "code",
   "execution_count": null,
   "metadata": {
    "executionInfo": {
     "elapsed": 147,
     "status": "ok",
     "timestamp": 1692643464940,
     "user": {
      "displayName": "John Myers",
      "userId": "17542322961312000622"
     },
     "user_tz": 240
    },
    "id": "iQ8RR83ZyzGP"
   },
   "outputs": [],
   "source": [
    "import pandas as pd"
   ]
  },
  {
   "cell_type": "markdown",
   "metadata": {
    "id": "DTZNwVCbQqd6"
   },
   "source": [
    "Now, I want to import external data into the notebook from the online textbook's GitHub repo. To do this, I call the following code:"
   ]
  },
  {
   "cell_type": "code",
   "execution_count": null,
   "metadata": {
    "executionInfo": {
     "elapsed": 434,
     "status": "ok",
     "timestamp": 1692643465372,
     "user": {
      "displayName": "John Myers",
      "userId": "17542322961312000622"
     },
     "user_tz": 240
    },
    "id": "U1frdN3FQwBK"
   },
   "outputs": [],
   "source": [
    "url = 'https://github.com/jmyers7/stats-book-materials/blob/0ef3ab6affa90279aa4fd38b5edad78a2b7e0dcc/data/data-1-1.csv?raw=true'\n",
    "df = pd.read_csv(url)"
   ]
  },
  {
   "cell_type": "markdown",
   "metadata": {
    "id": "tp13qzwZQ4cL"
   },
   "source": [
    "We call the `read_csv` function from the Pandas module, passing it the URL location of our data as a Python string in single quotes. The `read_csv` function creates a Pandas data frame, which we will call `df`.\n",
    "\n",
    "Let's print out the data frame:"
   ]
  },
  {
   "cell_type": "code",
   "execution_count": null,
   "metadata": {
    "colab": {
     "base_uri": "https://localhost:8080/",
     "height": 206
    },
    "executionInfo": {
     "elapsed": 11,
     "status": "ok",
     "timestamp": 1692643465372,
     "user": {
      "displayName": "John Myers",
      "userId": "17542322961312000622"
     },
     "user_tz": 240
    },
    "id": "8VYeR07fTSnO",
    "outputId": "4e734792-0b66-459a-dea8-ce813b868fe7"
   },
   "outputs": [],
   "source": [
    "df"
   ]
  },
  {
   "cell_type": "markdown",
   "metadata": {
    "id": "Z7owgbW_Tc5T"
   },
   "source": [
    "We see that the data frame contains five columns of data, plus an initial unnamed index column (ranging from $0$ to $4$). Three of the columns are numerical, while two contain strings (i.e., words).\n",
    "\n",
    "When you import a fresh data frame into the notebook, Pandas automatically assigns consecutive numerical values for row indices. But sometimes you want more descriptive indices; for example, if your data frame contained sales data with order numbers, then you might want the indices to be the order numbers. So, suppose that we wanted the `ID` column in our data frame to serve as the row indices; then we would write:"
   ]
  },
  {
   "cell_type": "code",
   "execution_count": null,
   "metadata": {
    "colab": {
     "base_uri": "https://localhost:8080/",
     "height": 238
    },
    "executionInfo": {
     "elapsed": 9,
     "status": "ok",
     "timestamp": 1692643465373,
     "user": {
      "displayName": "John Myers",
      "userId": "17542322961312000622"
     },
     "user_tz": 240
    },
    "id": "bhCIsJNGdbdU",
    "outputId": "a0fe4120-e2d3-4209-9731-3467fd07b483"
   },
   "outputs": [],
   "source": [
    "df.set_index('ID', inplace=True)\n",
    "df"
   ]
  },
  {
   "cell_type": "markdown",
   "metadata": {
    "id": "5_HUjvGZcuIk"
   },
   "source": [
    "Notice that the generic indices $0$-$4$ have dissappeared, and that the `ID` column now serves the index column. Our data frame now consists of _four_ columns of data, and a single index column.\n",
    "\n",
    "We can get the \"shape\" or size of a data frame just like we do with NumPy arrays:"
   ]
  },
  {
   "cell_type": "code",
   "execution_count": null,
   "metadata": {
    "colab": {
     "base_uri": "https://localhost:8080/"
    },
    "executionInfo": {
     "elapsed": 178,
     "status": "ok",
     "timestamp": 1692643465543,
     "user": {
      "displayName": "John Myers",
      "userId": "17542322961312000622"
     },
     "user_tz": 240
    },
    "id": "xnIzVYh4UExa",
    "outputId": "70671128-ab06-443d-b178-055ba5da4aeb"
   },
   "outputs": [],
   "source": [
    "df.shape"
   ]
  },
  {
   "cell_type": "markdown",
   "metadata": {
    "id": "TMCAk6phUbna"
   },
   "source": [
    "The first number, $5$, is the number of rows, while the second number, $4$, is the number of columns. Notice that the index column is not counted.\n",
    "\n",
    "The data frames that you work with in the real world might be _huge_, perhaps containing many thousands or even millions of rows. Clearly, such large data frames cannot be printed to the screen so easily. For this reason, we can use the `head` method of a Pandas data frame to print out only the first few rows:"
   ]
  },
  {
   "cell_type": "code",
   "execution_count": null,
   "metadata": {
    "colab": {
     "base_uri": "https://localhost:8080/",
     "height": 175
    },
    "executionInfo": {
     "elapsed": 9,
     "status": "ok",
     "timestamp": 1692643465544,
     "user": {
      "displayName": "John Myers",
      "userId": "17542322961312000622"
     },
     "user_tz": 240
    },
    "id": "Eew9Di6tUoa4",
    "outputId": "3faa71d6-9b99-4afe-a0d7-76b4edb9cfc9"
   },
   "outputs": [],
   "source": [
    "df.head(3) # print the first three rows"
   ]
  },
  {
   "cell_type": "markdown",
   "metadata": {
    "id": "QKlxZfMaUqLJ"
   },
   "source": [
    "We can slice out specific columns of `df` by indexing with the column names passed as strings. For example:"
   ]
  },
  {
   "cell_type": "code",
   "execution_count": null,
   "metadata": {
    "colab": {
     "base_uri": "https://localhost:8080/"
    },
    "executionInfo": {
     "elapsed": 8,
     "status": "ok",
     "timestamp": 1692643465544,
     "user": {
      "displayName": "John Myers",
      "userId": "17542322961312000622"
     },
     "user_tz": 240
    },
    "id": "_HpNhXl4U9pO",
    "outputId": "be857a58-ce92-438a-c20b-abdf458ffe99"
   },
   "outputs": [],
   "source": [
    "df['C']"
   ]
  },
  {
   "cell_type": "markdown",
   "metadata": {
    "id": "2XBa7-9yVbtg"
   },
   "source": [
    "In the print out, we see two columns: The first is the index column `ID`, while the second is the column `C` that we sliced out.\n",
    "\n",
    "If `df` were not a data frame but instead a NumPy array, then in order to slice out a column we would have to use the colon `:` as a first index, as we saw above. We can do the same thing with data frames, but we would have to use the `loc` method of the data frame:"
   ]
  },
  {
   "cell_type": "code",
   "execution_count": null,
   "metadata": {
    "colab": {
     "base_uri": "https://localhost:8080/"
    },
    "executionInfo": {
     "elapsed": 6,
     "status": "ok",
     "timestamp": 1692643465544,
     "user": {
      "displayName": "John Myers",
      "userId": "17542322961312000622"
     },
     "user_tz": 240
    },
    "id": "FkqTcIGoV5HA",
    "outputId": "6d392cd1-577b-4666-e951-4a62dab0514d"
   },
   "outputs": [],
   "source": [
    "df.loc[:, 'C']"
   ]
  },
  {
   "cell_type": "markdown",
   "metadata": {
    "id": "XDJhC0_QWBWU"
   },
   "source": [
    "It's up to you if you prefer using `df['C']` or `df.loc[:, 'C']`. They both do the same thing.\n",
    "\n",
    "For another example, let's grab the two entries in column `C` with `ID` values `12` and `7`:"
   ]
  },
  {
   "cell_type": "code",
   "execution_count": null,
   "metadata": {
    "colab": {
     "base_uri": "https://localhost:8080/"
    },
    "executionInfo": {
     "elapsed": 5,
     "status": "ok",
     "timestamp": 1692643465544,
     "user": {
      "displayName": "John Myers",
      "userId": "17542322961312000622"
     },
     "user_tz": 240
    },
    "id": "fDQTeOeaWcgo",
    "outputId": "8858b738-0955-4f6a-fe1f-aeef0b2a8fc2"
   },
   "outputs": [],
   "source": [
    "df.loc[[12, 7], 'C']"
   ]
  },
  {
   "cell_type": "markdown",
   "metadata": {
    "id": "3VQgCNVqWgi_"
   },
   "source": [
    "The `loc` method allows us to access the data inside a data frame using the column names and the index values (as specified by the index column). But if we wanted to access the data in a data frame using _numerical_ indices as if it were a NumPy array, then we must use `iloc` in place of `loc`. For example, we can grab the first two elements in the third column like this:"
   ]
  },
  {
   "cell_type": "code",
   "execution_count": null,
   "metadata": {
    "colab": {
     "base_uri": "https://localhost:8080/"
    },
    "executionInfo": {
     "elapsed": 219,
     "status": "ok",
     "timestamp": 1692643465759,
     "user": {
      "displayName": "John Myers",
      "userId": "17542322961312000622"
     },
     "user_tz": 240
    },
    "id": "CnxeX_-VW83e",
    "outputId": "77f84613-f5cc-47c3-b258-bab9c2f7c65f"
   },
   "outputs": [],
   "source": [
    "df.iloc[:2, 2]"
   ]
  },
  {
   "cell_type": "markdown",
   "metadata": {
    "id": "42CBfYw-XPw2"
   },
   "source": [
    "Notice that I wrote `:2` instead of `0:2`, which you might have have been expecting. When you leave off the `0` in front of `:`, Python is smart enough to fill it in automatically. This is a convenient short cut.\n",
    "\n",
    "How about adding columns and rows to a data frame? Let's add a fifth column to our data frame:"
   ]
  },
  {
   "cell_type": "code",
   "execution_count": null,
   "metadata": {
    "colab": {
     "base_uri": "https://localhost:8080/",
     "height": 238
    },
    "executionInfo": {
     "elapsed": 8,
     "status": "ok",
     "timestamp": 1692643465759,
     "user": {
      "displayName": "John Myers",
      "userId": "17542322961312000622"
     },
     "user_tz": 240
    },
    "id": "x6MCDYs0ZdaR",
    "outputId": "889bafdd-e81d-4bac-d0e4-11f908a354dd"
   },
   "outputs": [],
   "source": [
    "df['E'] = [1, -3, 5, 4, 0]\n",
    "df"
   ]
  },
  {
   "cell_type": "markdown",
   "metadata": {
    "id": "1P1UXZYkZxxz"
   },
   "source": [
    "To add a row, we need to use a Python dictionary with the column names as keys to create a new data frame for the row. Then, we pass the existing data frame and the new row to `pd.concat` along with the index value of the new row:"
   ]
  },
  {
   "cell_type": "code",
   "execution_count": null,
   "metadata": {
    "colab": {
     "base_uri": "https://localhost:8080/",
     "height": 238
    },
    "executionInfo": {
     "elapsed": 6,
     "status": "ok",
     "timestamp": 1692643465759,
     "user": {
      "displayName": "John Myers",
      "userId": "17542322961312000622"
     },
     "user_tz": 240
    },
    "id": "RUFz7VvMaF6n",
    "outputId": "afdcf863-9122-469c-bf77-91426858ebd2"
   },
   "outputs": [],
   "source": [
    "new_data = {\n",
    "    'A' : [3],\n",
    "    'B' : [10],\n",
    "    'C' : ['chair'],\n",
    "    'D' : ['zebra'],\n",
    "    'E' : [2]\n",
    "}\n",
    "\n",
    "new_row = pd.DataFrame(new_data, index=[8])\n",
    "df = pd.concat([df, new_row])\n",
    "df"
   ]
  },
  {
   "cell_type": "markdown",
   "metadata": {
    "id": "-S9HLQslfwdJ"
   },
   "source": [
    "Finally, let's talk boolean masking in the context of Pandas data frames. Conveniently, it is almost identical to masking for NumPy arrays. For example, suppose we wanted to grab all rows with `cat` in column `D`. Then, we create a mask based on this criterion and use it to index into the data frame."
   ]
  },
  {
   "cell_type": "code",
   "execution_count": null,
   "metadata": {
    "colab": {
     "base_uri": "https://localhost:8080/",
     "height": 112
    },
    "executionInfo": {
     "elapsed": 6,
     "status": "ok",
     "timestamp": 1692643465759,
     "user": {
      "displayName": "John Myers",
      "userId": "17542322961312000622"
     },
     "user_tz": 240
    },
    "id": "6VmG9-HUf4zi",
    "outputId": "1cb90f40-aea2-4cc9-dc4e-cc7c0316b1ef"
   },
   "outputs": [],
   "source": [
    "mask = (df['D'] == 'cat')\n",
    "df[mask]"
   ]
  },
  {
   "cell_type": "markdown",
   "metadata": {
    "id": "3uLGH-wMgqrr"
   },
   "source": [
    "What if we wanted to use a mask to pull out the single row with `cat` in column `D` and `0` in column `A`? We would do it like this:"
   ]
  },
  {
   "cell_type": "code",
   "execution_count": null,
   "metadata": {
    "colab": {
     "base_uri": "https://localhost:8080/",
     "height": 89
    },
    "executionInfo": {
     "elapsed": 6,
     "status": "ok",
     "timestamp": 1692643465760,
     "user": {
      "displayName": "John Myers",
      "userId": "17542322961312000622"
     },
     "user_tz": 240
    },
    "id": "ZLK6DbPqg10L",
    "outputId": "ca794328-99d3-45ba-b41c-89cbf0f23068"
   },
   "outputs": [],
   "source": [
    "another_mask = (df['D'] == 'cat') & (df['A'] == 0)\n",
    "df[another_mask]"
   ]
  },
  {
   "cell_type": "markdown",
   "metadata": {
    "id": "RC5royLOxh6Y"
   },
   "source": [
    "### Problem 6 --- Importing data\n",
    "\n",
    "We will import `data-1-2.csv` into the notebook from the following URL location:"
   ]
  },
  {
   "cell_type": "code",
   "execution_count": null,
   "metadata": {
    "executionInfo": {
     "elapsed": 6,
     "status": "ok",
     "timestamp": 1692643465760,
     "user": {
      "displayName": "John Myers",
      "userId": "17542322961312000622"
     },
     "user_tz": 240
    },
    "id": "gyllW1I4aLD4"
   },
   "outputs": [],
   "source": [
    "# Be sure to run this cell! Do NOT alter or delete it!\n",
    "url = 'https://github.com/jmyers7/stats-book-materials/blob/0ef3ab6affa90279aa4fd38b5edad78a2b7e0dcc/data/data-1-2.csv?raw=true'"
   ]
  },
  {
   "cell_type": "markdown",
   "metadata": {
    "id": "oXjpfH81aMxv"
   },
   "source": [
    "Now, in the next code cell and using the above URL, make a call to `pd.read_csv` to import the data into the data frame `df`. (This will overwrite the version of `df` that we used above, but that's ok.) Be sure to print out `df` to make sure it worked."
   ]
  },
  {
   "cell_type": "code",
   "execution_count": null,
   "metadata": {
    "colab": {
     "base_uri": "https://localhost:8080/",
     "height": 206
    },
    "deletable": false,
    "executionInfo": {
     "elapsed": 239,
     "status": "ok",
     "timestamp": 1692643465993,
     "user": {
      "displayName": "John Myers",
      "userId": "17542322961312000622"
     },
     "user_tz": 240
    },
    "id": "Qx5-2nTaqHzp",
    "nbgrader": {
     "cell_type": "code",
     "checksum": "004c4a004c7c0458174fd4a38a0168b5",
     "grade": false,
     "grade_id": "problem-6a",
     "locked": false,
     "schema_version": 3,
     "solution": true,
     "task": false
    },
    "outputId": "9a04ee16-7060-4381-f2cf-c3d75a2448f6",
    "tags": []
   },
   "outputs": [],
   "source": [
    "# ENTER YOUR CODE IN THIS CELL\n",
    "\n"
   ]
  },
  {
   "cell_type": "code",
   "execution_count": null,
   "metadata": {
    "deletable": false,
    "editable": false,
    "nbgrader": {
     "cell_type": "code",
     "checksum": "2ef388b57408c7d7c3771867d314c5d0",
     "grade": true,
     "grade_id": "problem-6a-test",
     "locked": true,
     "points": 1,
     "schema_version": 3,
     "solution": false,
     "task": false
    },
    "tags": []
   },
   "outputs": [],
   "source": [
    "# Autograder cell. Do NOT alter or delete this cell.\n"
   ]
  },
  {
   "cell_type": "markdown",
   "metadata": {
    "id": "070kV-iC2us_"
   },
   "source": [
    "Now set the `num` column as the index column of `df`. Afterward, print out `df` yet again to make sure it worked."
   ]
  },
  {
   "cell_type": "code",
   "execution_count": null,
   "metadata": {
    "colab": {
     "base_uri": "https://localhost:8080/",
     "height": 238
    },
    "deletable": false,
    "executionInfo": {
     "elapsed": 10,
     "status": "ok",
     "timestamp": 1692643465994,
     "user": {
      "displayName": "John Myers",
      "userId": "17542322961312000622"
     },
     "user_tz": 240
    },
    "id": "bpRmQYXQ24rh",
    "nbgrader": {
     "cell_type": "code",
     "checksum": "47de365de3cbdacc35029eb55b9cec0a",
     "grade": false,
     "grade_id": "problem-6b",
     "locked": false,
     "schema_version": 3,
     "solution": true,
     "task": false
    },
    "outputId": "b58039a3-624d-437f-b4c9-4a5655bd065e",
    "tags": []
   },
   "outputs": [],
   "source": [
    "# ENTER YOUR CODE IN THIS CELL\n",
    "\n"
   ]
  },
  {
   "cell_type": "code",
   "execution_count": null,
   "metadata": {
    "deletable": false,
    "editable": false,
    "nbgrader": {
     "cell_type": "code",
     "checksum": "533b319fb0b00e4fa6414783fd300f4d",
     "grade": true,
     "grade_id": "problem-6b-test",
     "locked": true,
     "points": 1,
     "schema_version": 3,
     "solution": false,
     "task": false
    },
    "tags": []
   },
   "outputs": [],
   "source": [
    "# Autograder cell. Do NOT alter or delete this cell.\n"
   ]
  },
  {
   "cell_type": "markdown",
   "metadata": {
    "id": "cP3dkck4hSei"
   },
   "source": [
    "### Problem 7 --- Data frame slicing and boolean masking\n",
    "\n",
    "Extract column `D` from the data frame and save it into the variable `col`. Use either the column-name-only method I showed you above, or `loc` and a colon `:`."
   ]
  },
  {
   "cell_type": "code",
   "execution_count": null,
   "metadata": {
    "colab": {
     "base_uri": "https://localhost:8080/"
    },
    "deletable": false,
    "executionInfo": {
     "elapsed": 9,
     "status": "ok",
     "timestamp": 1692643465994,
     "user": {
      "displayName": "John Myers",
      "userId": "17542322961312000622"
     },
     "user_tz": 240
    },
    "id": "IzRnbF7DhYJk",
    "nbgrader": {
     "cell_type": "code",
     "checksum": "67306cc97a1a0add334d55f29cc4c686",
     "grade": false,
     "grade_id": "problem-7a",
     "locked": false,
     "schema_version": 3,
     "solution": true,
     "task": false
    },
    "outputId": "d71c78fe-86b2-42c8-911b-b737f8c1adcc",
    "tags": []
   },
   "outputs": [],
   "source": [
    "# ENTER YOUR CODE IN THIS CELL\n",
    "\n"
   ]
  },
  {
   "cell_type": "code",
   "execution_count": null,
   "metadata": {
    "deletable": false,
    "editable": false,
    "nbgrader": {
     "cell_type": "code",
     "checksum": "7ae9561c7e0ada3942522f7dadf461fb",
     "grade": true,
     "grade_id": "problem-7a-test",
     "locked": true,
     "points": 1,
     "schema_version": 3,
     "solution": false,
     "task": false
    },
    "tags": []
   },
   "outputs": [],
   "source": [
    "# Autograder cell. Do NOT alter or delete this cell.\n"
   ]
  },
  {
   "cell_type": "markdown",
   "metadata": {
    "id": "9uebfQds4SAv"
   },
   "source": [
    "Using boolean masking, pull out the rows in `df` with either `lamp` in column `A` or `eagle` in column `D`. Save your answer into the variable `rows`. (Notice the \"**or**\" instead of \"**and**\"!)"
   ]
  },
  {
   "cell_type": "code",
   "execution_count": null,
   "metadata": {
    "colab": {
     "base_uri": "https://localhost:8080/",
     "height": 175
    },
    "deletable": false,
    "executionInfo": {
     "elapsed": 237,
     "status": "ok",
     "timestamp": 1692643466224,
     "user": {
      "displayName": "John Myers",
      "userId": "17542322961312000622"
     },
     "user_tz": 240
    },
    "id": "Zeowki0w4nTM",
    "nbgrader": {
     "cell_type": "code",
     "checksum": "b0c2c81c635a7004c04a1991efbfa5fb",
     "grade": false,
     "grade_id": "problem-7b",
     "locked": false,
     "schema_version": 3,
     "solution": true,
     "task": false
    },
    "outputId": "3aea64b9-c2af-4260-c92f-af4f1e155479",
    "tags": []
   },
   "outputs": [],
   "source": [
    "# ENTER YOUR CODE IN THIS CELL\n",
    "\n"
   ]
  },
  {
   "cell_type": "code",
   "execution_count": null,
   "metadata": {
    "deletable": false,
    "editable": false,
    "nbgrader": {
     "cell_type": "code",
     "checksum": "39c1263a4df47f64d072066a5501c7c9",
     "grade": true,
     "grade_id": "problem-7b-test",
     "locked": true,
     "points": 1,
     "schema_version": 3,
     "solution": false,
     "task": false
    },
    "tags": []
   },
   "outputs": [],
   "source": [
    "# Autograder cell. Do NOT alter or delete this cell.\n"
   ]
  },
  {
   "cell_type": "markdown",
   "metadata": {
    "id": "r4DF2mSPhcRo"
   },
   "source": [
    "### Problem 8 --- Adding rows and columns\n",
    "\n",
    "Add the following row to the data frame:\n",
    "\n",
    "$$\n",
    "[\\text{door}, 17, 5, \\text{dove}].\n",
    "$$\n",
    "\n",
    "Set the index value of the new row to $22$. Make sure to print out `df` to verify that it worked."
   ]
  },
  {
   "cell_type": "code",
   "execution_count": null,
   "metadata": {
    "colab": {
     "base_uri": "https://localhost:8080/",
     "height": 238
    },
    "deletable": false,
    "executionInfo": {
     "elapsed": 7,
     "status": "ok",
     "timestamp": 1692643466224,
     "user": {
      "displayName": "John Myers",
      "userId": "17542322961312000622"
     },
     "user_tz": 240
    },
    "id": "7R3n1qnThfF1",
    "nbgrader": {
     "cell_type": "code",
     "checksum": "7d58fa4b06afb45032ce7b5d63752d3d",
     "grade": false,
     "grade_id": "problem-8",
     "locked": false,
     "schema_version": 3,
     "solution": true,
     "task": false
    },
    "outputId": "02b10b21-fc7b-458e-9d90-19ed859d5fc5",
    "tags": []
   },
   "outputs": [],
   "source": [
    "# ENTER YOUR CODE IN THIS CELL\n",
    "\n"
   ]
  },
  {
   "cell_type": "code",
   "execution_count": null,
   "metadata": {
    "deletable": false,
    "editable": false,
    "nbgrader": {
     "cell_type": "code",
     "checksum": "c86da309c7543eb802e4991a91a6731e",
     "grade": true,
     "grade_id": "problem-8-test",
     "locked": true,
     "points": 1,
     "schema_version": 3,
     "solution": false,
     "task": false
    },
    "tags": []
   },
   "outputs": [],
   "source": [
    "# Autograder cell. Do NOT alter or delete this cell.\n"
   ]
  },
  {
   "cell_type": "markdown",
   "metadata": {
    "id": "io5ubeoBxoZf"
   },
   "source": [
    "## Matplotlib"
   ]
  },
  {
   "cell_type": "markdown",
   "metadata": {
    "id": "7cD9Z05MiY9y"
   },
   "source": [
    "### Description\n",
    "\n",
    "The [Matplotlib](https://matplotlib.org/) library provides most of the basic plotting functionality in Python. The fastest way to learn Matplotlib is to reverse engineer an example.\n",
    "\n",
    "But first, we need to do our imports. Most of the time, you will be interacting with the `pyplot` module in Matplotlib---its conventional alias is `plt`:"
   ]
  },
  {
   "cell_type": "code",
   "execution_count": null,
   "metadata": {
    "executionInfo": {
     "elapsed": 5,
     "status": "ok",
     "timestamp": 1692643466224,
     "user": {
      "displayName": "John Myers",
      "userId": "17542322961312000622"
     },
     "user_tz": 240
    },
    "id": "FZ1OeQADy5rE"
   },
   "outputs": [],
   "source": [
    "import matplotlib.pyplot as plt"
   ]
  },
  {
   "cell_type": "markdown",
   "metadata": {
    "id": "lc_79X2k6s9l"
   },
   "source": [
    "Here's our basic example. Suppose we wanted to plot a full period of the function $f(x) = \\sin{x}$ over the interval $0\\leq x \\leq 2\\pi$. Here's how we do it:"
   ]
  },
  {
   "cell_type": "code",
   "execution_count": null,
   "metadata": {
    "colab": {
     "base_uri": "https://localhost:8080/",
     "height": 430
    },
    "executionInfo": {
     "elapsed": 191,
     "status": "ok",
     "timestamp": 1692643466411,
     "user": {
      "displayName": "John Myers",
      "userId": "17542322961312000622"
     },
     "user_tz": 240
    },
    "id": "YpdhMD_5640K",
    "outputId": "93a62a79-dc8c-420f-e89f-67b3b8caf7b8"
   },
   "outputs": [],
   "source": [
    "x_vals = np.linspace(0, 2 * 3.14)\n",
    "y_vals = np.sin(x_vals)\n",
    "\n",
    "plt.plot(x_vals, y_vals)\n",
    "plt.show()"
   ]
  },
  {
   "cell_type": "markdown",
   "metadata": {
    "id": "h3rbpHFZ7RSC"
   },
   "source": [
    "As you can see, the code is quite simple and almost explains itself.\n",
    "\n",
    "1. First, we make a call to the function `np.linspace` that we studied earlier, generating a NumPy array of equally spaced values in the interval $[0,2\\pi]$. This array is saved as `x_vals`. Note that I did not explicitly set the `num` parameter and instead used the default value of `50` (see the [doc](https://numpy.org/doc/stable/reference/generated/numpy.linspace.html)).\n",
    "\n",
    "2. Then, the _entire_ array `x_vals` is plugged into the `np.sin` function, which is NumPy's implementation of $\\sin{x}$. When you plug an array into a NumPy function like this, NumPy knows to apply the function to each entry in the array. (This is called _vectorization_.) Therefore, the array `y_val` contains 50 numbers.\n",
    "\n",
    "3. We then call the `plot` method of `plt`, passing in the two arrays `x_vals` and `y_vals`.\n",
    "\n",
    "4. Finally, we show the plot by calling `plt.show()`.\n",
    "\n",
    "So, what Matplotlib is _actually_ doing is plotting $50$ points in the $xy$-plane, and then connecting the dots to draw the sine graph. But because these points are so numerous and close together, we _see_ essentially a smooth, curved graph.\n",
    "\n",
    "We can add labels to the $x$- and $y$-axes like this:"
   ]
  },
  {
   "cell_type": "code",
   "execution_count": null,
   "metadata": {
    "colab": {
     "base_uri": "https://localhost:8080/",
     "height": 450
    },
    "executionInfo": {
     "elapsed": 363,
     "status": "ok",
     "timestamp": 1692643466771,
     "user": {
      "displayName": "John Myers",
      "userId": "17542322961312000622"
     },
     "user_tz": 240
    },
    "id": "oqhvzrMo8r_8",
    "outputId": "09f8e271-8635-4c76-8216-40a633f0b867"
   },
   "outputs": [],
   "source": [
    "plt.plot(x_vals, y_vals)\n",
    "plt.xlabel('$x$ values')\n",
    "plt.ylabel('$y$ values')\n",
    "plt.show()"
   ]
  },
  {
   "cell_type": "markdown",
   "metadata": {
    "id": "Jtmz7cWy85_B"
   },
   "source": [
    "We could have also simply called `plt.xlabel('x values')` to generate the label along the $x$-axis. The string that I wrote, `'$x$ values'`, puts the \"$x$\" in LaTeX math mode, which is essentially an italic font. (I am a snobbish mathematician, after all.)\n",
    "\n",
    "We can add a second curve to our graph like this:"
   ]
  },
  {
   "cell_type": "code",
   "execution_count": null,
   "metadata": {
    "colab": {
     "base_uri": "https://localhost:8080/",
     "height": 450
    },
    "executionInfo": {
     "elapsed": 564,
     "status": "ok",
     "timestamp": 1692643467334,
     "user": {
      "displayName": "John Myers",
      "userId": "17542322961312000622"
     },
     "user_tz": 240
    },
    "id": "ly9ypJfD9sLN",
    "outputId": "10ecd4b1-003b-402a-d45d-388ce935c4ae"
   },
   "outputs": [],
   "source": [
    "plt.plot(x_vals, np.sin(x_vals), label='$\\sin{x}$')\n",
    "plt.plot(x_vals, np.cos(x_vals), label='$\\cos{x}$')\n",
    "plt.xlabel('$x$ values')\n",
    "plt.ylabel('$y$ values')\n",
    "plt.legend()\n",
    "plt.show()"
   ]
  },
  {
   "cell_type": "markdown",
   "metadata": {
    "id": "JoF1Pryn-B6b"
   },
   "source": [
    "I'm going to let you dissect the code on your own, since I'm pretty sure you're getting the hang of this.\n",
    "\n",
    "If we wanted to plot something like\n",
    "\n",
    "$$\n",
    "f(x) = x(x^2-1)\n",
    "$$\n",
    "\n",
    "over the interval $[-2,2]$, then it would be convenient to define our own function:"
   ]
  },
  {
   "cell_type": "code",
   "execution_count": null,
   "metadata": {
    "colab": {
     "base_uri": "https://localhost:8080/",
     "height": 430
    },
    "executionInfo": {
     "elapsed": 488,
     "status": "ok",
     "timestamp": 1692643467819,
     "user": {
      "displayName": "John Myers",
      "userId": "17542322961312000622"
     },
     "user_tz": 240
    },
    "id": "YpfB7CZ8-a05",
    "outputId": "6abb168d-45c6-4485-cd7b-0351dc474dcf"
   },
   "outputs": [],
   "source": [
    "def f(x):\n",
    "  return x * (x ** 2 - 1)\n",
    "\n",
    "x_vals = np.linspace(-2, 2)\n",
    "plt.plot(x_vals, f(x_vals))\n",
    "plt.show()"
   ]
  },
  {
   "cell_type": "markdown",
   "metadata": {
    "id": "cx3KzoML_PkL"
   },
   "source": [
    "It's also possible to make a single plot consisting of multiple subplots. Here's how:"
   ]
  },
  {
   "cell_type": "code",
   "execution_count": null,
   "metadata": {
    "colab": {
     "base_uri": "https://localhost:8080/",
     "height": 507
    },
    "executionInfo": {
     "elapsed": 1345,
     "status": "ok",
     "timestamp": 1692643469161,
     "user": {
      "displayName": "John Myers",
      "userId": "17542322961312000622"
     },
     "user_tz": 240
    },
    "id": "mdw-axHx_TCS",
    "outputId": "b39ee335-de17-4bdc-983b-0322906c4aa9"
   },
   "outputs": [],
   "source": [
    "fig, axes = plt.subplots(ncols=2, figsize=(8, 5))\n",
    "axes[0].plot(x_vals, np.sin(x_vals))\n",
    "axes[1].plot(x_vals, np.cos(x_vals))\n",
    "plt.tight_layout()"
   ]
  },
  {
   "cell_type": "markdown",
   "metadata": {
    "id": "OBnFEtT8_x0F"
   },
   "source": [
    "Let's step through the code:\n",
    "\n",
    "1. We make a call to the `subplots` method in `plt`. We pass the parameter `ncols=2`, which means that we want to generate a plot with two columns. The parameter `figsize` is self-explanatory, and sets the size of the figure. It's often difficult to know a good size ahead of time, and you just need to tinker with these values.\n",
    "\n",
    "2. The call to `plt.subplots` returns _two_ items which are saved as `fig` and `axes`. We won't use `fig`, so don't worry about it. The `axes` object is actually a NumPy array that contains the two separate \"axes\" on which we will draw our plots.\n",
    "\n",
    "3. We call the `plot` method on the first axes object, `axes[0]`. We plot our sine curve.\n",
    "\n",
    "4. We then call the `plot` method on the second set of axes, `axes[1]`. We plot our cosine curve.\n",
    "\n",
    "5. Instead of calling `plt.show()` to show the plot, we call `plt.tight_layout()` which shows the plot and adjusts spacing.\n",
    "\n",
    "There is so, _so_ much more that we can do with Matplotlib. We will see fancier plots as we go through the course, and we will also learn a bit about the powerful statistical graphing library Seaborn which is built on top of Matplotlib. But this should be enough for now."
   ]
  },
  {
   "cell_type": "markdown",
   "metadata": {
    "id": "aPhOULRoU6p2"
   },
   "source": [
    "### Problem 9 --- One big plot\n",
    "\n",
    "Your only assignment in this section is to plot [this](https://github.com/jmyers7/stats-book-materials/blob/0ef3ab6affa90279aa4fd38b5edad78a2b7e0dcc/img/plot-1-1.png).\n",
    "\n",
    "You'll be using the `subplots` method from `plt`, as I showed you above. The two functions on the left are\n",
    "\n",
    "$$\n",
    "f(x) = x(x-1)(x-2)\n",
    "$$\n",
    "\n",
    "and\n",
    "\n",
    "$$\n",
    "g(x) = x^2(x-1).\n",
    "$$\n",
    "\n",
    "You should plot these over the interval $[-1,3]$. The two functions on the right are $\\sin{x}$ and $\\cos{x}$; you should plot these over the interval $[0,4\\pi]$.\n",
    "\n",
    "Make sure that you label the $x$- and $y$-axes as shown, and also include the legends. I did **not** show you how to change the labels on `axes` objects, nor did I show you how to add legends to subplots. So this problem will be a bit of a challenge, as you'll need to figure that stuff out on your own.\n",
    "\n",
    "(Hint: I used 18 lines of code to produce the plot.)"
   ]
  },
  {
   "cell_type": "code",
   "execution_count": null,
   "metadata": {
    "colab": {
     "base_uri": "https://localhost:8080/",
     "height": 507
    },
    "deletable": false,
    "executionInfo": {
     "elapsed": 1160,
     "status": "ok",
     "timestamp": 1692643470320,
     "user": {
      "displayName": "John Myers",
      "userId": "17542322961312000622"
     },
     "user_tz": 240
    },
    "id": "4JaVCEMbxvjk",
    "nbgrader": {
     "cell_type": "code",
     "checksum": "5098cbc4a79da3d7fe9c0a51c89b3aaf",
     "grade": true,
     "grade_id": "problem-9",
     "locked": false,
     "points": 2,
     "schema_version": 3,
     "solution": true,
     "task": false
    },
    "outputId": "e2ffc25c-e3c7-4e93-c89d-dce1b0581b90",
    "tags": []
   },
   "outputs": [],
   "source": [
    "# ENTER YOUR CODE IN THIS CELL\n",
    "\n"
   ]
  }
 ],
 "metadata": {
  "colab": {
   "authorship_tag": "ABX9TyN8FPHq4+K2A5ZFx8nPRGOJ",
   "provenance": [],
   "toc_visible": true
  },
  "kernelspec": {
   "display_name": "Python 3 (ipykernel)",
   "language": "python",
   "name": "python3"
  },
  "language_info": {
   "codemirror_mode": {
    "name": "ipython",
    "version": 3
   },
   "file_extension": ".py",
   "mimetype": "text/x-python",
   "name": "python",
   "nbconvert_exporter": "python",
   "pygments_lexer": "ipython3",
   "version": "3.11.4"
  }
 },
 "nbformat": 4,
 "nbformat_minor": 4
}
