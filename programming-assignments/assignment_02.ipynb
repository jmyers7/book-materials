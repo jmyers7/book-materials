{
 "cells": [
  {
   "cell_type": "markdown",
   "metadata": {
    "id": "fFNMqUApmL37"
   },
   "source": [
    "# Chapter 2: A case study in conditional probabilities and Bayes' Theorem\n",
    "\n",
    "In the heart of Aquilonia, a picturesque town nestled amidst rolling hills and lush greenery, a mysterious ailment plagues the citizens: *hydromechanical trepidation syndrome*, or *HTS*. This peculiar affliction instills in the townsfolk a perpetual fear, not of life's typical perils, but of the water fountains that adorn the town square.\n",
    "\n",
    "For generations, Aquilonians have lived harmoniously with the babbling brooks and glistening lakes that graced their idyllic landscape. Water had been their lifeblood, revered as a symbol of purity and serenity. But something had shifted; a shadow of dread had cast itself over their tranquil existence. Fear now gripped the townsfolk, causing them to cross the street to avoid passing too near a fountain. Even the town's cherished elder, Old Man Willoughby, found himself trembling at their sight.\n",
    "\n",
    "Amidst this despair, the town council turned to *you*, a statistician well-versed in epidemiology and the analysis of unusual outbreaks. *Your mission:* to assess the effectiveness of a newly developed test for detecting HTS in Aquilonia. Your role involves scrutinizing the test's accuracy and reliability in identifying those afflicted with this enigmatic ailment.\n"
   ]
  },
  {
   "cell_type": "markdown",
   "metadata": {
    "id": "zHdGAAEG0zPp"
   },
   "source": [
    "## Directions\n",
    "\n",
    "1. The programming assignment is organized into sequences of short problems. You can see the structure of the programming assignment by opening the \"Table of Contents\" along the left side of the notebook (if you are using Google Colab or Jupyter Lab).\n",
    "\n",
    "3. Each problem contains a blank cell containing the following comment: `# ENTER YOUR CODE IN THIS CELL`. Enter your code in these cells below the comment, being sure to not erase the comment. There are usually directions on the precise syntax that you will use to enter your solution properly. Please pay very careful attention to these directions.\n",
    "\n",
    "4. Below most of the solution cells are \"autograder\" cells. Do not alter the autograder cells in any way.\n",
    "\n",
    "5. Do not add any cells of your own to the notebook, or delete any existing cells (either code or markdown)."
   ]
  },
  {
   "cell_type": "markdown",
   "metadata": {
    "id": "9hFhwtNK024M"
   },
   "source": [
    "## Submission instructions\n",
    "\n",
    "1. Once you have finished entering all your solutions, you will want to rerun all cells from scratch to ensure that everything works OK. To do this in Google Colab, click \"Runtime -> Restart and run all\" along the top of the notebook.\n",
    "\n",
    "2. Now scroll back through your notebook and make sure that all code cells ran properly.\n",
    "\n",
    "3. If everything looks OK, save your assignment and upload the `.ipynb` file at the provided link on the course <a href=\"https://github.com/jmyers7/stats-book-materials\">GitHub repo</a>. Late submissions are not accepted.\n",
    "\n",
    "4. You may submit multiple times, but I will only grade your last submission."
   ]
  },
  {
   "cell_type": "markdown",
   "metadata": {
    "id": "DbW_nHBgbQHV"
   },
   "source": [
    "## Importing and exploring the data\n",
    "\n",
    "The new test for HTS was given to 10,000 Aquilonians. The results were tabulated and put into a `.csv` file in the course's GitHub repo. Our first task is to import the data into a Pandas dataframe called `df`:"
   ]
  },
  {
   "cell_type": "code",
   "execution_count": null,
   "metadata": {
    "id": "E2WFkVntpiWo"
   },
   "outputs": [],
   "source": [
    "import pandas as pd\n",
    "url = 'https://raw.githubusercontent.com/jmyers7/stats-book-materials/main/data/data-2-1.csv'\n",
    "df = pd.read_csv(url).set_index('cin')"
   ]
  },
  {
   "cell_type": "markdown",
   "metadata": {
    "id": "4b-4t1KZ6GaM"
   },
   "source": [
    "Let's print out the first 10 rows of the dataframe:"
   ]
  },
  {
   "cell_type": "code",
   "execution_count": null,
   "metadata": {
    "colab": {
     "base_uri": "https://localhost:8080/",
     "height": 394
    },
    "id": "2icwZSXMBPuM",
    "outputId": "e31b62bf-99f3-4582-ed91-a5bed7637299"
   },
   "outputs": [],
   "source": [
    "df.head(10)"
   ]
  },
  {
   "cell_type": "markdown",
   "metadata": {
    "id": "4mvdmDCAbumW"
   },
   "source": [
    "Let's also print out the number of rows in the dataframe using the `len` function, just to verify that there are 10,000 rows:"
   ]
  },
  {
   "cell_type": "code",
   "execution_count": null,
   "metadata": {
    "colab": {
     "base_uri": "https://localhost:8080/"
    },
    "id": "3tetAVWScNGs",
    "outputId": "afc1e71a-f333-4492-8478-049154c7eca8"
   },
   "outputs": [],
   "source": [
    "len(df)"
   ]
  },
  {
   "cell_type": "markdown",
   "metadata": {
    "id": "H9pinnGycOoX"
   },
   "source": [
    "We see that our dataframe consists of two columns called `t` and `d`. It also contains an index column called  `cin` which are _citizen identification numbers_ (CINs). These are the Aquilonian versions of our social security numbers.\n",
    "\n",
    "The `t` variable is a binary variable coding whether the person tested positive for HTS:\n",
    "\n",
    "$$\n",
    "t = \\begin{cases}\n",
    "0 & : \\text{test is negative}, \\\\\n",
    "1 & : \\text{test is positive}.\n",
    "\\end{cases}\n",
    "$$\n",
    "\n",
    "The `d` variable is also a binary variable, coding whether the person actually has HTS:\n",
    "\n",
    "$$\n",
    "d = \\begin{cases}\n",
    "0 & : \\text{citizen does not have HTS}, \\\\\n",
    "1 & : \\text{citizen has HTS}.\n",
    "\\end{cases}\n",
    "$$\n",
    "\n",
    "For example, we see from the first row in the dataframe that the person with CIN 388144 has $(t,d) = (0,0)$, which means that they do _not_ have HTS and they also tested negative.\n",
    "\n",
    "In fact, none of the people in the first ten rows of the dataframe have the disease, and they also all tested negative! This makes me wonder:\n",
    "\n",
    "* Has _anybody_ tested positive?\n",
    "* Does _anybody_ have the disease?\n",
    "\n",
    "Let's find out!"
   ]
  },
  {
   "cell_type": "markdown",
   "metadata": {
    "id": "g8oJ5yXWgPwh"
   },
   "source": [
    "### Problem 1 --- Has anybody tested positive?\n",
    "\n",
    "By using a boolean mask, pull the rows out of `df` for which `t == 1`. Assign the result to a new dataframe called `df_test`."
   ]
  },
  {
   "cell_type": "code",
   "execution_count": null,
   "metadata": {
    "deletable": false,
    "id": "3KrN2H49ggHK",
    "nbgrader": {
     "cell_type": "code",
     "checksum": "134b35e29e12e25f582145d34a13fa5c",
     "grade": false,
     "grade_id": "cell-2469b30826458254",
     "locked": false,
     "schema_version": 3,
     "solution": true,
     "task": false
    },
    "tags": []
   },
   "outputs": [],
   "source": [
    "# ENTER YOUR CODE IN THIS CELL\n",
    "\n"
   ]
  },
  {
   "cell_type": "code",
   "execution_count": null,
   "metadata": {
    "deletable": false,
    "editable": false,
    "nbgrader": {
     "cell_type": "code",
     "checksum": "e83d64f1ca6090cd29031ed11bba7e8b",
     "grade": true,
     "grade_id": "cell-3c7cf5c2d594d1a2",
     "locked": true,
     "points": 1,
     "schema_version": 3,
     "solution": false,
     "task": false
    },
    "tags": []
   },
   "outputs": [],
   "source": [
    "# Autograder cell. Do NOT alter or delete this cell.\n"
   ]
  },
  {
   "cell_type": "markdown",
   "metadata": {
    "id": "QvN0FzZRg5Iq"
   },
   "source": [
    "Now print out the number of rows in `df_test` by using the `len` function as I demonstrated above."
   ]
  },
  {
   "cell_type": "code",
   "execution_count": null,
   "metadata": {
    "colab": {
     "base_uri": "https://localhost:8080/"
    },
    "id": "goS6TkwghA-O",
    "outputId": "ffee8ebf-bcea-47b1-ea44-385d29d8f4cb"
   },
   "outputs": [],
   "source": [
    "# ENTER YOUR CODE IN THIS CELL\n",
    "\n"
   ]
  },
  {
   "cell_type": "markdown",
   "metadata": {
    "id": "Kwonx7fKhXGV"
   },
   "source": [
    "So, it turns out that there _are_ people in Aquilonia that have tested positive for HTS."
   ]
  },
  {
   "cell_type": "markdown",
   "metadata": {
    "id": "ac9wc_33h5CO"
   },
   "source": [
    "### Problem 2 --- Does anybody have HTS?\n",
    "\n",
    "We now want to repeat Problem 1, but by masking for the condition `d == 1`. Using a mask again, pull the rows out of `df` for which `d == 1` and save the result into a new dataframe called `df_disease`. You might also print the first ten rows by calling `df_disease.head(10)`."
   ]
  },
  {
   "cell_type": "code",
   "execution_count": null,
   "metadata": {
    "colab": {
     "base_uri": "https://localhost:8080/",
     "height": 394
    },
    "deletable": false,
    "id": "sPbszGb3iPHv",
    "nbgrader": {
     "cell_type": "code",
     "checksum": "59f741fb0a3e17d0aea99b12d555a411",
     "grade": false,
     "grade_id": "cell-61b7ac30c2e6552f",
     "locked": false,
     "schema_version": 3,
     "solution": true,
     "task": false
    },
    "outputId": "6075749c-d859-4312-87fb-6800097a2062",
    "tags": []
   },
   "outputs": [],
   "source": [
    "# ENTER YOUR CODE IN THIS CELL\n",
    "\n"
   ]
  },
  {
   "cell_type": "code",
   "execution_count": null,
   "metadata": {
    "deletable": false,
    "editable": false,
    "nbgrader": {
     "cell_type": "code",
     "checksum": "bf138d3d67bc312d60e6b083984d8e57",
     "grade": true,
     "grade_id": "cell-06641eb87cc6f429",
     "locked": true,
     "points": 1,
     "schema_version": 3,
     "solution": false,
     "task": false
    },
    "tags": []
   },
   "outputs": [],
   "source": [
    "# Autograder cell. Do NOT alter or delete this cell.\n"
   ]
  },
  {
   "cell_type": "markdown",
   "metadata": {
    "id": "p_Oow_Ujjmwj"
   },
   "source": [
    "Now get the number of rows in `df_disease` by calling the `len` function:"
   ]
  },
  {
   "cell_type": "code",
   "execution_count": null,
   "metadata": {
    "colab": {
     "base_uri": "https://localhost:8080/"
    },
    "id": "bzIojCLXjpsE",
    "outputId": "6505374a-afb1-4e19-f57a-f55cb35fee62"
   },
   "outputs": [],
   "source": [
    "# ENTER YOUR CODE IN THIS CELL\n",
    "\n"
   ]
  },
  {
   "cell_type": "markdown",
   "metadata": {
    "id": "bTbXjlBojRVt"
   },
   "source": [
    "We see that there is a disparity between the number of people who tested positive for HTS and the number of people who actually have the disease! This means that the test makes errors. We will count the number of errors in a later section, but first we need to check on Old Man Willoughby."
   ]
  },
  {
   "cell_type": "markdown",
   "metadata": {
    "id": "GhNA9ZDFJydy"
   },
   "source": [
    "### Problem 3 --- Old Man Willoughby\n",
    "\n",
    "Does Old Man Willoughby have HTS!?!??!!!?? I must know!\n",
    "\n",
    "In the next cell, index into the dataframe using Old Man Willoughby's CIN number 340870 and pull out the corresponding value for the `d` variable (*Hint*: Use the `.loc` method on the dataframe). Save your result into the variable `willoughby`. Also, print it out to see if he has HTS!"
   ]
  },
  {
   "cell_type": "code",
   "execution_count": null,
   "metadata": {
    "colab": {
     "base_uri": "https://localhost:8080/"
    },
    "deletable": false,
    "id": "UX0DgI-2KQYo",
    "nbgrader": {
     "cell_type": "code",
     "checksum": "99fa30470968965bb9f67fd87fab2efb",
     "grade": false,
     "grade_id": "cell-c1f3a3aa1acab625",
     "locked": false,
     "schema_version": 3,
     "solution": true,
     "task": false
    },
    "outputId": "bf70eb2a-e8c1-43d5-e4bb-3e3e25c03d49",
    "tags": []
   },
   "outputs": [],
   "source": [
    "# ENTER YOUR CODE IN THIS CELL\n",
    "\n"
   ]
  },
  {
   "cell_type": "code",
   "execution_count": null,
   "metadata": {
    "deletable": false,
    "editable": false,
    "nbgrader": {
     "cell_type": "code",
     "checksum": "6e3518081fafdbfd8a12dbf8c9d55029",
     "grade": true,
     "grade_id": "cell-e4db0e8cba52a5fe",
     "locked": true,
     "points": 1,
     "schema_version": 3,
     "solution": false,
     "task": false
    },
    "tags": []
   },
   "outputs": [],
   "source": [
    "# Autograder cell. Do NOT alter or delete this cell.\n"
   ]
  },
  {
   "cell_type": "markdown",
   "metadata": {
    "id": "pXjxt5QPmkqH"
   },
   "source": [
    "## Probability = Proportion\n",
    "\n",
    "We imagine that all 10,000 citizens in our dataframe make up the sample space $S$ of a uniform probability measure $P$. As $P$ is discrete, it has a PMF given by\n",
    "\n",
    "$$\n",
    "p(s) = \\frac{1}{10{,}000}\n",
    "$$\n",
    "\n",
    "where $s\\in S$. (You might also think of $s$ as a literal _row_ in the dataframe.)\n",
    "\n",
    "Thus, if $A$ is a subset of rows in the dataframe, we have\n",
    "\n",
    "$$\n",
    "P(A) = \\sum_{s\\in A} p(s) = \\frac{|A|}{10{,}000} \\tag{$\\ast$}\n",
    "$$\n",
    "\n",
    "where $|A|$ denotes the cardinality of $A$. But the ratio on the right-hand side of $(\\ast)$ is nothing but the proportion of rows in the dataframe that lie in the subset $A$."
   ]
  },
  {
   "cell_type": "markdown",
   "metadata": {
    "id": "lrLqGHqNoEDy"
   },
   "source": [
    "### Problem 4 --- Probability of testing positive\n",
    "\n",
    "Remember, you created the dataframe `df_test` above in Problem 1 by pulling out all rows for which `t == 1`. You also computed the number of rows in `df_test`. Using the formula ($\\ast$) above, compute the probability of testing positive, $P(t=1)$. Save your answer into the variable `test_prob`."
   ]
  },
  {
   "cell_type": "code",
   "execution_count": null,
   "metadata": {
    "deletable": false,
    "id": "zfM1ehhLpHxu",
    "nbgrader": {
     "cell_type": "code",
     "checksum": "e1c70b1d29a0ebe71602ab8238f9f437",
     "grade": false,
     "grade_id": "cell-c3f7b3bf881ec82f",
     "locked": false,
     "schema_version": 3,
     "solution": true,
     "task": false
    },
    "tags": []
   },
   "outputs": [],
   "source": [
    "# ENTER YOUR CODE IN THIS CELL\n",
    "\n"
   ]
  },
  {
   "cell_type": "code",
   "execution_count": null,
   "metadata": {
    "deletable": false,
    "editable": false,
    "nbgrader": {
     "cell_type": "code",
     "checksum": "8282f01caa1f9b6d92d12bf495ce3555",
     "grade": true,
     "grade_id": "cell-a357fd8c3c106ed6",
     "locked": true,
     "points": 1,
     "schema_version": 3,
     "solution": false,
     "task": false
    },
    "tags": []
   },
   "outputs": [],
   "source": [
    "# Autograder cell. Do NOT alter or delete this cell.\n"
   ]
  },
  {
   "cell_type": "markdown",
   "metadata": {
    "id": "B7hUgeinBBLv"
   },
   "source": [
    "Keep in mind that the probability $P(t=1)$ is nothing but the proportion of people in the dataframe who tested positive."
   ]
  },
  {
   "cell_type": "markdown",
   "metadata": {
    "id": "pZ3fceR7pTAc"
   },
   "source": [
    "### Problem 5 --- Probability of having HTS\n",
    "\n",
    "You also created the dataframe `df_disease` in Problem 2 by pulling out all rows for which `d == 1`. Using it, compute the probability of having HTS, $P(d=1)$. Save your answer into the variable `disease_prob`."
   ]
  },
  {
   "cell_type": "code",
   "execution_count": null,
   "metadata": {
    "deletable": false,
    "id": "S19pgxSlpfjU",
    "nbgrader": {
     "cell_type": "code",
     "checksum": "f02eb36849d1254cb62d847b73ae3877",
     "grade": false,
     "grade_id": "cell-5ced3aed76e5cf13",
     "locked": false,
     "schema_version": 3,
     "solution": true,
     "task": false
    },
    "tags": []
   },
   "outputs": [],
   "source": [
    "# ENTER YOUR CODE IN THIS CELL\n",
    "\n"
   ]
  },
  {
   "cell_type": "code",
   "execution_count": null,
   "metadata": {
    "deletable": false,
    "editable": false,
    "nbgrader": {
     "cell_type": "code",
     "checksum": "20398ea2359577ad4ad4d548c9f6b5e8",
     "grade": true,
     "grade_id": "cell-c9fdd97633f029ff",
     "locked": true,
     "points": 1,
     "schema_version": 3,
     "solution": false,
     "task": false
    },
    "tags": []
   },
   "outputs": [],
   "source": [
    "# Autograder cell. Do NOT alter or delete this cell.\n"
   ]
  },
  {
   "cell_type": "markdown",
   "metadata": {
    "id": "KBJsboDnBHEA"
   },
   "source": [
    "Keep in mind that the probability $P(d=1)$ is the proportion of people in the dataframe that have HTS."
   ]
  },
  {
   "cell_type": "markdown",
   "metadata": {
    "id": "fVVvITqKkcMU"
   },
   "source": [
    "## Quantifying test reliability\n",
    "\n",
    "There are four combinations for the $t$'s and $d$'s:\n",
    "\n",
    "$$\n",
    "(t,d) = (1, 1), \\ (0, 0), \\ (1, 0), \\ (0, 1).\n",
    "$$\n",
    "\n",
    "The first two combinations correspond to a _true positive_ (_TP_) and _true negative_ (_TN_), respectively. The third and fourth combinations correspond to a _false positive_ (_FP_) and _false negative_ (_FN_), respectively. False positives and false negatives are the two different types of errors that the test may make.\n",
    "\n",
    "(By the way, false positives are also called _type I errors_, and false negatives are also called _type II errors_.)\n",
    "\n"
   ]
  },
  {
   "cell_type": "markdown",
   "metadata": {
    "id": "ggYMxEhAp9VW"
   },
   "source": [
    "### Problem 6 --- True positive rate\n",
    "\n",
    "The _true positive rate_ (_TPR_) of the test is the conditional probability\n",
    "\n",
    "$$\n",
    "P(t = 1 | d=1) = \\frac{P(t=1, d=1)}{P(d=1)}.\n",
    "$$\n",
    "\n",
    "Thus, the TPR is the probability that a person tests positive, _given_ that they have HTS.\n",
    "\n",
    "You already computed the probability $P(d=1)$ in Problem 4 above and saved it into the variable `disease_prob`. So, to compute the TPR, we need only compute the (joint) probability in the numerator. To do this, create a boolean mask for the conditions `t == 1` **and** `d == 1`. Use it to index into `df` to pull out the rows with $(t,d)=(1,1)$. Save the result into a new dataframe called `df_joint`."
   ]
  },
  {
   "cell_type": "code",
   "execution_count": null,
   "metadata": {
    "deletable": false,
    "id": "qNaw-ljpqoje",
    "nbgrader": {
     "cell_type": "code",
     "checksum": "82686ee69400da686d3bb6ec30c15730",
     "grade": false,
     "grade_id": "cell-bdc85b0380b8ff61",
     "locked": false,
     "schema_version": 3,
     "solution": true,
     "task": false
    },
    "tags": []
   },
   "outputs": [],
   "source": [
    "# ENTER YOUR CODE IN THIS CELL\n",
    "\n"
   ]
  },
  {
   "cell_type": "code",
   "execution_count": null,
   "metadata": {
    "deletable": false,
    "editable": false,
    "nbgrader": {
     "cell_type": "code",
     "checksum": "b7f125e1be4d73f1b666adb94dbe4464",
     "grade": true,
     "grade_id": "cell-1c6aba49224857d0",
     "locked": true,
     "points": 1,
     "schema_version": 3,
     "solution": false,
     "task": false
    },
    "tags": []
   },
   "outputs": [],
   "source": [
    "# Autograder cell. Do NOT alter or delete this cell.\n"
   ]
  },
  {
   "cell_type": "markdown",
   "metadata": {
    "id": "4YZMqeaVq2j2"
   },
   "source": [
    "Using `df_joint`, compute the probability $P(t=1, d=1)$. Save your answer into the variable `joint_prob`."
   ]
  },
  {
   "cell_type": "code",
   "execution_count": null,
   "metadata": {
    "deletable": false,
    "id": "C9edglBlrEv7",
    "nbgrader": {
     "cell_type": "code",
     "checksum": "377b7760840e24014013586624f6d9e2",
     "grade": false,
     "grade_id": "cell-33d82b11e2887821",
     "locked": false,
     "schema_version": 3,
     "solution": true,
     "task": false
    },
    "tags": []
   },
   "outputs": [],
   "source": [
    "# ENTER YOUR CODE IN THIS CELL\n",
    "\n"
   ]
  },
  {
   "cell_type": "code",
   "execution_count": null,
   "metadata": {
    "deletable": false,
    "editable": false,
    "nbgrader": {
     "cell_type": "code",
     "checksum": "f675632daf29ad9cfd510f74ea042b27",
     "grade": true,
     "grade_id": "cell-91da12cdd4401b9c",
     "locked": true,
     "points": 1,
     "schema_version": 3,
     "solution": false,
     "task": false
    },
    "tags": []
   },
   "outputs": [],
   "source": [
    "# Autograder cell. Do NOT alter or delete this cell.\n"
   ]
  },
  {
   "cell_type": "markdown",
   "metadata": {
    "id": "Mbpp2FzmrItV"
   },
   "source": [
    "Finally, compute the TPR using `joint_prob`, `disease_prob`, and the formula above. Save your result into the variable `tpr`."
   ]
  },
  {
   "cell_type": "code",
   "execution_count": null,
   "metadata": {
    "deletable": false,
    "id": "gH450kx1rSGI",
    "nbgrader": {
     "cell_type": "code",
     "checksum": "a06e3fd5eb4e4db2dae80731ad3fd77f",
     "grade": false,
     "grade_id": "cell-9943afa6bfe9d942",
     "locked": false,
     "schema_version": 3,
     "solution": true,
     "task": false
    },
    "tags": []
   },
   "outputs": [],
   "source": [
    "# ENTER YOUR CODE IN THIS CELL\n",
    "\n"
   ]
  },
  {
   "cell_type": "code",
   "execution_count": null,
   "metadata": {
    "deletable": false,
    "editable": false,
    "nbgrader": {
     "cell_type": "code",
     "checksum": "5ebe641715bc78f79f02e04996e0912c",
     "grade": true,
     "grade_id": "cell-43b3c60ea38696bb",
     "locked": true,
     "points": 1,
     "schema_version": 3,
     "solution": false,
     "task": false
    },
    "tags": []
   },
   "outputs": [],
   "source": [
    "# Autograder cell. Do NOT alter or delete this cell.\n"
   ]
  },
  {
   "cell_type": "markdown",
   "metadata": {
    "id": "dxd2vdbVCKof"
   },
   "source": [
    "You just computed `joint_prob` as\n",
    "\n",
    "$$\n",
    "P(t=1, d=1) = \\frac{|\\{\\text{rows with $(t,d)=(1,1)$}\\}|}{10{,}000}\n",
    "$$\n",
    "\n",
    "and then divided it by\n",
    "\n",
    "$$\n",
    "P(d=1) = \\frac{|\\{\\text{rows with $d=1$}\\}|}{10{,}000}\n",
    "$$\n",
    "\n",
    "to get the TPR. But when you do this, both of the $10{,}000$'s will cancel, leaving you with\n",
    "\n",
    "$$\n",
    "P(t=1|d=1) = \\frac{|\\{\\text{rows with $(t,d)=(1,1)$}\\}|}{|\\{\\text{rows with $d=1$}\\}|}. \\tag{$\\dagger$}\n",
    "$$\n",
    "\n",
    "Using this _new_, simplified formula for the TPR along with your dataframes `df_joint` and `df_disease`, compute the TPR one more time and save it into the variable `tpr_new`."
   ]
  },
  {
   "cell_type": "code",
   "execution_count": null,
   "metadata": {
    "deletable": false,
    "id": "SHTQaz6eDEcg",
    "nbgrader": {
     "cell_type": "code",
     "checksum": "b43725a6f297367aec4ca2bc37e0c108",
     "grade": false,
     "grade_id": "cell-3e2572c4a634bb26",
     "locked": false,
     "schema_version": 3,
     "solution": true,
     "task": false
    },
    "tags": []
   },
   "outputs": [],
   "source": [
    "# ENTER YOUR CODE IN THIS CELL\n",
    "\n"
   ]
  },
  {
   "cell_type": "code",
   "execution_count": null,
   "metadata": {
    "deletable": false,
    "editable": false,
    "nbgrader": {
     "cell_type": "code",
     "checksum": "7d615f81fc8e11b70d27d30aec34b794",
     "grade": true,
     "grade_id": "cell-2c17101279df9c83",
     "locked": true,
     "points": 1,
     "schema_version": 3,
     "solution": false,
     "task": false
    },
    "tags": []
   },
   "outputs": [],
   "source": [
    "# Autograder cell. Do NOT alter or delete this cell.\n"
   ]
  },
  {
   "cell_type": "markdown",
   "metadata": {
    "id": "tEQy-8BNDNAs"
   },
   "source": [
    "Make sure to print out `tpr_new` to check that it matches `tpr`!\n",
    "\n",
    "The formula $(\\dagger)$ is interesting because it shows that $P(t=1 | d=1)$ is just the proportion of people in the dataframe that have tested positive drawn from the set of all people who have the disease."
   ]
  },
  {
   "cell_type": "markdown",
   "metadata": {
    "id": "Nqek3sYUstpR"
   },
   "source": [
    "### Problem 7 --- True negative rate\n",
    "\n",
    "The _true negative rate_ (_TNR_) of the test is the conditional probability\n",
    "\n",
    "$$\n",
    "P(t=0 | d=0) = \\frac{P(t=0, d=0)}{P(d=0)}.\n",
    "$$\n",
    "\n",
    "Both of the probabilities on the right-hand side are proportions out of $10{,}000$, and so a simplified formula for the TNR is\n",
    "\n",
    "$$\n",
    "P(t=0 | d=0) = \\frac{|\\{\\text{rows with $(t,d)=(0,0)$}\\}|}{|\\{\\text{rows with $d=0$}\\}|}.\n",
    "$$\n",
    "\n",
    "Now, you already know how many rows in the dataframe have $d=0$, because this is equal to\n",
    "\n",
    "$$\n",
    "|\\{\\text{rows with $d=0$}\\}| = 10{,}000 - |\\{\\text{rows with $d=1$}\\}|,\n",
    "$$\n",
    "\n",
    "and the cardinality on the right-hand side is exactly the number of rows in `df_disease`. Using this formula, compute the number of rows in `df` that have $d=0$. Save your answer into the variable `nodisease_card`.\n"
   ]
  },
  {
   "cell_type": "code",
   "execution_count": null,
   "metadata": {
    "deletable": false,
    "id": "hHwWbPhltLMs",
    "nbgrader": {
     "cell_type": "code",
     "checksum": "c0b2b1f2e267a595f56f2db8b6a449a4",
     "grade": false,
     "grade_id": "cell-e967936a07c8e6eb",
     "locked": false,
     "schema_version": 3,
     "solution": true,
     "task": false
    },
    "tags": []
   },
   "outputs": [],
   "source": [
    "# ENTER YOUR CODE IN THIS CELL\n",
    "\n"
   ]
  },
  {
   "cell_type": "code",
   "execution_count": null,
   "metadata": {
    "deletable": false,
    "editable": false,
    "nbgrader": {
     "cell_type": "code",
     "checksum": "fd459985769ce17c3a3e372c4fd95a7f",
     "grade": true,
     "grade_id": "cell-8513254802561e77",
     "locked": true,
     "points": 1,
     "schema_version": 3,
     "solution": false,
     "task": false
    },
    "tags": []
   },
   "outputs": [],
   "source": [
    "# Autograder cell. Do NOT alter or delete this cell.\n"
   ]
  },
  {
   "cell_type": "markdown",
   "metadata": {
    "id": "ub6BsVSAtXZL"
   },
   "source": [
    "Now, pull the rows out of `df` for which `t == 0` **and** `d == 0`. Save your result into the variable `df_joint`. (You are overwriting the old `df_joint`.)"
   ]
  },
  {
   "cell_type": "code",
   "execution_count": null,
   "metadata": {
    "deletable": false,
    "id": "xGQ13a53ttJZ",
    "nbgrader": {
     "cell_type": "code",
     "checksum": "f1c9f295934b3cc5a78de3b1d266f628",
     "grade": false,
     "grade_id": "cell-3636a01909919758",
     "locked": false,
     "schema_version": 3,
     "solution": true,
     "task": false
    },
    "tags": []
   },
   "outputs": [],
   "source": [
    "# ENTER YOUR CODE IN THIS CELL\n",
    "\n"
   ]
  },
  {
   "cell_type": "code",
   "execution_count": null,
   "metadata": {
    "deletable": false,
    "editable": false,
    "nbgrader": {
     "cell_type": "code",
     "checksum": "cf4a9ab627e089d4b19bd0139984cf01",
     "grade": true,
     "grade_id": "cell-2f8a161fe7748b5c",
     "locked": true,
     "points": 1,
     "schema_version": 3,
     "solution": false,
     "task": false
    },
    "tags": []
   },
   "outputs": [],
   "source": [
    "# Autograder cell. Do NOT alter or delete this cell.\n"
   ]
  },
  {
   "cell_type": "markdown",
   "metadata": {
    "id": "UwgV7LPMt9j_"
   },
   "source": [
    "Use `nodisease_card` and the length of `df_joint` to compute the TNR. Save your result into the variable `tnr`."
   ]
  },
  {
   "cell_type": "code",
   "execution_count": null,
   "metadata": {
    "deletable": false,
    "id": "L_hO4A9ft4k4",
    "nbgrader": {
     "cell_type": "code",
     "checksum": "990a3f4faa03badef8bab2fe14ba2d4e",
     "grade": false,
     "grade_id": "cell-01028d697faf08a3",
     "locked": false,
     "schema_version": 3,
     "solution": true,
     "task": false
    },
    "tags": []
   },
   "outputs": [],
   "source": [
    "# ENTER YOUR CODE IN THIS CELL\n",
    "\n"
   ]
  },
  {
   "cell_type": "code",
   "execution_count": null,
   "metadata": {
    "deletable": false,
    "editable": false,
    "nbgrader": {
     "cell_type": "code",
     "checksum": "bb1ca9cc6d102a9add055f8f9164d378",
     "grade": true,
     "grade_id": "cell-4dd1bfd15e41e7c1",
     "locked": true,
     "points": 1,
     "schema_version": 3,
     "solution": false,
     "task": false
    },
    "tags": []
   },
   "outputs": [],
   "source": [
    "# Autograder cell. Do NOT alter or delete this cell.\n"
   ]
  },
  {
   "cell_type": "markdown",
   "metadata": {
    "id": "Q2_SgBiiHFbI"
   },
   "source": [
    "## Quantifying test errors\n",
    "\n",
    "Obviously, you want the true positive and true negative rates for the test to be as close to $1$ as possible.\n",
    "\n",
    "On the other hand, you want the rates at which the test makes errors to be as close to $0$ as possible. There are two such rates, called the _false positive rate_ (_FPR_) and the _false negative rate_ (_FNR_). Fortunately, they are easily obtainable via the formulas\n",
    "\n",
    "$$\n",
    "FPR = 1 - TNR\n",
    "$$\n",
    "\n",
    "and\n",
    "\n",
    "$$\n",
    "FNR = 1 - TPR.\n",
    "$$"
   ]
  },
  {
   "cell_type": "markdown",
   "metadata": {
    "id": "6El2vAYkH-8J"
   },
   "source": [
    "### Problem 8 --- Error rates\n",
    "\n",
    "Using the formulas just given, compute the FPR and FNR using `tnr` and `tpr` from above. Compute both of these quantities in a single cell, saving them into variables called `fpr` and `fnr`."
   ]
  },
  {
   "cell_type": "code",
   "execution_count": null,
   "metadata": {
    "deletable": false,
    "id": "b4xfUlaUII7_",
    "nbgrader": {
     "cell_type": "code",
     "checksum": "03e80322fa15f34688a8de4523df9d4a",
     "grade": false,
     "grade_id": "cell-ce21c07cb5e1a557",
     "locked": false,
     "schema_version": 3,
     "solution": true,
     "task": false
    },
    "tags": []
   },
   "outputs": [],
   "source": [
    "# ENTER YOUR CODE IN THIS CELL\n",
    "\n"
   ]
  },
  {
   "cell_type": "code",
   "execution_count": null,
   "metadata": {
    "deletable": false,
    "editable": false,
    "nbgrader": {
     "cell_type": "code",
     "checksum": "aefec3e6a010a036450e2e86b14d84aa",
     "grade": true,
     "grade_id": "cell-42e272db4ccd2043",
     "locked": true,
     "points": 1,
     "schema_version": 3,
     "solution": false,
     "task": false
    },
    "tags": []
   },
   "outputs": [],
   "source": [
    "# Autograder cell. Do NOT alter or delete this cell.\n"
   ]
  },
  {
   "cell_type": "markdown",
   "metadata": {
    "id": "oN47ZvTAE1GM"
   },
   "source": [
    "## More information has arrived!\n",
    "\n",
    "More research suggests that citizens in Northern Aquilonia are more likely to suffer from HTS than citizens who live in other parts of the town. It has also been determined that citizens who have had HTS previously are less likely to _currently_ have HTS, since they have built up some internal immunity.\n",
    "\n",
    "Let's code these new variables as follows. We let $n$ represent the following binary variable:\n",
    "\n",
    "$$\n",
    "n = \\begin{cases}\n",
    "0 & : \\text{citizen does not live in Northern Aquilonia,} \\\\\n",
    "1 & : \\text{citizen does live in Northern Aquilonia,}\n",
    "\\end{cases}\n",
    "$$\n",
    "\n",
    "and we let $r$ represent the following binary variable:\n",
    "\n",
    "$$\n",
    "r = \\begin{cases}\n",
    "0 & : \\text{citizen has not had HTS in the past,} \\\\\n",
    "1 & : \\text{citizen has had HTS in the past.}\n",
    "\\end{cases}\n",
    "$$\n",
    "\n",
    "We now have four binary variables: the original $t$ and $d$, as well as $n$ and $r$. We can visualize the \"flow of influence\" between these four variables as in the following figure:\n",
    "\n",
    "<center>\n",
    "<img src=\"https://github.com/jmyers7/stats-book-materials/blob/1d56e0c30ca219c908404e5191a218db54a8bb8c/img/pgm.svg?raw=true\" width=\"400\" align=\"center\">\n",
    "</center>\n",
    "\n",
    "Our goal over the rest of the assignment is to compute the conditional probability\n",
    "\n",
    "$$\n",
    "P\\big(d= 1 | t=1, n=1, r=0\\big).\n",
    "$$\n",
    "\n",
    "This is the probability that a person has HTS, given that they test positive, they live in Northern Aquilonia, and they have not had HTS before. We want to compare this probability to\n",
    "\n",
    "$$\n",
    "P(d=1 | t=1),\n",
    "$$\n",
    "\n",
    "which is the probability that a person has HTS, given that they have tested positive, but _without_ the additional information brought by the $n$ and $r$ variables. These types of probabilities are called _precisions_, so we want to see how $n=1$ and $r=0$ affect the precision of the test."
   ]
  },
  {
   "cell_type": "markdown",
   "metadata": {
    "id": "Ln5G3KHGPQ_T"
   },
   "source": [
    "### Problem 9 --- Precision, part 1\n",
    "\n",
    "Use <a href=\"https://mml.johnmyersmath.com/stats-book/chapters/rules-of-prob.html#the-law-of-total-probability-and-bayes-theorem\">Bayes' Theorem</a> to compute the precision $P(d=1 | t=1)$ in _one_ line of code. Use the saved variables `tpr`, `fpr`, and `disease_prob` from above. Save your answer into the variable `precision`."
   ]
  },
  {
   "cell_type": "code",
   "execution_count": null,
   "metadata": {
    "deletable": false,
    "id": "d9GYtH0WPEbT",
    "nbgrader": {
     "cell_type": "code",
     "checksum": "39624bf7331f372f8455f07b579f3054",
     "grade": false,
     "grade_id": "cell-a502f95a221eb314",
     "locked": false,
     "schema_version": 3,
     "solution": true,
     "task": false
    },
    "tags": []
   },
   "outputs": [],
   "source": [
    "# ENTER YOUR CODE IN THIS CELL\n",
    "\n"
   ]
  },
  {
   "cell_type": "code",
   "execution_count": null,
   "metadata": {
    "deletable": false,
    "editable": false,
    "nbgrader": {
     "cell_type": "code",
     "checksum": "d8ec9791c67cabd75b9e98671cdc54f6",
     "grade": true,
     "grade_id": "cell-79f1a8711d2f8d13",
     "locked": true,
     "points": 1,
     "schema_version": 3,
     "solution": false,
     "task": false
    },
    "tags": []
   },
   "outputs": [],
   "source": [
    "# Autograder cell. Do NOT alter or delete this cell.\n"
   ]
  },
  {
   "cell_type": "markdown",
   "metadata": {
    "id": "6OiCF00vN3TG"
   },
   "source": [
    "Print out `precision` for your own information, so you can compare it to the precision computed in the next problem."
   ]
  },
  {
   "cell_type": "markdown",
   "metadata": {
    "id": "rG5b1HtrPtXo"
   },
   "source": [
    "## Conditional Bayes\n",
    "\n",
    "In order to compute the precision _with_ $n=1$ and $r=0$, we need to use a more advanced form of Bayes' Theorem given by\n",
    "\n",
    "$$\n",
    "P\\big(d=1 | t=1, n=1, r=0\\big) = \\frac{P\\big(t=1 | d=1, n=1, r=0\\big)P\\big(d=1 | n=1, r=0\\big)}{P\\big(t=1|n=1,r=0\\big)}.\n",
    "$$\n",
    "\n",
    "Notice that this is essentially the simple version of Bayes' Theorem we discussed in class, but with the string \"$n=1, r=0$\" added everywhere on the right side of the conditioning bar. Therefore, this might be called a _conditional_ form of Bayes' Theorem.\n",
    "\n",
    "We need to alter this version of Bayes' Theorem a little in order to use it.\n",
    "\n",
    "* First, because of the direction of the \"flow of influence\" in the diagram above, the first factor in the numerator of Bayes' Theorem may be written as\n",
    "\n",
    "  $$\n",
    "  P\\big(t=1 | d=1, n=1, r=0\\big) = P(t=1 | d=1).\n",
    "  $$\n",
    "\n",
    "  This equation is actually an assumption built into the model---you can just take it for granted. Essentially, it says that the variable $t$ is (conditionally) independent of $n$ and $r$, _given_ the value $d=1$. This reflects the fact that $n$ and $r$ do _not_ directly influence $t$. Rather, they influence $t$ only through $d$, but if $d$ is assumed to have a given value, the influence of $n$ and $r$ is blocked. (Look up <a href=\"https://en.wikipedia.org/wiki/Bayesian_network\">Bayesian network</a> if you want to see more detail.)\n",
    "\n",
    "* Second, in order to compute the denominator of the conditional form of Bayes' Theorem, we also need a _conditional_ form of the <a href=\"https://mml.johnmyersmath.com/stats-book/chapters/rules-of-prob.html#the-law-of-total-probability-and-bayes-theorem\">Law of Total Probability</a>:\n",
    "\n",
    "  $$\n",
    "  P\\big(t=1|n=1, r=0\\big) =  P\\big(t=1 | d=1\\big)P\\big(d=1 | n=1, r=0\\big) + P\\big(t=1 | d=0\\big)P\\big(d=0 | n=1, r=0\\big).\n",
    "  $$\n",
    "\n",
    "Making these substitutions, we see that our conditional form of Bayes' Theorem may be written as\n",
    "\n",
    "$$\n",
    "P\\big(d=1 | t=1, n=1, r=0\\big) = \\frac{P(t=1 | d=1)P\\big(d=1 | n=1, r=0\\big)}{P\\big(t=1 | d=1\\big)P\\big(d=1 | n=1, r=0\\big) + P\\big(t=1 | d=0\\big)P\\big(d=0 | n=1, r=0\\big)}.\n",
    "$$\n",
    "\n",
    "This is the form of the theorem that we will use in our code."
   ]
  },
  {
   "cell_type": "markdown",
   "metadata": {
    "id": "lEKLxFOmMbC7"
   },
   "source": [
    "### Problem 10 --- Precision, part 2\n",
    "\n",
    "Notice that the only unknown factors in the conditional form of Bayes' Theorem are the probabilities\n",
    "\n",
    "$$\n",
    "P\\big( d=1 | n=1, r=0 \\big) \\quad \\text{and} \\quad P\\big( d=0 | n=1, r=0 \\big).\n",
    "$$\n",
    "\n",
    "Luckily, you do not need to find these probabilities yourself: You are told by medical experts that the first one is equal to $5\\%$. From this, you can easily compute the second one. What is it?\n",
    "\n",
    "Once you answer that question, use the conditional form of Bayes' Theorem along with the values stored in the variables `tpr` and `fpr` to compute the probability\n",
    "\n",
    "$$\n",
    "P\\big(d=1 | t=1, n=1, r=0\\big).\n",
    "$$\n",
    "\n",
    "Do this in _one_ line of code, and save your result into the variable `precision_nr`."
   ]
  },
  {
   "cell_type": "code",
   "execution_count": null,
   "metadata": {
    "deletable": false,
    "id": "zGSVPJz4QqkI",
    "nbgrader": {
     "cell_type": "code",
     "checksum": "f348e2989f76198d27dd160165a525d1",
     "grade": false,
     "grade_id": "cell-c3094e62344a6715",
     "locked": false,
     "schema_version": 3,
     "solution": true,
     "task": false
    },
    "tags": []
   },
   "outputs": [],
   "source": [
    "# ENTER YOUR CODE IN THIS CELL\n",
    "\n"
   ]
  },
  {
   "cell_type": "code",
   "execution_count": null,
   "metadata": {
    "deletable": false,
    "editable": false,
    "nbgrader": {
     "cell_type": "code",
     "checksum": "36fd65a654e066bafe40aaec108dd6d5",
     "grade": true,
     "grade_id": "cell-65e6a210e8b22668",
     "locked": true,
     "points": 1,
     "schema_version": 3,
     "solution": false,
     "task": false
    },
    "tags": []
   },
   "outputs": [],
   "source": [
    "# Autograder cell. Do NOT alter or delete this cell.\n"
   ]
  },
  {
   "cell_type": "markdown",
   "metadata": {
    "id": "Zn5_qe2_NYfB"
   },
   "source": [
    "Make sure to print out `precision_nr` to compre it to `precision`! You should notice that the conditions $n=1$ and $r=0$ have a _big_ influence on the difference between these two precisions."
   ]
  }
 ],
 "metadata": {
  "colab": {
   "provenance": [],
   "toc_visible": true
  },
  "kernelspec": {
   "display_name": "Python 3 (ipykernel)",
   "language": "python",
   "name": "python3"
  },
  "language_info": {
   "codemirror_mode": {
    "name": "ipython",
    "version": 3
   },
   "file_extension": ".py",
   "mimetype": "text/x-python",
   "name": "python",
   "nbconvert_exporter": "python",
   "pygments_lexer": "ipython3",
   "version": "3.11.4"
  }
 },
 "nbformat": 4,
 "nbformat_minor": 4
}
